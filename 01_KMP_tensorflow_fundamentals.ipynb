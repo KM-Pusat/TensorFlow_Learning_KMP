{
  "nbformat": 4,
  "nbformat_minor": 0,
  "metadata": {
    "colab": {
      "provenance": [],
      "collapsed_sections": [
        "fzjcZ4FHCOb5"
      ],
      "gpuClass": "premium",
      "include_colab_link": true
    },
    "kernelspec": {
      "name": "python3",
      "display_name": "Python 3"
    },
    "accelerator": "GPU",
    "gpuClass": "premium"
  },
  "cells": [
    {
      "cell_type": "markdown",
      "metadata": {
        "id": "view-in-github",
        "colab_type": "text"
      },
      "source": [
        "<a href=\"https://colab.research.google.com/github/KM-Pusat/TensorFlow_Learning_KMP/blob/main/01_KMP_tensorflow_fundamentals.ipynb\" target=\"_parent\"><img src=\"https://colab.research.google.com/assets/colab-badge.svg\" alt=\"Open In Colab\"/></a>"
      ]
    },
    {
      "cell_type": "markdown",
      "metadata": {
        "id": "ielzxn52r2CB"
      },
      "source": [
        "# 01. Getting started with TensorFlow: Panduan untuk memahami fundamental TensorFlow\n",
        "\n",
        "## Apa itu TensorFlow?\n",
        "\n",
        "[TensorFlow](https://www.tensorflow.org/) adalah open-source end-to-end library machine learning  untuk memproses data (**preprocessing data**), membuat model (**modelling data**) dan menyajikan model (**memberikan model yang sudah di buat ke client atau orang lain**).\n",
        "\n",
        "## Mengapa menggunakan TensorFlow?\n",
        "\n",
        "Jika dibandingkan dengan membuat model machine learing dan deep learning dari awal, jauh lebih cepat dan mudah jika kita menggunakan library python seperti TensorFlow. Hal ini dikarenakan TensorFlow banyak memuat fungsi machine learning yang paling umum digunakan.\n",
        "\n",
        "## Apa yang akan dibahas\n",
        "\n",
        "TensorFlow sangatlah luas. Namun premisnya sangat simpel: mengubah data menjadi angka (**tensors**) dan membuat algoritma machine learning untuk menemukan pola dari **tensor** tersebut.\n",
        "\n",
        "Di dalam notebook (hands-on) ini kita akan membahas beberapa operasi paling dasar (Fundamental) dalam operasi TensorFlow, lebih spesifiknya:\n",
        "* Pengertian apa itu tensor (membuat tensors)\n",
        "* Mendapatkan informasi dari tensor (atribut tensor)\n",
        "* Memanipulasi tensor (operasi TensorFlow)\n",
        "* Tensors dan NumPy\n",
        "* Menggunakan @tf.function (cara untuk meningkatkan kecepatan eksekusi program fungsi suatu Python)\n",
        "* Menggunakan GPUs dengan TensorFlow\n",
        "* Latihan\n",
        "\n",
        "Catatan:\n",
        "* Banyak sekali kode yang akan dieksekusi akan otomatis berkerja di balik layar (ketika membuat model) tapi layak untuk diketahui sehingga jika kalian melihat salah satu dari hal-hal ini, Kalian tahu apa yang terjadi.\n",
        "* Untuk semua fungsi TensorFlow yang kalian lihat, akan sangat penting untuk melihat dan mengecek dokumentasi, sebagai contoh, pergi ke Python API docs untuk semua fungsi dan cari apa saja yang kamu perlukan: https://www.tensorflow.org/api_docs/python/ (jangan khawatir memang agak budreg di awal, tetapi dengan latihan yang cukup, kalian akan terbiasa menavigasi dokumentasi tersebut)."
      ]
    },
    {
      "cell_type": "code",
      "source": [
        "# Create timestamp\n",
        "import datetime\n",
        "\n",
        "print(f\"Notebook terkahir dijalankan (end-to-end): {datetime.datetime.now()}\")"
      ],
      "metadata": {
        "colab": {
          "base_uri": "https://localhost:8080/"
        },
        "id": "PdXtFSY13JWv",
        "outputId": "cf43eac6-990b-40cb-c65d-862e8ad31c33"
      },
      "execution_count": null,
      "outputs": [
        {
          "output_type": "stream",
          "name": "stdout",
          "text": [
            "Notebook terkahir dijalankan (end-to-end): 2023-05-24 10:15:35.604079\n"
          ]
        }
      ]
    },
    {
      "cell_type": "markdown",
      "metadata": {
        "id": "VArmDlu06sH0"
      },
      "source": [
        "## Pengertian apa itu Tensors\n",
        "\n",
        "Jika kalian pernah menggunakan NumPy, [tensors](https://www.tensorflow.org/guide/tensor) hampir seperti NumPy arrays (kita akan melihatnya nanti).\n",
        "\n",
        "Untuk memahami notebook (hands-on) dan kedepannya, kalian dapat membayangkan tensor sebagai sebuah multi-dimensional numerical representation (juga dapat disebut sebagai n-dimensional, dimana n dapat berupa angka berapapun) dari sesuatu. Yang dimana sesuatu tersebut dapat berupa apa saja yang dapat kalian bayangkan:\n",
        "* Bisa saja dapat berupa angka itu sendiri (menggunakan tensor untuk mewakili harga rumah).\n",
        "* Bisa saja berupa gambar (menggunakan tensors untuk mewakili pixels suatu gambar).\n",
        "* Bisa saja berupa teks (menggunakan tensor untuk mewakili kata).\n",
        "* Atau bisa saja berupa bentuk lain dari suatu informasi (atau data) yang ingin kalian wakilkan dengan angka.\n",
        "\n",
        "Perbedaan paling mendasar dari tensor dan NumPy arrays (juga merupakan n-dimensional array of numbers) adalah tensor dapat mengambil resource (dieksekusi) dari [GPUs (graphical processing units)](https://blogs.nvidia.com/blog/2009/12/16/whats-the-difference-between-a-cpu-and-a-gpu/) dan [TPUs (tensor processing units)](https://en.wikipedia.org/wiki/Tensor_processing_unit).\n",
        "\n",
        "Keuntungan yang didapatkan jika dapat dijalankan dengan GPUs dan TPUs adalah komputasi atau perhitungan yang jauh lebih cepat, ini berarti, jika kita ingin menemukan pola dalam representasi numerical dari data kita, kita dapat menemukannya dengan lebih cepat jika menggunakan GPUs dan TPUs.\n",
        "\n",
        "Okay, kita sudah cukup banyak berbicara tentang tensor, sekarang mari kita ngoding.\n",
        "\n",
        "Hal pertama yang harus dilakukan adalah mengimport TensorFlow yang biasanya dialiaskan dengan `tf`."
      ]
    },
    {
      "cell_type": "code",
      "metadata": {
        "id": "Z7ieIu8t9ijY",
        "colab": {
          "base_uri": "https://localhost:8080/"
        },
        "outputId": "b3321e11-4bb5-450e-dd12-6876a3fb6cc3"
      },
      "source": [
        "# Import TensorFlow\n",
        "import tensorflow as tf\n",
        "print(tf.__version__) # menampilkan versi TensorFlow"
      ],
      "execution_count": null,
      "outputs": [
        {
          "output_type": "stream",
          "name": "stdout",
          "text": [
            "2.12.0\n"
          ]
        }
      ]
    },
    {
      "cell_type": "markdown",
      "metadata": {
        "id": "JNtV5t1qz0VP"
      },
      "source": [
        "### Membuat tensor dengan `tf.constant()`\n",
        "\n",
        "Seperti yang sudah dijelaskan sebelumnya, umumnya kaliian tidak selalu membuat tensors sendiri. Hal ini karena TensorFlow memiliki modul bawaan (modules built-in) (seperti [`tf.io`](https://www.tensorflow.org/api_docs/python/tf/io) dan [`tf.data`](https://www.tensorflow.org/guide/data)) yang mampu membaca sumber data dan otomatis mengkonversinya kedalam bentuk tensor dan seterusnya, neural network models akan memperosesnya untuk kita.\n",
        "\n",
        "Namun untuk sekarang, karena kita sedang berkenalan dan agar lebih familiar dengan tensor serta bagaimana memanipulasi tensor, kita akan melihat bagaimana kita akan membuatnya.\n",
        "\n",
        "Kita akan memulainya dengan [`tf.constant()`](https://www.tensorflow.org/api_docs/python/tf/constant)."
      ]
    },
    {
      "cell_type": "code",
      "metadata": {
        "id": "nC7aQgqi0M_Z",
        "colab": {
          "base_uri": "https://localhost:8080/"
        },
        "outputId": "5bf40492-70d2-49ab-ac10-0e6aeac92862"
      },
      "source": [
        "# Membuat skalar (rank 0 tensor)\n",
        "scalar = tf.constant(7)\n",
        "scalar"
      ],
      "execution_count": null,
      "outputs": [
        {
          "output_type": "execute_result",
          "data": {
            "text/plain": [
              "<tf.Tensor: shape=(), dtype=int32, numpy=7>"
            ]
          },
          "metadata": {},
          "execution_count": 3
        }
      ]
    },
    {
      "cell_type": "markdown",
      "metadata": {
        "id": "o6fXE5dXkO_3"
      },
      "source": [
        "Scalar biasanya juga disebut sebagai rank 0 tensor. Karena tidak memiliki dimensi (Ini hanyalah sebuah angka).\n",
        "\n",
        "> 🔑 **Catatan:** Untuk sekarang, kalian tidak perlu tahu banyak tentang perbedaan rank dalam suatu tensor (namun kita akan melihat dan memahaminya nanti). Poin penting yang harus diketahui adalah jika tensor dapat memiliki rentang dimensi (range of dimensions) yang unlimited (nilai tepatnya tergantung dari data apa yang kalian wakilkan)."
      ]
    },
    {
      "cell_type": "code",
      "metadata": {
        "id": "1sgUNKoFkJ21",
        "colab": {
          "base_uri": "https://localhost:8080/"
        },
        "outputId": "af60e537-a0b6-49bf-9e7e-06fce67491b2"
      },
      "source": [
        "# Mengecek nomor dimensi suatu tensor (ndim artinya adalah number of dimensions)\n",
        "scalar.ndim"
      ],
      "execution_count": null,
      "outputs": [
        {
          "output_type": "execute_result",
          "data": {
            "text/plain": [
              "0"
            ]
          },
          "metadata": {},
          "execution_count": 4
        }
      ]
    },
    {
      "cell_type": "code",
      "metadata": {
        "id": "irtCo2fs0V_o",
        "colab": {
          "base_uri": "https://localhost:8080/"
        },
        "outputId": "164ccbc0-7610-4148-df53-1af05a66ddcd"
      },
      "source": [
        "# Membuat vektor (lebih dari 0 dimensions)\n",
        "vector = tf.constant([10, 10])\n",
        "vector"
      ],
      "execution_count": null,
      "outputs": [
        {
          "output_type": "execute_result",
          "data": {
            "text/plain": [
              "<tf.Tensor: shape=(2,), dtype=int32, numpy=array([10, 10], dtype=int32)>"
            ]
          },
          "metadata": {},
          "execution_count": 5
        }
      ]
    },
    {
      "cell_type": "code",
      "metadata": {
        "id": "7DDc36pvmOse",
        "colab": {
          "base_uri": "https://localhost:8080/"
        },
        "outputId": "e528099f-54dd-483b-dbaa-77cdfa626069"
      },
      "source": [
        "# Mengecek nomor dimensi dari vektor tensor kita\n",
        "vector.ndim"
      ],
      "execution_count": null,
      "outputs": [
        {
          "output_type": "execute_result",
          "data": {
            "text/plain": [
              "1"
            ]
          },
          "metadata": {},
          "execution_count": 6
        }
      ]
    },
    {
      "cell_type": "code",
      "metadata": {
        "id": "HXf5A5360V7A",
        "colab": {
          "base_uri": "https://localhost:8080/"
        },
        "outputId": "c1df73d9-0094-4aa1-b7ec-9108045985a3"
      },
      "source": [
        "# Membuat matriks (lebih dari 1 dimension)\n",
        "matrix = tf.constant([[10, 7],\n",
        "                      [7, 10]])\n",
        "matrix"
      ],
      "execution_count": null,
      "outputs": [
        {
          "output_type": "execute_result",
          "data": {
            "text/plain": [
              "<tf.Tensor: shape=(2, 2), dtype=int32, numpy=\n",
              "array([[10,  7],\n",
              "       [ 7, 10]], dtype=int32)>"
            ]
          },
          "metadata": {},
          "execution_count": 7
        }
      ]
    },
    {
      "cell_type": "code",
      "metadata": {
        "id": "Asmn6YghlT6u",
        "colab": {
          "base_uri": "https://localhost:8080/"
        },
        "outputId": "02eb134b-a761-4b1a-90f0-7207d8886cd6"
      },
      "source": [
        "# Mengecek nomor dimensi dari matriks tensor kita\n",
        "matrix.ndim"
      ],
      "execution_count": null,
      "outputs": [
        {
          "output_type": "execute_result",
          "data": {
            "text/plain": [
              "2"
            ]
          },
          "metadata": {},
          "execution_count": 8
        }
      ]
    },
    {
      "cell_type": "markdown",
      "metadata": {
        "id": "qvQb7RT2s9Te"
      },
      "source": [
        "Secara default, TensorFlow membuat tensors dengan tipe data `int32` atau `float32`.\n",
        "\n",
        "Hal ini juga dikenal sebagai [32-bit precision](https://en.wikipedia.org/wiki/Precision_(computer_science) (semakin besar angkanya, semakin presisi hasil model TensorFlow yang dibuat, dan semakin banyak memori yang digunakan dalam komputer)."
      ]
    },
    {
      "cell_type": "code",
      "metadata": {
        "id": "aEgthLq80V2u",
        "colab": {
          "base_uri": "https://localhost:8080/"
        },
        "outputId": "3112f2b7-82eb-4783-cfd8-bbbafcd70bac"
      },
      "source": [
        "# Membuat matriks lain dan mendefinisikan tipe datanya\n",
        "another_matrix = tf.constant([[10., 7.],\n",
        "                              [3., 2.],\n",
        "                              [8., 9.]], dtype=tf.float16) # mengspesifikkan tipe data dengan argumen 'dtype'\n",
        "another_matrix"
      ],
      "execution_count": null,
      "outputs": [
        {
          "output_type": "execute_result",
          "data": {
            "text/plain": [
              "<tf.Tensor: shape=(3, 2), dtype=float16, numpy=\n",
              "array([[10.,  7.],\n",
              "       [ 3.,  2.],\n",
              "       [ 8.,  9.]], dtype=float16)>"
            ]
          },
          "metadata": {},
          "execution_count": 9
        }
      ]
    },
    {
      "cell_type": "code",
      "metadata": {
        "id": "v-Y-lXdOlXRg",
        "colab": {
          "base_uri": "https://localhost:8080/"
        },
        "outputId": "d7245ae5-ce51-41b3-a806-530eed445ced"
      },
      "source": [
        "# Meskipun another_matrix mengandung lebih banyak angka, namun dimensinya masih sama\n",
        "another_matrix.ndim"
      ],
      "execution_count": null,
      "outputs": [
        {
          "output_type": "execute_result",
          "data": {
            "text/plain": [
              "2"
            ]
          },
          "metadata": {},
          "execution_count": 10
        }
      ]
    },
    {
      "cell_type": "code",
      "metadata": {
        "id": "fAy7J6fT0Vwz",
        "colab": {
          "base_uri": "https://localhost:8080/"
        },
        "outputId": "ed2ffa3b-d877-4833-8cd9-016f05cb1dec"
      },
      "source": [
        "# Bagaimana dengan tensor? (lebih dari 2 dimensi, meskipun semua yang diatas tadi juga termasuk tensor)\n",
        "tensor = tf.constant([[[1, 2, 3],\n",
        "                       [4, 5, 6]],\n",
        "                      [[7, 8, 9],\n",
        "                       [10, 11, 12]],\n",
        "                      [[13, 14, 15],\n",
        "                       [16, 17, 18]]])\n",
        "tensor"
      ],
      "execution_count": null,
      "outputs": [
        {
          "output_type": "execute_result",
          "data": {
            "text/plain": [
              "<tf.Tensor: shape=(3, 2, 3), dtype=int32, numpy=\n",
              "array([[[ 1,  2,  3],\n",
              "        [ 4,  5,  6]],\n",
              "\n",
              "       [[ 7,  8,  9],\n",
              "        [10, 11, 12]],\n",
              "\n",
              "       [[13, 14, 15],\n",
              "        [16, 17, 18]]], dtype=int32)>"
            ]
          },
          "metadata": {},
          "execution_count": 11
        }
      ]
    },
    {
      "cell_type": "code",
      "metadata": {
        "id": "FhIsj108mFOS",
        "colab": {
          "base_uri": "https://localhost:8080/"
        },
        "outputId": "ca8aa617-b9e3-44e5-eef5-46e242ebf90d"
      },
      "source": [
        "tensor.ndim"
      ],
      "execution_count": null,
      "outputs": [
        {
          "output_type": "execute_result",
          "data": {
            "text/plain": [
              "3"
            ]
          },
          "metadata": {},
          "execution_count": 12
        }
      ]
    },
    {
      "cell_type": "markdown",
      "metadata": {
        "id": "w5MGwSpA100u"
      },
      "source": [
        "Hal ini juga dikenal sebagai rank 3 tensor (3-dimensions), namun tensor juga dapat memiliki jumlah dimensi yang arbitrary (tak-terbatas).\n",
        "\n",
        "Sebagai contoh, kalian ingin mengubah suatu gambar menjadi tensor dengan shape (224, 224, 3, 32), dimana:\n",
        "* 224, 224 (the first 2 dimensions) adalah tinggi dan lebar suatu pixels pada gambar.\n",
        "* 3 angka untuk colour channels dari gambar RGB (red, green blue).\n",
        "* 32 adalah angka untul batch size (jumlah gambar yang dilihat oleh neural network pada satu waktu).\n",
        "\n",
        "Semua yang sudah dibuat diatas sebenarnya adalah tensor. Namun kamu juga memanggilnya sesuai dengan nama yang berbeda beda (tergantung dari nama yang diberikan):\n",
        "* **scalar**: suatu nomor atau angka.\n",
        "* **vector**: angka yang memiliki arah dan  (Contoh : kecepatan angin dan arahnya).\n",
        "* **matrix**: suatu 2-dimensional array dari angka.\n",
        "* **tensor**: suatu n-dimensional array dari angka (dimana n dapat berupa angka berapa saja, 0-dimension tensor bisa juga disebut scalar, dan 1-dimension tensor bisa juga disebut vektor).\n",
        "\n",
        "Terkadang yang membuat bingung adalah, istilah matriks dan tensor sering digunakan secara bergantian.\n",
        "\n",
        "Untuk kedepannya karena menggunakan TensorFlow, semua yang kita rujuk dan gunakan akan menjadi tensor.\n",
        "\n",
        "Untuk selengkapnya memahami perbedaan skalar (**scalars**), vectors (**vektor**) dan matriks (**matrices**) secara matematika, kalian dapat melihatnya di [visual algebra post by Math is Fun](https://www.mathsisfun.com/algebra/scalar-vector-matrix.html).\n",
        "\n",
        "![difference between scalar, vector, matrix, tensor](https://raw.githubusercontent.com/mrdbourke/tensorflow-deep-learning/main/images/00-scalar-vector-matrix-tensor.png)"
      ]
    },
    {
      "cell_type": "markdown",
      "metadata": {
        "id": "TZMfDFKC0Cl7"
      },
      "source": [
        "### Membuat tensor dengan `tf.Variable()`\n",
        "\n",
        "kalian juga bisa (meskipun kalian akan jarang menggunakannya, karena sering kali saat nanti bekerja dengan data. tensor akan dibuat untuk kalian secara otomatis) membuat tensor dengan [`tf.Variable()`](https://www.tensorflow.org/api_docs/python/tf/Variable).\n",
        "\n",
        "Perbedaan antara `tf.Variable()` dan `tf.constant()` adalah tensors yang dibuat dengan `tf.constant()` tidak dapat diubah (tidak dapat diganti, dan hanya dapat digunakan ketika membuat tensor baru), sebaliknya, tensors yang dibuat dengan `tf.Variable()` dapat diubah (dapat diganti datanya)."
      ]
    },
    {
      "cell_type": "code",
      "metadata": {
        "id": "bv1SBbDe4TxN",
        "colab": {
          "base_uri": "https://localhost:8080/"
        },
        "outputId": "3891b532-90a1-4769-e9e3-24b7780780cc"
      },
      "source": [
        "# Membuat tensor yang sama dengan tf.Variable() dan tf.constant()\n",
        "changeable_tensor = tf.Variable([10, 7])\n",
        "unchangeable_tensor = tf.constant([10, 7])\n",
        "changeable_tensor, unchangeable_tensor"
      ],
      "execution_count": null,
      "outputs": [
        {
          "output_type": "execute_result",
          "data": {
            "text/plain": [
              "(<tf.Variable 'Variable:0' shape=(2,) dtype=int32, numpy=array([10,  7], dtype=int32)>,\n",
              " <tf.Tensor: shape=(2,), dtype=int32, numpy=array([10,  7], dtype=int32)>)"
            ]
          },
          "metadata": {},
          "execution_count": 13
        }
      ]
    },
    {
      "cell_type": "markdown",
      "metadata": {
        "id": "A4WrQ8c2ux15"
      },
      "source": [
        "Sekarang kita akan mengganti salah satu elemen dari changeable_tensor."
      ]
    },
    {
      "cell_type": "code",
      "metadata": {
        "id": "dfDwbF6i5Sy3",
        "colab": {
          "base_uri": "https://localhost:8080/",
          "height": 200
        },
        "outputId": "8e84f0e6-875c-4298-8f1b-9958b14f2308"
      },
      "source": [
        "# Akan menghasilkan error (karena membutuhkan .assign() method)\n",
        "changeable_tensor[0] = 7\n",
        "changeable_tensor"
      ],
      "execution_count": null,
      "outputs": [
        {
          "output_type": "error",
          "ename": "TypeError",
          "evalue": "ignored",
          "traceback": [
            "\u001b[0;31m---------------------------------------------------------------------------\u001b[0m",
            "\u001b[0;31mTypeError\u001b[0m                                 Traceback (most recent call last)",
            "\u001b[0;32m<ipython-input-14-047191eafb93>\u001b[0m in \u001b[0;36m<cell line: 2>\u001b[0;34m()\u001b[0m\n\u001b[1;32m      1\u001b[0m \u001b[0;31m# Akan menghasilkan error (karena membutuhkan .assign() method)\u001b[0m\u001b[0;34m\u001b[0m\u001b[0;34m\u001b[0m\u001b[0m\n\u001b[0;32m----> 2\u001b[0;31m \u001b[0mchangeable_tensor\u001b[0m\u001b[0;34m[\u001b[0m\u001b[0;36m0\u001b[0m\u001b[0;34m]\u001b[0m \u001b[0;34m=\u001b[0m \u001b[0;36m7\u001b[0m\u001b[0;34m\u001b[0m\u001b[0;34m\u001b[0m\u001b[0m\n\u001b[0m\u001b[1;32m      3\u001b[0m \u001b[0mchangeable_tensor\u001b[0m\u001b[0;34m\u001b[0m\u001b[0;34m\u001b[0m\u001b[0m\n",
            "\u001b[0;31mTypeError\u001b[0m: 'ResourceVariable' object does not support item assignment"
          ]
        }
      ]
    },
    {
      "cell_type": "markdown",
      "metadata": {
        "id": "oWP-kZEVvGm8"
      },
      "source": [
        "Untuk mengubah elemen dari `tf.Variable()` tensor membutuhkan `assign()` method."
      ]
    },
    {
      "cell_type": "code",
      "metadata": {
        "id": "FJV3iwvG4jg4",
        "colab": {
          "base_uri": "https://localhost:8080/"
        },
        "outputId": "2ea6277a-2e74-49eb-cbcf-c847e95f1611"
      },
      "source": [
        "# Tidak akan error\n",
        "changeable_tensor[0].assign(7)\n",
        "changeable_tensor"
      ],
      "execution_count": null,
      "outputs": [
        {
          "output_type": "execute_result",
          "data": {
            "text/plain": [
              "<tf.Variable 'Variable:0' shape=(2,) dtype=int32, numpy=array([7, 7], dtype=int32)>"
            ]
          },
          "metadata": {},
          "execution_count": 15
        }
      ]
    },
    {
      "cell_type": "markdown",
      "metadata": {
        "id": "9UiV1Z0XvZ_B"
      },
      "source": [
        "Sekarang kita akan mencoba mengubah nilai dari `tf.constant()` tensor."
      ]
    },
    {
      "cell_type": "code",
      "metadata": {
        "id": "5j_rOo8X5N9f",
        "colab": {
          "base_uri": "https://localhost:8080/",
          "height": 356
        },
        "outputId": "3362830f-5263-449a-8e54-0e7f3f3b7b96"
      },
      "source": [
        "# Akan error (karena tidak dapat mengubah nilai tf.constant())\n",
        "unchangeable_tensor[0].assign(7)\n",
        "unchangleable_tensor"
      ],
      "execution_count": null,
      "outputs": [
        {
          "output_type": "error",
          "ename": "AttributeError",
          "evalue": "ignored",
          "traceback": [
            "\u001b[0;31m---------------------------------------------------------------------------\u001b[0m",
            "\u001b[0;31mAttributeError\u001b[0m                            Traceback (most recent call last)",
            "\u001b[0;32m<ipython-input-16-dfe59e4465a2>\u001b[0m in \u001b[0;36m<cell line: 2>\u001b[0;34m()\u001b[0m\n\u001b[1;32m      1\u001b[0m \u001b[0;31m# Akan error (karena tidak dapat mengubah nilai tf.constant())\u001b[0m\u001b[0;34m\u001b[0m\u001b[0;34m\u001b[0m\u001b[0m\n\u001b[0;32m----> 2\u001b[0;31m \u001b[0munchangeable_tensor\u001b[0m\u001b[0;34m[\u001b[0m\u001b[0;36m0\u001b[0m\u001b[0;34m]\u001b[0m\u001b[0;34m.\u001b[0m\u001b[0massign\u001b[0m\u001b[0;34m(\u001b[0m\u001b[0;36m7\u001b[0m\u001b[0;34m)\u001b[0m\u001b[0;34m\u001b[0m\u001b[0;34m\u001b[0m\u001b[0m\n\u001b[0m\u001b[1;32m      3\u001b[0m \u001b[0munchangleable_tensor\u001b[0m\u001b[0;34m\u001b[0m\u001b[0;34m\u001b[0m\u001b[0m\n",
            "\u001b[0;32m/usr/local/lib/python3.10/dist-packages/tensorflow/python/framework/ops.py\u001b[0m in \u001b[0;36m__getattr__\u001b[0;34m(self, name)\u001b[0m\n\u001b[1;32m    441\u001b[0m         \u001b[0mnp_config\u001b[0m\u001b[0;34m.\u001b[0m\u001b[0menable_numpy_behavior\u001b[0m\u001b[0;34m(\u001b[0m\u001b[0;34m)\u001b[0m\u001b[0;34m\u001b[0m\u001b[0;34m\u001b[0m\u001b[0m\n\u001b[1;32m    442\u001b[0m       \"\"\")\n\u001b[0;32m--> 443\u001b[0;31m     \u001b[0mself\u001b[0m\u001b[0;34m.\u001b[0m\u001b[0m__getattribute__\u001b[0m\u001b[0;34m(\u001b[0m\u001b[0mname\u001b[0m\u001b[0;34m)\u001b[0m\u001b[0;34m\u001b[0m\u001b[0;34m\u001b[0m\u001b[0m\n\u001b[0m\u001b[1;32m    444\u001b[0m \u001b[0;34m\u001b[0m\u001b[0m\n\u001b[1;32m    445\u001b[0m   \u001b[0;34m@\u001b[0m\u001b[0mstaticmethod\u001b[0m\u001b[0;34m\u001b[0m\u001b[0;34m\u001b[0m\u001b[0m\n",
            "\u001b[0;31mAttributeError\u001b[0m: 'tensorflow.python.framework.ops.EagerTensor' object has no attribute 'assign'"
          ]
        }
      ]
    },
    {
      "cell_type": "markdown",
      "metadata": {
        "id": "1t21IcYpverQ"
      },
      "source": [
        "Lantas yang mana yang harusnya digunakan? `tf.constant()` atau `tf.Variable()`?\n",
        "\n",
        "Ini tergantung dari apa yang menjadi kebutuhan permasalahan. Namun, kebanyakan waktu sekarang, TensorFlow akan otomatis memilihkannya untuk kalian (ketika sedang memuat data atau memodeling data)."
      ]
    },
    {
      "cell_type": "markdown",
      "metadata": {
        "id": "pAAT59Ay0J0l"
      },
      "source": [
        "### Membuat tensor random\n",
        "\n",
        "Random tensors adalah tensors yang terdiri dari beberapa ukuran abitary dan berisi angka acak.\n",
        "\n",
        "Mengapa kalian ingin membuat random tensor?\n",
        "\n",
        "Karena inilah yang digunakan oleh neural network untuk menginisiasi weight (patterns) yang digunakan untuk mempelajari data.\n",
        "\n",
        "Sebagai contoh, proses pembelajaran neural network sering kali melibatkan pengambilan susunan angka acak n-dimensional array dan menyempurnakannya hingga mewakili semacam pola (cara ringkas untuk merepresentasikan data original).\n",
        "\n",
        "**Bagaimana neural network belajar**\n",
        "![how a network learns](https://raw.githubusercontent.com/mrdbourke/tensorflow-deep-learning/main/images/00-how-a-network-learns.png)\n",
        "*Network belajar dengan memulai membuat pola acak (1) selanjutnya membuat contoh demonstrasi dari data tersebut (2) ketika memperbaharui pola, pola acak tersebut akan mewakili contoh (3).*\n",
        "\n",
        "Kita dapat membuat tensor random dengan menggunakan [`tf.random.Generator`](https://www.tensorflow.org/guide/random_numbers#the_tfrandomgenerator_class) class."
      ]
    },
    {
      "cell_type": "code",
      "metadata": {
        "id": "yZ7Zu5Z178JL",
        "colab": {
          "base_uri": "https://localhost:8080/"
        },
        "outputId": "4c4c8b2e-229f-42f2-e576-c4846a05d8f1"
      },
      "source": [
        "# Membuat dua random (namun sama) tensors\n",
        "random_1 = tf.random.Generator.from_seed(42) # mengatur seed untuk reproduktifitas\n",
        "random_1 = random_1.normal(shape=(3, 2)) # membuat tensor dengan normal distribution\n",
        "random_2 = tf.random.Generator.from_seed(42)\n",
        "random_2 = random_2.normal(shape=(3, 2))\n",
        "\n",
        "# Apakah mereka sama?\n",
        "random_1, random_2, random_1 == random_2"
      ],
      "execution_count": null,
      "outputs": [
        {
          "output_type": "execute_result",
          "data": {
            "text/plain": [
              "(<tf.Tensor: shape=(3, 2), dtype=float32, numpy=\n",
              " array([[-0.7565803 , -0.06854702],\n",
              "        [ 0.07595026, -1.2573844 ],\n",
              "        [-0.23193765, -1.8107855 ]], dtype=float32)>,\n",
              " <tf.Tensor: shape=(3, 2), dtype=float32, numpy=\n",
              " array([[-0.7565803 , -0.06854702],\n",
              "        [ 0.07595026, -1.2573844 ],\n",
              "        [-0.23193765, -1.8107855 ]], dtype=float32)>,\n",
              " <tf.Tensor: shape=(3, 2), dtype=bool, numpy=\n",
              " array([[ True,  True],\n",
              "        [ True,  True],\n",
              "        [ True,  True]])>)"
            ]
          },
          "metadata": {},
          "execution_count": 17
        }
      ]
    },
    {
      "cell_type": "markdown",
      "metadata": {
        "id": "k6Od5fpZ-S--"
      },
      "source": [
        "Dari random tensor yang kita buat, hal itu sebenarnya adalah [pseudorandom numbers](https://www.computerhope.com/jargon/p/pseudo-random.htm) (mereka terlihat acak namun sebenarnya tidak).\n",
        "\n",
        "Jika kita mendefinisikan seed, maka kita akan mendapatkan angka random yang sama (jika kalian pernah menggunakan library NumPy, method tersebut hampir sama dengan `np.random.seed(42)`).\n",
        "\n",
        "Mengatur seed hampir sama dengan mengatakan, \"hey, buatkan beberapa angka acak, tapi bentuknya sama dengan X\" (X adalah seed).\n",
        "\n",
        "Apa yang akan terjadi jika kita mengubah seed tersebut?"
      ]
    },
    {
      "cell_type": "code",
      "metadata": {
        "id": "9eStLqr1F4ZP",
        "colab": {
          "base_uri": "https://localhost:8080/"
        },
        "outputId": "d7a069bc-bb9f-491f-c70d-6f8dd644e2ea"
      },
      "source": [
        "# membuat dua random (dan berbeda) tensors\n",
        "random_3 = tf.random.Generator.from_seed(42)\n",
        "random_3 = random_3.normal(shape=(3, 2))\n",
        "random_4 = tf.random.Generator.from_seed(11)\n",
        "random_4 = random_4.normal(shape=(3, 2))\n",
        "\n",
        "# Mengecek tensor tersebut dan bandingkan apakah mereka sama\n",
        "random_3, random_4, random_1 == random_3, random_3 == random_4"
      ],
      "execution_count": null,
      "outputs": [
        {
          "output_type": "execute_result",
          "data": {
            "text/plain": [
              "(<tf.Tensor: shape=(3, 2), dtype=float32, numpy=\n",
              " array([[-0.7565803 , -0.06854702],\n",
              "        [ 0.07595026, -1.2573844 ],\n",
              "        [-0.23193765, -1.8107855 ]], dtype=float32)>,\n",
              " <tf.Tensor: shape=(3, 2), dtype=float32, numpy=\n",
              " array([[ 0.2730574 , -0.29925638],\n",
              "        [-0.3652325 ,  0.61883307],\n",
              "        [-1.0130816 ,  0.2829171 ]], dtype=float32)>,\n",
              " <tf.Tensor: shape=(3, 2), dtype=bool, numpy=\n",
              " array([[ True,  True],\n",
              "        [ True,  True],\n",
              "        [ True,  True]])>,\n",
              " <tf.Tensor: shape=(3, 2), dtype=bool, numpy=\n",
              " array([[False, False],\n",
              "        [False, False],\n",
              "        [False, False]])>)"
            ]
          },
          "metadata": {},
          "execution_count": 18
        }
      ]
    },
    {
      "cell_type": "markdown",
      "metadata": {
        "id": "Nji9AdFRIhBi"
      },
      "source": [
        "Lalu bagaimana jika kita ingin mengocok urutan tensor tersebut?\n",
        "\n",
        "Tunggu, mengapa kita melakukannya?\n",
        "\n",
        "Anggap saja jika kita bekerja dengan 15,000 gambar kucing dan anjing, 10,000 gambar pertama adalah kucing dan 5,000 gambar berikutnya adalah anjing. Urutan ini dapat mempengaruhi cara neural network belajar (mungkin cocok dengan mempelajari urutan data), sebagai gantinya, jauh lebih baik dengan  memindahkan data anda."
      ]
    },
    {
      "cell_type": "code",
      "metadata": {
        "id": "sl4HYEWMBI6x",
        "colab": {
          "base_uri": "https://localhost:8080/"
        },
        "outputId": "98df7aae-8659-4d88-f84f-4a07c6d74a25"
      },
      "source": [
        "# Mengacak tensor (berguna saat kalian ingin mengacak data kalian)\n",
        "not_shuffled = tf.constant([[10, 7],\n",
        "                            [3, 4],\n",
        "                            [2, 5]])\n",
        "# Mendapatkan hasil yang berbeda setiap kali blok kode dijalankan\n",
        "tf.random.shuffle(not_shuffled)"
      ],
      "execution_count": null,
      "outputs": [
        {
          "output_type": "execute_result",
          "data": {
            "text/plain": [
              "<tf.Tensor: shape=(3, 2), dtype=int32, numpy=\n",
              "array([[10,  7],\n",
              "       [ 3,  4],\n",
              "       [ 2,  5]], dtype=int32)>"
            ]
          },
          "metadata": {},
          "execution_count": 19
        }
      ]
    },
    {
      "cell_type": "code",
      "metadata": {
        "id": "-HYn0ME_H1SY",
        "colab": {
          "base_uri": "https://localhost:8080/"
        },
        "outputId": "c1008071-9787-4949-d016-ccfe9da9516b"
      },
      "source": [
        "# Mengacak tensor dalam urutan yang sama setiap menggunakan parameter seed (masih belum sama setiap kali blok di run)\n",
        "tf.random.shuffle(not_shuffled, seed=42)"
      ],
      "execution_count": null,
      "outputs": [
        {
          "output_type": "execute_result",
          "data": {
            "text/plain": [
              "<tf.Tensor: shape=(3, 2), dtype=int32, numpy=\n",
              "array([[ 2,  5],\n",
              "       [ 3,  4],\n",
              "       [10,  7]], dtype=int32)>"
            ]
          },
          "metadata": {},
          "execution_count": 20
        }
      ]
    },
    {
      "cell_type": "markdown",
      "metadata": {
        "id": "GmC3qGIHjAx6"
      },
      "source": [
        "Tunggu... mengapa angka yang keluar tidak sama?\n",
        "\n",
        "Hal ini dikarenakan oleh aturan #4 dari [`tf.random.set_seed()`](https://www.tensorflow.org/api_docs/python/tf/random/set_seed) documentation.\n",
        "\n",
        "> \"4. Jika global seed dan operation seed ditetapkan. Kedua seed yang digunakan bersama untuk menentukan random sequence (*urutan acak*).\"\n",
        "\n",
        "`tf.random.set_seed(42)` mendefinisikan global seed, dan `seed` parameter di `tf.random.shuffle(seed=42)` mendefinisikan operation seed.\n",
        "\n",
        "Karena, \"Operasi yang mengandalkan random seed sebenarnya berasal dari dua seed: global seed and operation-level seed. Ini untuk menetapkan global seed.\""
      ]
    },
    {
      "cell_type": "code",
      "metadata": {
        "id": "cM6S8set-ixV",
        "colab": {
          "base_uri": "https://localhost:8080/"
        },
        "outputId": "e9f28b91-5380-4231-b140-be928d22ea8f"
      },
      "source": [
        "# Mengacak dalam urutan yang sama setiap saat\n",
        "\n",
        "# Mendefinisikan global random seed\n",
        "tf.random.set_seed(42)\n",
        "\n",
        "# Mendefinisikan operation random seed\n",
        "tf.random.shuffle(not_shuffled, seed=42)"
      ],
      "execution_count": null,
      "outputs": [
        {
          "output_type": "execute_result",
          "data": {
            "text/plain": [
              "<tf.Tensor: shape=(3, 2), dtype=int32, numpy=\n",
              "array([[10,  7],\n",
              "       [ 3,  4],\n",
              "       [ 2,  5]], dtype=int32)>"
            ]
          },
          "metadata": {},
          "execution_count": 21
        }
      ]
    },
    {
      "cell_type": "code",
      "metadata": {
        "id": "xKJOsdE8yCn4",
        "colab": {
          "base_uri": "https://localhost:8080/"
        },
        "outputId": "67984a1f-6332-4e66-8463-c02a5f9bfd02"
      },
      "source": [
        "# Mendefinisikan global random seed\n",
        "tf.random.set_seed(42) # jika kalian block comment kode ini, kalian akan mendapatkan hasil yang berbeda\n",
        "\n",
        "# Mendefinisikan operation random seed\n",
        "tf.random.shuffle(not_shuffled)"
      ],
      "execution_count": null,
      "outputs": [
        {
          "output_type": "execute_result",
          "data": {
            "text/plain": [
              "<tf.Tensor: shape=(3, 2), dtype=int32, numpy=\n",
              "array([[ 3,  4],\n",
              "       [ 2,  5],\n",
              "       [10,  7]], dtype=int32)>"
            ]
          },
          "metadata": {},
          "execution_count": 22
        }
      ]
    },
    {
      "cell_type": "markdown",
      "metadata": {
        "id": "ouZ1fpJk0R3h"
      },
      "source": [
        "### Cara lain untuk membuat tensor\n",
        "\n",
        "Meskipun kalian mungkin jarang menggunakan ini (ingat, banyak tensor operations berkerja di balik layar untuk kalian), kalian bisa menggunakan [`tf.ones()`](https://www.tensorflow.org/api_docs/python/tf/ones) untuk membuat tensor of all ones (tensor dengan isi elemennya = 1) dan [`tf.zeros()`](https://www.tensorflow.org/api_docs/python/tf/zeros) untuk membuat tensor of all zeros (tensor dengan isi elemennya = 0)."
      ]
    },
    {
      "cell_type": "code",
      "metadata": {
        "id": "aG8QNZP7kEe1",
        "colab": {
          "base_uri": "https://localhost:8080/"
        },
        "outputId": "7556584d-21ac-46d3-b30f-4b5f26505c0c"
      },
      "source": [
        "# Membuat sebuah tensor of all ones (semua elemennya = 1)\n",
        "tf.ones(shape=(3, 2))"
      ],
      "execution_count": null,
      "outputs": [
        {
          "output_type": "execute_result",
          "data": {
            "text/plain": [
              "<tf.Tensor: shape=(3, 2), dtype=float32, numpy=\n",
              "array([[1., 1.],\n",
              "       [1., 1.],\n",
              "       [1., 1.]], dtype=float32)>"
            ]
          },
          "metadata": {},
          "execution_count": 23
        }
      ]
    },
    {
      "cell_type": "code",
      "metadata": {
        "id": "GQKiWrB9kprj",
        "colab": {
          "base_uri": "https://localhost:8080/"
        },
        "outputId": "4e633769-61bc-47ee-c5ed-2b90e4154d7c"
      },
      "source": [
        "# Membuat sebuah tensor of all zeros (semua elemennya = 0)\n",
        "tf.zeros(shape=(3, 2))"
      ],
      "execution_count": null,
      "outputs": [
        {
          "output_type": "execute_result",
          "data": {
            "text/plain": [
              "<tf.Tensor: shape=(3, 2), dtype=float32, numpy=\n",
              "array([[0., 0.],\n",
              "       [0., 0.],\n",
              "       [0., 0.]], dtype=float32)>"
            ]
          },
          "metadata": {},
          "execution_count": 24
        }
      ]
    },
    {
      "cell_type": "markdown",
      "metadata": {
        "id": "slcLTK5D7kc2"
      },
      "source": [
        "Kalian juga dapat mengubah NumPy arrays menjadi bentuk tensor.\n",
        "\n",
        "Ingat, perbedaan paling dasar antara tensor dan NumPy arrays adalah tensor dapat dijalankan dengan menggunakan resource GPUs.\n",
        "\n",
        "> 🔑 **Catatan:** Matriks atau tensor biasanya diwakilkan oleh huruf kapital (Contohnya : `X` atau `A`) yang dimana biasanya vektor akan diwakili oleh huruf kecil (Contohnya : `y` atau `b`)."
      ]
    },
    {
      "cell_type": "code",
      "metadata": {
        "id": "C0XP37xi7mn4",
        "colab": {
          "base_uri": "https://localhost:8080/"
        },
        "outputId": "dbe25c4b-8f48-4fe3-c8d5-d3fe2dde7bdd"
      },
      "source": [
        "import numpy as np\n",
        "numpy_A = np.arange(1, 25, dtype=np.int32) # Membuat NumPy array antara 1 dan 25\n",
        "A = tf.constant(numpy_A,\n",
        "                shape=[2, 4, 3]) # catatan: total shape (2*4*3) harus sesuai dengan jumlah elemen dalam array\n",
        "numpy_A, A"
      ],
      "execution_count": null,
      "outputs": [
        {
          "output_type": "execute_result",
          "data": {
            "text/plain": [
              "(array([ 1,  2,  3,  4,  5,  6,  7,  8,  9, 10, 11, 12, 13, 14, 15, 16, 17,\n",
              "        18, 19, 20, 21, 22, 23, 24], dtype=int32),\n",
              " <tf.Tensor: shape=(2, 4, 3), dtype=int32, numpy=\n",
              " array([[[ 1,  2,  3],\n",
              "         [ 4,  5,  6],\n",
              "         [ 7,  8,  9],\n",
              "         [10, 11, 12]],\n",
              " \n",
              "        [[13, 14, 15],\n",
              "         [16, 17, 18],\n",
              "         [19, 20, 21],\n",
              "         [22, 23, 24]]], dtype=int32)>)"
            ]
          },
          "metadata": {},
          "execution_count": 25
        }
      ]
    },
    {
      "cell_type": "markdown",
      "metadata": {
        "id": "J1JLXa2P0wpx"
      },
      "source": [
        "## Mendapatkan informasi dari tensor (shape, rank, size)\n",
        "\n",
        "Akan ada saatnya nanti kalian ingin mendapatkan potongan informasi yang berbeda dari tensor kalian, khususnya, kalian mungkin harus mengetahui kosakata tensor berikut:\n",
        "* **Shape:** Panjang (jumlah elemen) dari setiap dimensi tensor.\n",
        "* **Rank:** Jumlah dimensi tensor. Skalar memiliki rank 0, vector memiliki rank 1, matrix memiliki rank 2, dan tensor memiliki rank-n.\n",
        "* **Axis** atau **Dimension:** Suatu dimensi tensor tertentu.\n",
        "* **Size:** Jumlah total item dalam tensor.\n",
        "\n",
        "Kalian akan menggunakan ini terutama saat kalian mencoba mensejajarkan shape data kalian. Misalnya, memastikan bentuk tensor gambar kalian sama dengan bentuk lapisan input model kalian.\n",
        "\n",
        "Kita telah melihat salah satunya sebelum menggunakan `ndim` attribute. Sekarang mari lihat sisanya."
      ]
    },
    {
      "cell_type": "code",
      "metadata": {
        "id": "qhckrmovCaAA",
        "colab": {
          "base_uri": "https://localhost:8080/"
        },
        "outputId": "5caa952b-ac70-41fc-9292-d5f9619482d0"
      },
      "source": [
        "# Membuat sebuah rank 4 tensor (4 dimensions)\n",
        "rank_4_tensor = tf.zeros([2, 3, 4, 5])\n",
        "rank_4_tensor"
      ],
      "execution_count": null,
      "outputs": [
        {
          "output_type": "execute_result",
          "data": {
            "text/plain": [
              "<tf.Tensor: shape=(2, 3, 4, 5), dtype=float32, numpy=\n",
              "array([[[[0., 0., 0., 0., 0.],\n",
              "         [0., 0., 0., 0., 0.],\n",
              "         [0., 0., 0., 0., 0.],\n",
              "         [0., 0., 0., 0., 0.]],\n",
              "\n",
              "        [[0., 0., 0., 0., 0.],\n",
              "         [0., 0., 0., 0., 0.],\n",
              "         [0., 0., 0., 0., 0.],\n",
              "         [0., 0., 0., 0., 0.]],\n",
              "\n",
              "        [[0., 0., 0., 0., 0.],\n",
              "         [0., 0., 0., 0., 0.],\n",
              "         [0., 0., 0., 0., 0.],\n",
              "         [0., 0., 0., 0., 0.]]],\n",
              "\n",
              "\n",
              "       [[[0., 0., 0., 0., 0.],\n",
              "         [0., 0., 0., 0., 0.],\n",
              "         [0., 0., 0., 0., 0.],\n",
              "         [0., 0., 0., 0., 0.]],\n",
              "\n",
              "        [[0., 0., 0., 0., 0.],\n",
              "         [0., 0., 0., 0., 0.],\n",
              "         [0., 0., 0., 0., 0.],\n",
              "         [0., 0., 0., 0., 0.]],\n",
              "\n",
              "        [[0., 0., 0., 0., 0.],\n",
              "         [0., 0., 0., 0., 0.],\n",
              "         [0., 0., 0., 0., 0.],\n",
              "         [0., 0., 0., 0., 0.]]]], dtype=float32)>"
            ]
          },
          "metadata": {},
          "execution_count": 26
        }
      ]
    },
    {
      "cell_type": "code",
      "metadata": {
        "colab": {
          "base_uri": "https://localhost:8080/"
        },
        "id": "ImJdhWnLtZ_2",
        "outputId": "8afb5304-7720-4add-c8f4-be99b9cffaab"
      },
      "source": [
        "rank_4_tensor.shape, rank_4_tensor.ndim, tf.size(rank_4_tensor)"
      ],
      "execution_count": null,
      "outputs": [
        {
          "output_type": "execute_result",
          "data": {
            "text/plain": [
              "(TensorShape([2, 3, 4, 5]), 4, <tf.Tensor: shape=(), dtype=int32, numpy=120>)"
            ]
          },
          "metadata": {},
          "execution_count": 27
        }
      ]
    },
    {
      "cell_type": "code",
      "metadata": {
        "id": "Vvb-4ZYdpI9f",
        "colab": {
          "base_uri": "https://localhost:8080/"
        },
        "outputId": "69c8846e-123d-4cee-e840-767a2758c2a8"
      },
      "source": [
        "# Mendapatkan bermacam-macam atribut tensor\n",
        "print(\"Tipe data dari setiap elemen:\", rank_4_tensor.dtype)\n",
        "print(\"Ukuran dimensi (rank):\", rank_4_tensor.ndim)\n",
        "print(\"Bentuk tensor (shapes):\", rank_4_tensor.shape)\n",
        "print(\"Elemen sepanjang sumbu 0 dari indexing:\", rank_4_tensor.shape[0])\n",
        "print(\"Elements sepanjang sumbu akhir dari indexing:\", rank_4_tensor.shape[-1])\n",
        "print(\"Total angka elemennya (2*3*4*5):\", tf.size(rank_4_tensor).numpy()) # .numpy() mengubahnya ke NumPy array"
      ],
      "execution_count": null,
      "outputs": [
        {
          "output_type": "stream",
          "name": "stdout",
          "text": [
            "Tipe data dari setiap elemen: <dtype: 'float32'>\n",
            "Ukuran dimensi (rank): 4\n",
            "Bentuk tensor (shapes): (2, 3, 4, 5)\n",
            "Elemen sepanjang sumbu 0 dari indexing: 2\n",
            "Elements sepanjang sumbu akhir dari indexing: 5\n",
            "Total angka elemennya (2*3*4*5): 120\n"
          ]
        }
      ]
    },
    {
      "cell_type": "markdown",
      "metadata": {
        "id": "S0SMO2ZOqL0G"
      },
      "source": [
        "Kalian juga bisa melakukan index tensors sama seperti list pada Python."
      ]
    },
    {
      "cell_type": "code",
      "metadata": {
        "id": "CFzOo-7QqLJf",
        "colab": {
          "base_uri": "https://localhost:8080/"
        },
        "outputId": "16f676b5-c7f1-434a-e319-b6a4a8d820c4"
      },
      "source": [
        "# Mendapatkan 2 items pertama dari setiap dimensi\n",
        "rank_4_tensor[:2, :2, :2, :2]"
      ],
      "execution_count": null,
      "outputs": [
        {
          "output_type": "execute_result",
          "data": {
            "text/plain": [
              "<tf.Tensor: shape=(2, 2, 2, 2), dtype=float32, numpy=\n",
              "array([[[[0., 0.],\n",
              "         [0., 0.]],\n",
              "\n",
              "        [[0., 0.],\n",
              "         [0., 0.]]],\n",
              "\n",
              "\n",
              "       [[[0., 0.],\n",
              "         [0., 0.]],\n",
              "\n",
              "        [[0., 0.],\n",
              "         [0., 0.]]]], dtype=float32)>"
            ]
          },
          "metadata": {},
          "execution_count": 29
        }
      ]
    },
    {
      "cell_type": "code",
      "metadata": {
        "id": "weQe2bBUqknd",
        "colab": {
          "base_uri": "https://localhost:8080/"
        },
        "outputId": "ae102b83-091c-4bf4-ea5d-9553337c2a23"
      },
      "source": [
        "# Mendapatkan dimensi dari setiap index kecuali untuk yang terakhir\n",
        "rank_4_tensor[:1, :1, :1, :]"
      ],
      "execution_count": null,
      "outputs": [
        {
          "output_type": "execute_result",
          "data": {
            "text/plain": [
              "<tf.Tensor: shape=(1, 1, 1, 5), dtype=float32, numpy=array([[[[0., 0., 0., 0., 0.]]]], dtype=float32)>"
            ]
          },
          "metadata": {},
          "execution_count": 30
        }
      ]
    },
    {
      "cell_type": "code",
      "metadata": {
        "id": "YQKcZWz5rFXG",
        "colab": {
          "base_uri": "https://localhost:8080/"
        },
        "outputId": "edfdb166-6f39-437c-d6a7-60ac62b90c56"
      },
      "source": [
        "# Membuat rank 2 tensor (2 dimensi)\n",
        "rank_2_tensor = tf.constant([[10, 7],\n",
        "                             [3, 4]])\n",
        "\n",
        "# Mendapatkan item terakhir dari setiap baris\n",
        "rank_2_tensor[:, -1]"
      ],
      "execution_count": null,
      "outputs": [
        {
          "output_type": "execute_result",
          "data": {
            "text/plain": [
              "<tf.Tensor: shape=(2,), dtype=int32, numpy=array([7, 4], dtype=int32)>"
            ]
          },
          "metadata": {},
          "execution_count": 31
        }
      ]
    },
    {
      "cell_type": "markdown",
      "metadata": {
        "id": "cLZq3sHKrVdS"
      },
      "source": [
        "Kalian juga bisa menambahkan dimensions ke tensor kalian sambil menjaga informasi yang ditampilkan tetap sama `tf.newaxis`."
      ]
    },
    {
      "cell_type": "code",
      "metadata": {
        "id": "KuEEEQa4w1id",
        "colab": {
          "base_uri": "https://localhost:8080/"
        },
        "outputId": "0850c19b-2807-4c83-e185-56642d690492"
      },
      "source": [
        "# Menambahkan dimension extra (di akhir)\n",
        "rank_3_tensor = rank_2_tensor[..., tf.newaxis] # dalam Python  \"...\" berarti \"semua dimensi sebelumnya\"\n",
        "rank_2_tensor, rank_3_tensor # shape (2, 2), shape (2, 2, 1)"
      ],
      "execution_count": null,
      "outputs": [
        {
          "output_type": "execute_result",
          "data": {
            "text/plain": [
              "(<tf.Tensor: shape=(2, 2), dtype=int32, numpy=\n",
              " array([[10,  7],\n",
              "        [ 3,  4]], dtype=int32)>,\n",
              " <tf.Tensor: shape=(2, 2, 1), dtype=int32, numpy=\n",
              " array([[[10],\n",
              "         [ 7]],\n",
              " \n",
              "        [[ 3],\n",
              "         [ 4]]], dtype=int32)>)"
            ]
          },
          "metadata": {},
          "execution_count": 32
        }
      ]
    },
    {
      "cell_type": "markdown",
      "metadata": {
        "id": "a5_KyB-6r7z7"
      },
      "source": [
        "Kalian juga bisa menggunakan [`tf.expand_dims()`](https://www.tensorflow.org/api_docs/python/tf/expand_dims) untuk menambahkan dimensions ke tensor kalian."
      ]
    },
    {
      "cell_type": "code",
      "metadata": {
        "id": "HpPTBqt4rvr9",
        "colab": {
          "base_uri": "https://localhost:8080/"
        },
        "outputId": "3c5f452f-5425-4e35-9346-831cadadf8a1"
      },
      "source": [
        "tf.expand_dims(rank_2_tensor, axis=-1) # \"-1\" berarti sumbu (axis) terakhir"
      ],
      "execution_count": null,
      "outputs": [
        {
          "output_type": "execute_result",
          "data": {
            "text/plain": [
              "<tf.Tensor: shape=(2, 2, 1), dtype=int32, numpy=\n",
              "array([[[10],\n",
              "        [ 7]],\n",
              "\n",
              "       [[ 3],\n",
              "        [ 4]]], dtype=int32)>"
            ]
          },
          "metadata": {},
          "execution_count": 33
        }
      ]
    },
    {
      "cell_type": "markdown",
      "metadata": {
        "id": "4EHae9iA04Ok"
      },
      "source": [
        "## Memanipulasi tensors (tensor operations)\n",
        "\n",
        "Menemukan pola dalam tensor (numberical representation of data) membuat kira perlu memanipulasi tensor tersebut.\n",
        "\n",
        "Sekali lagi, saat membuat model dengan TensorFlow, sebagian besar menemukan pola ini dilakukan dibalik layar untuk kalian."
      ]
    },
    {
      "cell_type": "markdown",
      "metadata": {
        "id": "-NzdbYDqs1Ex"
      },
      "source": [
        "### Basic operations (Operasi Dasar)\n",
        "\n",
        "Kalian bisa melakukan banyak operasi matematika dasar langsung pada tensor menggunakan operator Python seperti, `+`, `-`, `*`."
      ]
    },
    {
      "cell_type": "code",
      "metadata": {
        "id": "tu3zJirLsMVw",
        "colab": {
          "base_uri": "https://localhost:8080/"
        },
        "outputId": "ede0b519-16f1-451b-cf05-804e9a2c1f01"
      },
      "source": [
        "# Kalian juga dapat menambahkan nilai (menjumlahkan) ke tensor menggunakan addition operator (operator penjumlahan)\n",
        "tensor = tf.constant([[10, 7], [3, 4]])\n",
        "tensor + 10"
      ],
      "execution_count": null,
      "outputs": [
        {
          "output_type": "execute_result",
          "data": {
            "text/plain": [
              "<tf.Tensor: shape=(2, 2), dtype=int32, numpy=\n",
              "array([[20, 17],\n",
              "       [13, 14]], dtype=int32)>"
            ]
          },
          "metadata": {},
          "execution_count": 34
        }
      ]
    },
    {
      "cell_type": "markdown",
      "metadata": {
        "id": "_smxbIkYwYY3"
      },
      "source": [
        "Semenjak kita menggunakan `tf.constant()`, tensor yang sudah dibuat tersebut tidak dapat diubah (penambahan dilakukan pada salinan)."
      ]
    },
    {
      "cell_type": "code",
      "metadata": {
        "id": "BhJn3puhwOlM",
        "colab": {
          "base_uri": "https://localhost:8080/"
        },
        "outputId": "9656b94a-7c3e-49c9-a62b-2f0455528730"
      },
      "source": [
        "# Original tensor tidak berubah\n",
        "tensor"
      ],
      "execution_count": null,
      "outputs": [
        {
          "output_type": "execute_result",
          "data": {
            "text/plain": [
              "<tf.Tensor: shape=(2, 2), dtype=int32, numpy=\n",
              "array([[10,  7],\n",
              "       [ 3,  4]], dtype=int32)>"
            ]
          },
          "metadata": {},
          "execution_count": 35
        }
      ]
    },
    {
      "cell_type": "markdown",
      "metadata": {
        "id": "5N6tUM16xq9d"
      },
      "source": [
        "Operator lain juga bekerja."
      ]
    },
    {
      "cell_type": "code",
      "metadata": {
        "id": "6TW0_ZC_xoEC",
        "colab": {
          "base_uri": "https://localhost:8080/"
        },
        "outputId": "2bd1622e-758a-4611-f80d-e603a39dcaa5"
      },
      "source": [
        "# Perkalian (atau yang dikenal sebagai element-wise multiplication)\n",
        "tensor * 10"
      ],
      "execution_count": null,
      "outputs": [
        {
          "output_type": "execute_result",
          "data": {
            "text/plain": [
              "<tf.Tensor: shape=(2, 2), dtype=int32, numpy=\n",
              "array([[100,  70],\n",
              "       [ 30,  40]], dtype=int32)>"
            ]
          },
          "metadata": {},
          "execution_count": 36
        }
      ]
    },
    {
      "cell_type": "code",
      "metadata": {
        "id": "MN6XjwWfxu66",
        "colab": {
          "base_uri": "https://localhost:8080/"
        },
        "outputId": "18d2e774-d283-4afa-8aa1-a6cca8bda2fd"
      },
      "source": [
        "# Pengurangan\n",
        "tensor - 10"
      ],
      "execution_count": null,
      "outputs": [
        {
          "output_type": "execute_result",
          "data": {
            "text/plain": [
              "<tf.Tensor: shape=(2, 2), dtype=int32, numpy=\n",
              "array([[ 0, -3],\n",
              "       [-7, -6]], dtype=int32)>"
            ]
          },
          "metadata": {},
          "execution_count": 37
        }
      ]
    },
    {
      "cell_type": "markdown",
      "metadata": {
        "id": "1kMJe4GlyuZR"
      },
      "source": [
        "Kalian juga dapat menggunakan fungsi  TensorFlow yang setara. Menggunakan fungsi TensorFlow (jika memungkinkan) memiliki keuntungan yaitu proses dapat dipercepat nanti saat dijalankan sebagai bagian dari [TensorFlow graph](https://www.tensorflow.org/tensorboard/graphs)."
      ]
    },
    {
      "cell_type": "code",
      "metadata": {
        "id": "R2NDjqYIyyMc",
        "colab": {
          "base_uri": "https://localhost:8080/"
        },
        "outputId": "2767a7fc-b55c-4e10-8190-289bb88ffb98"
      },
      "source": [
        "# Menggunakan fungsi tensorflow yang setara dengan '*' (operator perkalian)\n",
        "tf.multiply(tensor, 10)"
      ],
      "execution_count": null,
      "outputs": [
        {
          "output_type": "execute_result",
          "data": {
            "text/plain": [
              "<tf.Tensor: shape=(2, 2), dtype=int32, numpy=\n",
              "array([[100,  70],\n",
              "       [ 30,  40]], dtype=int32)>"
            ]
          },
          "metadata": {},
          "execution_count": 38
        }
      ]
    },
    {
      "cell_type": "code",
      "metadata": {
        "colab": {
          "base_uri": "https://localhost:8080/"
        },
        "id": "lKEuDBFD49w7",
        "outputId": "753cce38-9d96-43ed-80d7-5a7ce14fae8b"
      },
      "source": [
        "# tensor asli (bawaannya) masih tidak berubah\n",
        "tensor"
      ],
      "execution_count": null,
      "outputs": [
        {
          "output_type": "execute_result",
          "data": {
            "text/plain": [
              "<tf.Tensor: shape=(2, 2), dtype=int32, numpy=\n",
              "array([[10,  7],\n",
              "       [ 3,  4]], dtype=int32)>"
            ]
          },
          "metadata": {},
          "execution_count": 39
        }
      ]
    },
    {
      "cell_type": "markdown",
      "metadata": {
        "id": "8M-0dhjtzHoZ"
      },
      "source": [
        "### Matrix mutliplication (perkalian matriks)\n",
        "\n",
        "Salah satu operasi yang paling umum dilakukan dalam algoritma machine learning adalah [matrix multiplication](https://www.mathsisfun.com/algebra/matrix-multiplying.html).\n",
        "\n",
        "TensorFlow mengimplementasikan fungsionalitas perkalian matriks ini dengan menggunakan method [`tf.matmul()`](https://www.tensorflow.org/api_docs/python/tf/linalg/matmul).\n",
        "\n",
        "Dua aturan utama dalam perkalian matriks yang perlu kalian ingat adalah:\n",
        "1. Inner dimensions (dimensi bagian dalam) haruslah cocok:\n",
        "  * `(3, 5) @ (3, 5)` akan tidak berhasil / bekerja\n",
        "  * `(5, 3) @ (3, 5)` akan berhasil / bekerja\n",
        "  * `(3, 5) @ (5, 3)` akan berhasil / bekerja\n",
        "2. Matriks yang dihasilkan memiliki shape (bentuk) dari outer dimensions (dimensi luar):\n",
        " * `(5, 3) @ (3, 5)` -> `(5, 5)`\n",
        " * `(3, 5) @ (5, 3)` -> `(3, 3)`\n",
        "\n",
        "> 🔑 **Note:** '`@`' di Python merupakan simbol untuk matrix multiplication (perkalian matriks)."
      ]
    },
    {
      "cell_type": "code",
      "metadata": {
        "id": "pbpwVJrAsPpA",
        "colab": {
          "base_uri": "https://localhost:8080/"
        },
        "outputId": "cc30fefb-9307-481a-c10d-34364c2094e7"
      },
      "source": [
        "# Matrix multiplication (perkalian matriks) di TensorFlow\n",
        "print(tensor)\n",
        "tf.matmul(tensor, tensor)"
      ],
      "execution_count": null,
      "outputs": [
        {
          "output_type": "stream",
          "name": "stdout",
          "text": [
            "tf.Tensor(\n",
            "[[10  7]\n",
            " [ 3  4]], shape=(2, 2), dtype=int32)\n"
          ]
        },
        {
          "output_type": "execute_result",
          "data": {
            "text/plain": [
              "<tf.Tensor: shape=(2, 2), dtype=int32, numpy=\n",
              "array([[121,  98],\n",
              "       [ 42,  37]], dtype=int32)>"
            ]
          },
          "metadata": {},
          "execution_count": 41
        }
      ]
    },
    {
      "cell_type": "code",
      "metadata": {
        "id": "9vpDnpb10G7U",
        "colab": {
          "base_uri": "https://localhost:8080/"
        },
        "outputId": "ff9af75a-59c6-4cae-9183-e9962e5558ab"
      },
      "source": [
        "# Matrix multiplication (perkalian matriks) dengan operator Python '@'\n",
        "tensor @ tensor"
      ],
      "execution_count": null,
      "outputs": [
        {
          "output_type": "execute_result",
          "data": {
            "text/plain": [
              "<tf.Tensor: shape=(2, 2), dtype=int32, numpy=\n",
              "array([[121,  98],\n",
              "       [ 42,  37]], dtype=int32)>"
            ]
          },
          "metadata": {},
          "execution_count": 42
        }
      ]
    },
    {
      "cell_type": "markdown",
      "metadata": {
        "id": "TAV3S5YV0cDQ"
      },
      "source": [
        "Kedua contoh diatas dapat berfungsi karena variabel `tensor`kita memiliki shape (2, 2).\n",
        "\n",
        "Lalu apa yang terjadi jika kita membuat beberapa tensor yang memiliki shape yang tidak sama?"
      ]
    },
    {
      "cell_type": "code",
      "metadata": {
        "id": "UXSE6q1o0amm",
        "colab": {
          "base_uri": "https://localhost:8080/"
        },
        "outputId": "1cdad02a-bae7-42f0-e9da-7fbe4d514d10"
      },
      "source": [
        "# Membuat tensor dengan shape (3, 2)\n",
        "X = tf.constant([[1, 2],\n",
        "                 [3, 4],\n",
        "                 [5, 6]])\n",
        "\n",
        "# Membuat tensor lain dengan shape (3, 2)\n",
        "Y = tf.constant([[7, 8],\n",
        "                 [9, 10],\n",
        "                 [11, 12]])\n",
        "X, Y"
      ],
      "execution_count": null,
      "outputs": [
        {
          "output_type": "execute_result",
          "data": {
            "text/plain": [
              "(<tf.Tensor: shape=(3, 2), dtype=int32, numpy=\n",
              " array([[1, 2],\n",
              "        [3, 4],\n",
              "        [5, 6]], dtype=int32)>,\n",
              " <tf.Tensor: shape=(3, 2), dtype=int32, numpy=\n",
              " array([[ 7,  8],\n",
              "        [ 9, 10],\n",
              "        [11, 12]], dtype=int32)>)"
            ]
          },
          "metadata": {},
          "execution_count": 43
        }
      ]
    },
    {
      "cell_type": "code",
      "metadata": {
        "id": "3J4DGQa309Hc",
        "colab": {
          "base_uri": "https://localhost:8080/",
          "height": 415
        },
        "outputId": "91f4a5c6-1f90-4b1d-85a9-9fc7a6454f2a"
      },
      "source": [
        "# Mencoba melakukan matrix multiply (perkalian matriks) kedua tensor tersebut (akan error)\n",
        "X @ Y"
      ],
      "execution_count": null,
      "outputs": [
        {
          "output_type": "error",
          "ename": "InvalidArgumentError",
          "evalue": "ignored",
          "traceback": [
            "\u001b[0;31m---------------------------------------------------------------------------\u001b[0m",
            "\u001b[0;31mInvalidArgumentError\u001b[0m                      Traceback (most recent call last)",
            "\u001b[0;32m<ipython-input-44-e613d68addc1>\u001b[0m in \u001b[0;36m<cell line: 2>\u001b[0;34m()\u001b[0m\n\u001b[1;32m      1\u001b[0m \u001b[0;31m# Mencoba melakukan matrix multiply (perkalian matriks) kedua tensor tersebut (akan error)\u001b[0m\u001b[0;34m\u001b[0m\u001b[0;34m\u001b[0m\u001b[0m\n\u001b[0;32m----> 2\u001b[0;31m \u001b[0mX\u001b[0m \u001b[0;34m@\u001b[0m \u001b[0mY\u001b[0m\u001b[0;34m\u001b[0m\u001b[0;34m\u001b[0m\u001b[0m\n\u001b[0m",
            "\u001b[0;32m/usr/local/lib/python3.10/dist-packages/tensorflow/python/util/traceback_utils.py\u001b[0m in \u001b[0;36merror_handler\u001b[0;34m(*args, **kwargs)\u001b[0m\n\u001b[1;32m    151\u001b[0m     \u001b[0;32mexcept\u001b[0m \u001b[0mException\u001b[0m \u001b[0;32mas\u001b[0m \u001b[0me\u001b[0m\u001b[0;34m:\u001b[0m\u001b[0;34m\u001b[0m\u001b[0;34m\u001b[0m\u001b[0m\n\u001b[1;32m    152\u001b[0m       \u001b[0mfiltered_tb\u001b[0m \u001b[0;34m=\u001b[0m \u001b[0m_process_traceback_frames\u001b[0m\u001b[0;34m(\u001b[0m\u001b[0me\u001b[0m\u001b[0;34m.\u001b[0m\u001b[0m__traceback__\u001b[0m\u001b[0;34m)\u001b[0m\u001b[0;34m\u001b[0m\u001b[0;34m\u001b[0m\u001b[0m\n\u001b[0;32m--> 153\u001b[0;31m       \u001b[0;32mraise\u001b[0m \u001b[0me\u001b[0m\u001b[0;34m.\u001b[0m\u001b[0mwith_traceback\u001b[0m\u001b[0;34m(\u001b[0m\u001b[0mfiltered_tb\u001b[0m\u001b[0;34m)\u001b[0m \u001b[0;32mfrom\u001b[0m \u001b[0;32mNone\u001b[0m\u001b[0;34m\u001b[0m\u001b[0;34m\u001b[0m\u001b[0m\n\u001b[0m\u001b[1;32m    154\u001b[0m     \u001b[0;32mfinally\u001b[0m\u001b[0;34m:\u001b[0m\u001b[0;34m\u001b[0m\u001b[0;34m\u001b[0m\u001b[0m\n\u001b[1;32m    155\u001b[0m       \u001b[0;32mdel\u001b[0m \u001b[0mfiltered_tb\u001b[0m\u001b[0;34m\u001b[0m\u001b[0;34m\u001b[0m\u001b[0m\n",
            "\u001b[0;32m/usr/local/lib/python3.10/dist-packages/tensorflow/python/framework/ops.py\u001b[0m in \u001b[0;36mraise_from_not_ok_status\u001b[0;34m(e, name)\u001b[0m\n\u001b[1;32m   7260\u001b[0m \u001b[0;32mdef\u001b[0m \u001b[0mraise_from_not_ok_status\u001b[0m\u001b[0;34m(\u001b[0m\u001b[0me\u001b[0m\u001b[0;34m,\u001b[0m \u001b[0mname\u001b[0m\u001b[0;34m)\u001b[0m\u001b[0;34m:\u001b[0m\u001b[0;34m\u001b[0m\u001b[0;34m\u001b[0m\u001b[0m\n\u001b[1;32m   7261\u001b[0m   \u001b[0me\u001b[0m\u001b[0;34m.\u001b[0m\u001b[0mmessage\u001b[0m \u001b[0;34m+=\u001b[0m \u001b[0;34m(\u001b[0m\u001b[0;34m\" name: \"\u001b[0m \u001b[0;34m+\u001b[0m \u001b[0mname\u001b[0m \u001b[0;32mif\u001b[0m \u001b[0mname\u001b[0m \u001b[0;32mis\u001b[0m \u001b[0;32mnot\u001b[0m \u001b[0;32mNone\u001b[0m \u001b[0;32melse\u001b[0m \u001b[0;34m\"\"\u001b[0m\u001b[0;34m)\u001b[0m\u001b[0;34m\u001b[0m\u001b[0;34m\u001b[0m\u001b[0m\n\u001b[0;32m-> 7262\u001b[0;31m   \u001b[0;32mraise\u001b[0m \u001b[0mcore\u001b[0m\u001b[0;34m.\u001b[0m\u001b[0m_status_to_exception\u001b[0m\u001b[0;34m(\u001b[0m\u001b[0me\u001b[0m\u001b[0;34m)\u001b[0m \u001b[0;32mfrom\u001b[0m \u001b[0;32mNone\u001b[0m  \u001b[0;31m# pylint: disable=protected-access\u001b[0m\u001b[0;34m\u001b[0m\u001b[0;34m\u001b[0m\u001b[0m\n\u001b[0m\u001b[1;32m   7263\u001b[0m \u001b[0;34m\u001b[0m\u001b[0m\n\u001b[1;32m   7264\u001b[0m \u001b[0;34m\u001b[0m\u001b[0m\n",
            "\u001b[0;31mInvalidArgumentError\u001b[0m: {{function_node __wrapped__MatMul_device_/job:localhost/replica:0/task:0/device:CPU:0}} Matrix size-incompatible: In[0]: [3,2], In[1]: [3,2] [Op:MatMul]"
          ]
        }
      ]
    },
    {
      "cell_type": "markdown",
      "metadata": {
        "id": "v27FQ59v1N-H"
      },
      "source": [
        "mencoba melakukan matrix multiply terhadap dua tensors dengan shape `(3, 2)` akan menghasilkan error karena inner dimensions tidak cocok.\n",
        "\n",
        "Maka dari itu kita juga perlu:\n",
        "* Reshape (membentuk ulang) X ke `(2, 3)` sehingga menjadi `(2, 3) @ (3, 2)`.\n",
        "* Reshape (membentuk ulang) Y ke `(3, 2)` sehingga menjadi `(3, 2) @ (2, 3)`.\n",
        "\n",
        "Kita dapat melakukannya dengan cara:\n",
        "* [`tf.reshape()`](https://www.tensorflow.org/api_docs/python/tf/reshape) - memungkinkan kita membentuk ulang (reshape) tensor menjadi bentuk yang ditentukan.\n",
        "* [`tf.transpose()`](https://www.tensorflow.org/api_docs/python/tf/transpose) - mengubah dimensi tensor tertentu.\n",
        "\n",
        "![lining up dimensions for dot products](https://raw.githubusercontent.com/mrdbourke/tensorflow-deep-learning/main/images/00-lining-up-dot-products.png)\n",
        "\n",
        "Sekarang ayo kita mencoba method `tf.reshape()` terlebih dahulu."
      ]
    },
    {
      "cell_type": "code",
      "metadata": {
        "id": "ZwvVl-k_2W9u",
        "colab": {
          "base_uri": "https://localhost:8080/"
        },
        "outputId": "8c382135-858e-425d-9bdf-a7e445955b70"
      },
      "source": [
        "# Contoh reshape (3, 2) -> (2, 3)\n",
        "tf.reshape(Y, shape=(2, 3))"
      ],
      "execution_count": null,
      "outputs": [
        {
          "output_type": "execute_result",
          "data": {
            "text/plain": [
              "<tf.Tensor: shape=(2, 3), dtype=int32, numpy=\n",
              "array([[ 7,  8,  9],\n",
              "       [10, 11, 12]], dtype=int32)>"
            ]
          },
          "metadata": {},
          "execution_count": 45
        }
      ]
    },
    {
      "cell_type": "code",
      "metadata": {
        "id": "1jBKPQVn1Nep",
        "colab": {
          "base_uri": "https://localhost:8080/"
        },
        "outputId": "4da9bfc2-fab4-47b2-d4b2-c3b51adcb8b3"
      },
      "source": [
        "# Mencoba melakukan matrix multiplication dengan reshaped Y\n",
        "X @ tf.reshape(Y, shape=(2, 3))"
      ],
      "execution_count": null,
      "outputs": [
        {
          "output_type": "execute_result",
          "data": {
            "text/plain": [
              "<tf.Tensor: shape=(3, 3), dtype=int32, numpy=\n",
              "array([[ 27,  30,  33],\n",
              "       [ 61,  68,  75],\n",
              "       [ 95, 106, 117]], dtype=int32)>"
            ]
          },
          "metadata": {},
          "execution_count": 46
        }
      ]
    },
    {
      "cell_type": "markdown",
      "metadata": {
        "id": "CWAgHKNk2_TO"
      },
      "source": [
        "Itu berhasil, Sekarang ayo kita coba hal yang sama dengan reshaped `X`, namun sekarang kita akan menggunakan method [`tf.transpose()`](https://www.tensorflow.org/api_docs/python/tf/transpose) dan `tf.matmul()`."
      ]
    },
    {
      "cell_type": "code",
      "metadata": {
        "id": "qA2rCnik2OnQ",
        "colab": {
          "base_uri": "https://localhost:8080/"
        },
        "outputId": "b6dfe085-c071-4a8a-d047-77fa6bb5a21e"
      },
      "source": [
        "# Contoh transpose (3, 2) -> (2, 3)\n",
        "tf.transpose(X)"
      ],
      "execution_count": null,
      "outputs": [
        {
          "output_type": "execute_result",
          "data": {
            "text/plain": [
              "<tf.Tensor: shape=(2, 3), dtype=int32, numpy=\n",
              "array([[1, 3, 5],\n",
              "       [2, 4, 6]], dtype=int32)>"
            ]
          },
          "metadata": {},
          "execution_count": 47
        }
      ]
    },
    {
      "cell_type": "code",
      "metadata": {
        "id": "zR8YdMfh3G0S",
        "colab": {
          "base_uri": "https://localhost:8080/"
        },
        "outputId": "002f1060-4b4c-436d-ed1b-89018ce04d84"
      },
      "source": [
        "# Mencoba melakukan matrix multiplication dengan reshape X\n",
        "tf.matmul(tf.transpose(X), Y)"
      ],
      "execution_count": null,
      "outputs": [
        {
          "output_type": "execute_result",
          "data": {
            "text/plain": [
              "<tf.Tensor: shape=(2, 2), dtype=int32, numpy=\n",
              "array([[ 89,  98],\n",
              "       [116, 128]], dtype=int32)>"
            ]
          },
          "metadata": {},
          "execution_count": 48
        }
      ]
    },
    {
      "cell_type": "code",
      "metadata": {
        "id": "SL45P1cC5tnJ",
        "colab": {
          "base_uri": "https://localhost:8080/"
        },
        "outputId": "0ba39db6-2e66-4f0f-b400-5fb9191834ab"
      },
      "source": [
        "# Kalian juga bisa mendapatkan hasil yang sama dengan parameter\n",
        "tf.matmul(a=X, b=Y, transpose_a=True, transpose_b=False)"
      ],
      "execution_count": null,
      "outputs": [
        {
          "output_type": "execute_result",
          "data": {
            "text/plain": [
              "<tf.Tensor: shape=(2, 2), dtype=int32, numpy=\n",
              "array([[ 89,  98],\n",
              "       [116, 128]], dtype=int32)>"
            ]
          },
          "metadata": {},
          "execution_count": 49
        }
      ]
    },
    {
      "cell_type": "markdown",
      "metadata": {
        "id": "AqE518TJ3GXG"
      },
      "source": [
        "Pastikan untuk memperhatikan perbedaan bentuk yang dihasilkan saat mentranspose tensor `X` atau melakukan reshaping `Y`.\n",
        "\n",
        "Karena menurut aturan ke-2 yang disebutkan di atas:\n",
        " * `(3, 2) @ (2, 3)` -> `(3, 3)` dapat berhasil dengan `X @ tf.reshape(Y, shape=(2, 3))`\n",
        " * `(2, 3) @ (3, 2)` -> `(2, 2)` dapat berhasil dengan `tf.matmul(tf.transpose(X), Y)`\n",
        "\n",
        "Manipulasi data semacam ini adalah pengingat: jika kalian nantinya akan menghabiskan banyak waktu dalam machine learning dan bekerja dengan neural network reshaping data (dalam bentuk tensor) untuk memersiapkannya agar dapat digunakan dengan berbagai operasi (seperti memberi makan pada model).\n",
        "\n",
        "### Dot product\n",
        "\n",
        "Multiplying matrices (mengalikan matriks) satu dengan lainnya juga disebut sebagai dot product.\n",
        "\n",
        "Kalian dapat melakukan operasi `tf.matmul()` menggunakan [`tf.tensordot()`](https://www.tensorflow.org/api_docs/python/tf/tensordot)."
      ]
    },
    {
      "cell_type": "code",
      "metadata": {
        "id": "qfSJHDpe2Oe9",
        "colab": {
          "base_uri": "https://localhost:8080/"
        },
        "outputId": "842c90d3-411c-4479-a03d-0e7819b2b1da"
      },
      "source": [
        "# Melakukan dot product pada titik X and Y (memerlukan X yang ditranspose)\n",
        "tf.tensordot(tf.transpose(X), Y, axes=1)"
      ],
      "execution_count": null,
      "outputs": [
        {
          "output_type": "execute_result",
          "data": {
            "text/plain": [
              "<tf.Tensor: shape=(2, 2), dtype=int32, numpy=\n",
              "array([[ 89,  98],\n",
              "       [116, 128]], dtype=int32)>"
            ]
          },
          "metadata": {},
          "execution_count": 50
        }
      ]
    },
    {
      "cell_type": "markdown",
      "metadata": {
        "id": "waJcSOGf_Fg7"
      },
      "source": [
        "Kalian mungkin memperhatikan bahwa meskipun berhasil menggunakan fungsi `reshape` dan `tranpose`, kalian mendapatkan hasil yang berbeda saat menggunakan keduanya.\n",
        "\n",
        "Mari melihat contohnya, pertama dengan  `tf.transpose()` lalu dengan `tf.reshape()`."
      ]
    },
    {
      "cell_type": "code",
      "metadata": {
        "id": "AAzB-F4l6Dc0",
        "colab": {
          "base_uri": "https://localhost:8080/"
        },
        "outputId": "9978f91b-8542-452c-b825-2dff1a3d4903"
      },
      "source": [
        "# Melakuakan matrix multiplication antara X dan Y (transposed)\n",
        "tf.matmul(X, tf.transpose(Y))"
      ],
      "execution_count": null,
      "outputs": [
        {
          "output_type": "execute_result",
          "data": {
            "text/plain": [
              "<tf.Tensor: shape=(3, 3), dtype=int32, numpy=\n",
              "array([[ 23,  29,  35],\n",
              "       [ 53,  67,  81],\n",
              "       [ 83, 105, 127]], dtype=int32)>"
            ]
          },
          "metadata": {},
          "execution_count": 51
        }
      ]
    },
    {
      "cell_type": "code",
      "metadata": {
        "id": "s-kQH7qh69PV",
        "colab": {
          "base_uri": "https://localhost:8080/"
        },
        "outputId": "4d36dba8-ae3c-4f7b-a602-a04f97dcbdda"
      },
      "source": [
        "# Melakukan matrix multiplication antara X dan Y (reshaped)\n",
        "tf.matmul(X, tf.reshape(Y, (2, 3)))"
      ],
      "execution_count": null,
      "outputs": [
        {
          "output_type": "execute_result",
          "data": {
            "text/plain": [
              "<tf.Tensor: shape=(3, 3), dtype=int32, numpy=\n",
              "array([[ 27,  30,  33],\n",
              "       [ 61,  68,  75],\n",
              "       [ 95, 106, 117]], dtype=int32)>"
            ]
          },
          "metadata": {},
          "execution_count": 52
        }
      ]
    },
    {
      "cell_type": "markdown",
      "metadata": {
        "id": "2eCDnCX6AhbF"
      },
      "source": [
        "Hmm... mereka menghasilkan nilai yang berbeda.\n",
        "\n",
        "Yang aneh karena ketika berurusan dengan  `Y` (adalah `(3x2)` matrix), reshaping (membentuk kembali) ke `(2, 3)` dan tranposing (mentransposenya) menghasilkan bentuk yang sama."
      ]
    },
    {
      "cell_type": "code",
      "metadata": {
        "id": "P_RLV373ATAb",
        "colab": {
          "base_uri": "https://localhost:8080/"
        },
        "outputId": "0bbd494f-32b7-4044-e4fe-445f8d3035dc"
      },
      "source": [
        "# Mengecek shapes dari Y, reshaped Y dan tranposed Y\n",
        "Y.shape, tf.reshape(Y, (2, 3)).shape, tf.transpose(Y).shape"
      ],
      "execution_count": null,
      "outputs": [
        {
          "output_type": "execute_result",
          "data": {
            "text/plain": [
              "(TensorShape([3, 2]), TensorShape([2, 3]), TensorShape([2, 3]))"
            ]
          },
          "metadata": {},
          "execution_count": 53
        }
      ]
    },
    {
      "cell_type": "markdown",
      "metadata": {
        "id": "OilqUMBKAevX"
      },
      "source": [
        "Namun memanggil fungsi `tf.reshape()` dan `tf.transpose()` pada `Y` tidak selalu menghasilkan nilai yang sama."
      ]
    },
    {
      "cell_type": "code",
      "metadata": {
        "id": "B5_aYjqeA_w_",
        "colab": {
          "base_uri": "https://localhost:8080/"
        },
        "outputId": "66cba1bf-7f46-4525-96e9-997bc7d8024e"
      },
      "source": [
        "# Mengecek nilai dari Y, reshape Y dan tranposed Y\n",
        "print(\"Normal Y:\")\n",
        "print(Y, \"\\n\") # \"\\n\" untuk newline\n",
        "\n",
        "print(\"Y reshaped menjadi (2, 3):\")\n",
        "print(tf.reshape(Y, (2, 3)), \"\\n\")\n",
        "\n",
        "print(\"Y transposed:\")\n",
        "print(tf.transpose(Y))"
      ],
      "execution_count": null,
      "outputs": [
        {
          "output_type": "stream",
          "name": "stdout",
          "text": [
            "Normal Y:\n",
            "tf.Tensor(\n",
            "[[ 7  8]\n",
            " [ 9 10]\n",
            " [11 12]], shape=(3, 2), dtype=int32) \n",
            "\n",
            "Y reshaped menjadi (2, 3):\n",
            "tf.Tensor(\n",
            "[[ 7  8  9]\n",
            " [10 11 12]], shape=(2, 3), dtype=int32) \n",
            "\n",
            "Y transposed:\n",
            "tf.Tensor(\n",
            "[[ 7  9 11]\n",
            " [ 8 10 12]], shape=(2, 3), dtype=int32)\n"
          ]
        }
      ]
    },
    {
      "cell_type": "markdown",
      "metadata": {
        "id": "g9g3l45LFO7K"
      },
      "source": [
        "Seperti yang kalian lihat, outputs dari `tf.reshape()` dan `tf.transpose()` ketika dipanggil pada `Y`, meskipun mereka memiliki bentuk yang sama, hasilnya akan berbeda.\n",
        "\n",
        "Hal ini dapat dijelaskan dengan default behaviour (perilaku bawaan) dari setiap method:\n",
        "* [`tf.reshape()`](https://www.tensorflow.org/api_docs/python/tf/reshape) - mengubah bentuk tensor yang diberikan (pertama) lalu memasukan nilai agar muncul (dalam kasusnya, 7, 8, 9, 10, 11, 12).\n",
        "* [`tf.transpose()`](https://www.tensorflow.org/api_docs/python/tf/transpose) - menukar urutan sumbu (axes), secara default last axis (sumbu terakhir) berubah menjadi yang pertama, namun urutannya dapat diubah menggunakan [`perm` parameter](https://www.tensorflow.org/api_docs/python/tf/transpose)."
      ]
    },
    {
      "cell_type": "markdown",
      "metadata": {
        "id": "fzjcZ4FHCOb5"
      },
      "source": [
        "Jadi mana yang harus kita gunakan?\n",
        "\n",
        "Sekali lagi, sebagian besar waktu menjalankan operasi (ketika perlu dijalankan, seperti selama training neural network, akan diimplementasikan langsung ke kalian).\n",
        "\n",
        "Namun umumnya, setiap kali melakukan matrix multiplication (perkalian matriks) dan shapes dua matriks tidak sejajar, kalian akan transpose (bukan reshape) dengan tujuan untuk mensejajarkannya.\n",
        "\n",
        "### Informasi matrix multiplication\n",
        "* Jika kita transposed `Y`, hal itu akan direpresentasikan sebagai $\\mathbf{Y}^\\mathsf{T}$ (perhatikan huruf kapital T untuk tranpose).\n",
        "* Dapatkan tampilan ilustratif matrix multiplication oleh [Math is Fun](https://www.mathsisfun.com/algebra/matrix-multiplying.html).\n",
        "* Coba demo matrix multiplcation langsung: http://matrixmultiplication.xyz/ (yang ditampilkan dibawah).\n",
        "\n",
        "![visual demo of matrix multiplication](https://raw.githubusercontent.com/mrdbourke/tensorflow-deep-learning/main/images/00-matrix-multiply-crop.gif)"
      ]
    },
    {
      "cell_type": "markdown",
      "metadata": {
        "id": "bK8Kc94SL-JL"
      },
      "source": [
        "### Mengubah tipe data tensor\n",
        "\n",
        "Terkadang kalian perlu atau ingin mengubah tipe data default dari tensor yang sudah dibuat.\n",
        "\n",
        "Hal ini biasa terjadi saat kalian ingin menghitung menggunakan tingkat presisi yang lebih rendah (Contohnya : 16-bit floating point numbers vs. 32-bit floating point numbers).\n",
        "\n",
        "Komputasi dengan tingkat peresisi yang kurang berguna pada perangkat dengan kapasistas komputasi yang lebih sedikit seperti mobile (karena semakin sedikit bit, semakin sedikit penyimpanan atau memori yang dibutuhkan untuk komputasi).\n",
        "\n",
        "Kalian bisa mengubah tipe data tensor dengan menggunakan [`tf.cast()`](https://www.tensorflow.org/api_docs/python/tf/cast)."
      ]
    },
    {
      "cell_type": "code",
      "metadata": {
        "id": "jRkZhW35Lge_",
        "colab": {
          "base_uri": "https://localhost:8080/"
        },
        "outputId": "9e9ad9c5-d306-4e07-f378-dc8c0e0f6fe5"
      },
      "source": [
        "# Membuat tensor baru dengan default datatype-nya (float32)\n",
        "B = tf.constant([1.7, 7.4])\n",
        "\n",
        "# Membuat tensor baru dengan default datatype-nya (int32)\n",
        "C = tf.constant([1, 7])\n",
        "B, C"
      ],
      "execution_count": null,
      "outputs": [
        {
          "output_type": "execute_result",
          "data": {
            "text/plain": [
              "(<tf.Tensor: shape=(2,), dtype=float32, numpy=array([1.7, 7.4], dtype=float32)>,\n",
              " <tf.Tensor: shape=(2,), dtype=int32, numpy=array([1, 7], dtype=int32)>)"
            ]
          },
          "metadata": {},
          "execution_count": 55
        }
      ]
    },
    {
      "cell_type": "code",
      "metadata": {
        "id": "kdhV1rgcNpUP",
        "colab": {
          "base_uri": "https://localhost:8080/"
        },
        "outputId": "7a24b036-2b12-40da-a78b-3f4b639910c8"
      },
      "source": [
        "# Mengubahnya dari float32 menjadi float16 (namun mengurangi tingkat presisinya)\n",
        "B = tf.cast(B, dtype=tf.float16)\n",
        "B"
      ],
      "execution_count": null,
      "outputs": [
        {
          "output_type": "execute_result",
          "data": {
            "text/plain": [
              "<tf.Tensor: shape=(2,), dtype=float16, numpy=array([1.7, 7.4], dtype=float16)>"
            ]
          },
          "metadata": {},
          "execution_count": 56
        }
      ]
    },
    {
      "cell_type": "code",
      "metadata": {
        "id": "Px2E1ANeNxRv",
        "colab": {
          "base_uri": "https://localhost:8080/"
        },
        "outputId": "b983a9db-58fd-4fd5-fed8-ba4e2ef0ff5f"
      },
      "source": [
        "# Mengubahnya dari int32 menjadi float32\n",
        "C = tf.cast(C, dtype=tf.float32)\n",
        "C"
      ],
      "execution_count": null,
      "outputs": [
        {
          "output_type": "execute_result",
          "data": {
            "text/plain": [
              "<tf.Tensor: shape=(2,), dtype=float32, numpy=array([1., 7.], dtype=float32)>"
            ]
          },
          "metadata": {},
          "execution_count": 57
        }
      ]
    },
    {
      "cell_type": "markdown",
      "metadata": {
        "id": "1F3L1BDuQVJz"
      },
      "source": [
        "### Mendapatkan absolute value (nilai mutlak)\n",
        "Terkadang kalian menginginkan nilai mutlak (semua nilainya positif) pada elemen dalam tensor kalian.\n",
        "\n",
        "Untuk melakukannya, kalian bisa menggunakan [`tf.abs()`](https://www.tensorflow.org/api_docs/python/tf/math/abs)."
      ]
    },
    {
      "cell_type": "code",
      "metadata": {
        "id": "plNBFi51QOvW",
        "colab": {
          "base_uri": "https://localhost:8080/"
        },
        "outputId": "2ecf9a27-fccc-4d80-9fcb-c9272b709dfe"
      },
      "source": [
        "# Membuat tensor dengan nilai negatif\n",
        "D = tf.constant([-7, -10])\n",
        "D"
      ],
      "execution_count": null,
      "outputs": [
        {
          "output_type": "execute_result",
          "data": {
            "text/plain": [
              "<tf.Tensor: shape=(2,), dtype=int32, numpy=array([ -7, -10], dtype=int32)>"
            ]
          },
          "metadata": {},
          "execution_count": 58
        }
      ]
    },
    {
      "cell_type": "code",
      "metadata": {
        "id": "bOSYmX37QFHS",
        "colab": {
          "base_uri": "https://localhost:8080/"
        },
        "outputId": "4ec175c3-5d11-437c-bdce-6c6b77fa6907"
      },
      "source": [
        "# Mendapatkan nilai mutlaknya\n",
        "tf.abs(D)"
      ],
      "execution_count": null,
      "outputs": [
        {
          "output_type": "execute_result",
          "data": {
            "text/plain": [
              "<tf.Tensor: shape=(2,), dtype=int32, numpy=array([ 7, 10], dtype=int32)>"
            ]
          },
          "metadata": {},
          "execution_count": 59
        }
      ]
    },
    {
      "cell_type": "markdown",
      "metadata": {
        "id": "G4cnALehQ2CE"
      },
      "source": [
        "### Menemukan min, max, mean, dan sum (aggregation)\n",
        "\n",
        "Kalian dapat dengan cepat melakukan agregasi (melakukan perhitungan pada seluruh tensor) tensors untuk menemukan hal-hal seperti nilai minimum, nilai maksimum, rata-rata dan jumlah semua elemen.\n",
        "\n",
        "Untuk melakukannya, aggregation methods biasanya memiliki sintaks `reduce()_[action]`, seperti:\n",
        "* [`tf.reduce_min()`](https://www.tensorflow.org/api_docs/python/tf/math/reduce_min) - untuk menemukan nilai minimum dalam suatu tensor.\n",
        "* [`tf.reduce_max()`](https://www.tensorflow.org/api_docs/python/tf/math/reduce_max) - untuk menemukan nilai maksimum dalam suatu tensor (sangat berguna saat kalian ingin menemukan prediksi kemungkinan tertinggi / highest prediction probability).\n",
        "* [`tf.reduce_mean()`](https://www.tensorflow.org/api_docs/python/tf/math/reduce_mean) - untuk menemukan nilai rata-rata dalam suatu tensor.\n",
        "* [`tf.reduce_sum()`](https://www.tensorflow.org/api_docs/python/tf/math/reduce_sum) - untuk menemukan jumlah semua elemen dalam tensor.\n",
        "* **Catatan:** biasanya masing-masing berada di dalam module `math`, Contohnya : `tf.math.reduce_min()` tetapi kalian juga dapat menggunakan alias `tf.reduce_min()`.\n",
        "\n",
        "Mari kita lihat dengan mencobanya."
      ]
    },
    {
      "cell_type": "code",
      "metadata": {
        "id": "kjW5_6i6Q7oo",
        "colab": {
          "base_uri": "https://localhost:8080/"
        },
        "outputId": "bc6f8f4f-7e1f-4b98-9384-5f873bae7b4c"
      },
      "source": [
        "# Membuat tensor dengan 50 nilai acak antara 0 dan 100\n",
        "E = tf.constant(np.random.randint(low=0, high=100, size=50))\n",
        "E"
      ],
      "execution_count": null,
      "outputs": [
        {
          "output_type": "execute_result",
          "data": {
            "text/plain": [
              "<tf.Tensor: shape=(50,), dtype=int64, numpy=\n",
              "array([97,  7, 44, 43,  9, 56, 15, 45, 29, 50, 70, 35, 88,  2, 67, 55, 22,\n",
              "       16,  5, 69, 64, 81, 38, 69,  0,  3,  0, 27, 83, 39, 16, 38, 20, 34,\n",
              "       97, 52, 76, 60, 94, 97, 99,  1, 95,  1, 13, 61, 20, 24, 32, 70])>"
            ]
          },
          "metadata": {},
          "execution_count": 60
        }
      ]
    },
    {
      "cell_type": "code",
      "metadata": {
        "id": "slwMVgT-Rac0",
        "colab": {
          "base_uri": "https://localhost:8080/"
        },
        "outputId": "5175c4da-25f9-437a-9b7f-3f52c5eb8a27"
      },
      "source": [
        "# Menemukan nilai minimum\n",
        "tf.reduce_min(E)"
      ],
      "execution_count": null,
      "outputs": [
        {
          "output_type": "execute_result",
          "data": {
            "text/plain": [
              "<tf.Tensor: shape=(), dtype=int64, numpy=0>"
            ]
          },
          "metadata": {},
          "execution_count": 61
        }
      ]
    },
    {
      "cell_type": "code",
      "metadata": {
        "id": "voLqafGCRYqO",
        "colab": {
          "base_uri": "https://localhost:8080/"
        },
        "outputId": "f89ac893-e853-408e-971c-747d1abaf1f9"
      },
      "source": [
        "# Menemukan nilai maksimum\n",
        "tf.reduce_max(E)"
      ],
      "execution_count": null,
      "outputs": [
        {
          "output_type": "execute_result",
          "data": {
            "text/plain": [
              "<tf.Tensor: shape=(), dtype=int64, numpy=99>"
            ]
          },
          "metadata": {},
          "execution_count": 62
        }
      ]
    },
    {
      "cell_type": "code",
      "metadata": {
        "id": "MPqwvy6TRYN3",
        "colab": {
          "base_uri": "https://localhost:8080/"
        },
        "outputId": "b21192e7-240f-423a-e6ed-6612fba59bd4"
      },
      "source": [
        "# Menemukan rata-rata\n",
        "tf.reduce_mean(E)"
      ],
      "execution_count": null,
      "outputs": [
        {
          "output_type": "execute_result",
          "data": {
            "text/plain": [
              "<tf.Tensor: shape=(), dtype=int64, numpy=44>"
            ]
          },
          "metadata": {},
          "execution_count": 63
        }
      ]
    },
    {
      "cell_type": "code",
      "metadata": {
        "id": "lqwCXeD6RhyE",
        "colab": {
          "base_uri": "https://localhost:8080/"
        },
        "outputId": "f6033dfa-0c92-4ed5-81b3-32b1013bead1"
      },
      "source": [
        "# Menemukan jumlah\n",
        "tf.reduce_sum(E)"
      ],
      "execution_count": null,
      "outputs": [
        {
          "output_type": "execute_result",
          "data": {
            "text/plain": [
              "<tf.Tensor: shape=(), dtype=int64, numpy=2228>"
            ]
          },
          "metadata": {},
          "execution_count": 64
        }
      ]
    },
    {
      "cell_type": "markdown",
      "metadata": {
        "id": "zXGyiVPiRqgO"
      },
      "source": [
        "Kalian juga dapat menemukan standard deviation (standar deviasi) ([`tf.reduce_std()`](https://www.tensorflow.org/api_docs/python/tf/math/reduce_std)) dan variance ([`tf.reduce_variance()`](https://www.tensorflow.org/api_docs/python/tf/math/reduce_variance)) elemen dalam tensor menggunakan method serupa.\n",
        "\n",
        "### Menemukan posisi maximum dan minimum\n",
        "\n",
        "Bagaimana dengan menemukan posisi tensor di mana nilai maksimum terjadi?\n",
        "\n",
        "Ini akan sangat berguna saat kalian ingin menyejajarkan label (katakanlah `['Green', 'Blue', 'Red']`) dengan prediction probabilities (kemungkinan prediksi) tensor kalian (Contohnya : `[0.98, 0.01, 0.01]`).\n",
        "\n",
        "Dalam kasus ini, label yang diprediksi (yang memiliki probabilitas prediksi tertinggi) harusnya adalah `'Green'`.\n",
        "\n",
        "Kalian juga dapat melakukan hal yang sama untuk minimum (jika diperlukan) dengan method berikut:\n",
        "* [`tf.argmax()`](https://www.tensorflow.org/api_docs/python/tf/math/argmax) - menemukan posisi elemen maksimum dalam tensor tertentu.\n",
        "* [`tf.argmin()`](https://www.tensorflow.org/api_docs/python/tf/math/argmin) - menemukan posisi elemen minimum dalam tensor tertentu."
      ]
    },
    {
      "cell_type": "code",
      "metadata": {
        "id": "PspO0Vjp3Nm6",
        "colab": {
          "base_uri": "https://localhost:8080/"
        },
        "outputId": "440761d7-9ac0-444a-c05c-fa76570f7002"
      },
      "source": [
        "# Membuat tensor dengan 50 nilai antara 0 dan 1\n",
        "F = tf.constant(np.random.random(50))\n",
        "F"
      ],
      "execution_count": null,
      "outputs": [
        {
          "output_type": "execute_result",
          "data": {
            "text/plain": [
              "<tf.Tensor: shape=(50,), dtype=float64, numpy=\n",
              "array([0.958773  , 0.97976739, 0.16602717, 0.28731082, 0.49748596,\n",
              "       0.34416077, 0.1372813 , 0.59153381, 0.90777781, 0.30332267,\n",
              "       0.74772481, 0.77930641, 0.35020379, 0.42422401, 0.23792279,\n",
              "       0.93467079, 0.05899115, 0.90129386, 0.45977715, 0.92678834,\n",
              "       0.49420118, 0.72658676, 0.67365189, 0.42354097, 0.93269093,\n",
              "       0.13385249, 0.52140009, 0.87661812, 0.12208627, 0.64137794,\n",
              "       0.8696204 , 0.05513405, 0.83239878, 0.12993363, 0.04207118,\n",
              "       0.64619237, 0.03415329, 0.20704967, 0.994277  , 0.72605277,\n",
              "       0.0759561 , 0.58278865, 0.12794389, 0.6930628 , 0.30115236,\n",
              "       0.482727  , 0.40193882, 0.93935914, 0.16357137, 0.39439121])>"
            ]
          },
          "metadata": {},
          "execution_count": 65
        }
      ]
    },
    {
      "cell_type": "code",
      "metadata": {
        "id": "ADbAMm9N3Zlb",
        "colab": {
          "base_uri": "https://localhost:8080/"
        },
        "outputId": "0aa8f28a-0b15-45d4-9a7a-5ae73f1cb6b1"
      },
      "source": [
        "# Menemukan posisi elemen maximum dari F\n",
        "tf.argmax(F)"
      ],
      "execution_count": null,
      "outputs": [
        {
          "output_type": "execute_result",
          "data": {
            "text/plain": [
              "<tf.Tensor: shape=(), dtype=int64, numpy=38>"
            ]
          },
          "metadata": {},
          "execution_count": 66
        }
      ]
    },
    {
      "cell_type": "code",
      "metadata": {
        "id": "aQrv1nVE3ckx",
        "colab": {
          "base_uri": "https://localhost:8080/"
        },
        "outputId": "630d511e-e3c2-408d-a722-745a4ccf6be4"
      },
      "source": [
        "# Menemukan posisi elemen minimum dari F\n",
        "tf.argmin(F)"
      ],
      "execution_count": null,
      "outputs": [
        {
          "output_type": "execute_result",
          "data": {
            "text/plain": [
              "<tf.Tensor: shape=(), dtype=int64, numpy=36>"
            ]
          },
          "metadata": {},
          "execution_count": 67
        }
      ]
    },
    {
      "cell_type": "code",
      "metadata": {
        "id": "yFHzARFwLmIf",
        "colab": {
          "base_uri": "https://localhost:8080/"
        },
        "outputId": "a1e55658-31d2-4b90-dd0e-c8876ab5ad72"
      },
      "source": [
        "# Menemukan maximum element posisi F\n",
        "print(f\"Nilai maximum F ada pada posisi: {tf.argmax(F).numpy()}\")\n",
        "print(f\"Nilai maximum F adalah: {tf.reduce_max(F).numpy()}\")\n",
        "print(f\"Menggunakan tf.argmax() untuk indeks F, Nilai maximum F adalah: {F[tf.argmax(F)].numpy()}\")\n",
        "print(f\"Apakah kedua nilai max-nya sama (seharusnya iya)? {F[tf.argmax(F)].numpy() == tf.reduce_max(F).numpy()}\")"
      ],
      "execution_count": null,
      "outputs": [
        {
          "output_type": "stream",
          "name": "stdout",
          "text": [
            "Nilai maximum F ada pada posisi: 38\n",
            "Nilai maximum F adalah: 0.9942770019503879\n",
            "Menggunakan tf.argmax() untuk indeks F, Nilai maximum F adalah: 0.9942770019503879\n",
            "Apakah kedua nilai max-nya sama (seharusnya iya)? True\n"
          ]
        }
      ]
    },
    {
      "cell_type": "markdown",
      "metadata": {
        "id": "vSGIuNwm5QHM"
      },
      "source": [
        "### Squeezing a tensor (menghapus semua single dimensions)\n",
        "\n",
        "Jika kalian perlu menghapus single-dimensions dari tensor (dimensi dengan ukuran 1), kalian bisa menggunakan `tf.squeeze()`.\n",
        "\n",
        "* [`tf.squeeze()`](https://www.tensorflow.org/api_docs/python/tf/squeeze) - menghapus semua dimensi 1 dari tensor .\n"
      ]
    },
    {
      "cell_type": "code",
      "metadata": {
        "id": "6xDZLtNu5wUZ",
        "colab": {
          "base_uri": "https://localhost:8080/"
        },
        "outputId": "f1e2937d-e751-41e8-e894-3106f31c7fb4"
      },
      "source": [
        "# Membuat sebuah tensor dengan rank 5 (5 dimensi) tensor dari 50 nomor antara 0 dan 100\n",
        "G = tf.constant(np.random.randint(0, 100, 50), shape=(1, 1, 1, 1, 50))\n",
        "G.shape, G.ndim"
      ],
      "execution_count": null,
      "outputs": [
        {
          "output_type": "execute_result",
          "data": {
            "text/plain": [
              "(TensorShape([1, 1, 1, 1, 50]), 5)"
            ]
          },
          "metadata": {},
          "execution_count": 69
        }
      ]
    },
    {
      "cell_type": "code",
      "metadata": {
        "id": "oS91XOgO6lai",
        "colab": {
          "base_uri": "https://localhost:8080/"
        },
        "outputId": "d4516685-f9d5-4e60-9b18-686121ad0b69"
      },
      "source": [
        "# Squeeze tensor G (menghapus semua 1 dimensi)\n",
        "G_squeezed = tf.squeeze(G)\n",
        "G_squeezed.shape, G_squeezed.ndim"
      ],
      "execution_count": null,
      "outputs": [
        {
          "output_type": "execute_result",
          "data": {
            "text/plain": [
              "(TensorShape([50]), 1)"
            ]
          },
          "metadata": {},
          "execution_count": 70
        }
      ]
    },
    {
      "cell_type": "markdown",
      "metadata": {
        "id": "46cKe32W65Ox"
      },
      "source": [
        "### One-hot encoding\n",
        "\n",
        "Jika kalian memiliki tensor indeks dan ingin menyandikannya satu kali / one-hot encoding (bertujuan untuk mengonversi data kategori menjadi data yang dienkripsi satu-per-satu), kalian dapat menggunakan [`tf.one_hot()`](https://www.tensorflow.org/api_docs/python/tf/one_hot).\n",
        "\n",
        "Kalian juga harus menentukan parameter `depth` (yaitu tingkatan yang ingin kalian one-hot encode)."
      ]
    },
    {
      "cell_type": "code",
      "metadata": {
        "id": "FlRkMjL-646U",
        "colab": {
          "base_uri": "https://localhost:8080/"
        },
        "outputId": "923706ec-d426-400c-fbb9-c699686cfd1e"
      },
      "source": [
        "# Membuat list index\n",
        "some_list = [0, 1, 2, 3]\n",
        "\n",
        "# Melakukan one-hot encode\n",
        "tf.one_hot(some_list, depth=4)"
      ],
      "execution_count": null,
      "outputs": [
        {
          "output_type": "execute_result",
          "data": {
            "text/plain": [
              "<tf.Tensor: shape=(4, 4), dtype=float32, numpy=\n",
              "array([[1., 0., 0., 0.],\n",
              "       [0., 1., 0., 0.],\n",
              "       [0., 0., 1., 0.],\n",
              "       [0., 0., 0., 1.]], dtype=float32)>"
            ]
          },
          "metadata": {},
          "execution_count": 71
        }
      ]
    },
    {
      "cell_type": "markdown",
      "metadata": {
        "id": "xYxYV0r08THk"
      },
      "source": [
        "Kalian juga dapat menentukan nilai untuk `on_value` dan `off_value` dibandingkan dengan `0` dan `1`."
      ]
    },
    {
      "cell_type": "code",
      "metadata": {
        "id": "FZluadm88EcN",
        "colab": {
          "base_uri": "https://localhost:8080/"
        },
        "outputId": "d0fb8b77-621d-4490-9680-57f3559dc9cd"
      },
      "source": [
        "# Menentukan nilai khusus untuk on dan off encoding\n",
        "tf.one_hot(some_list, depth=4, on_value=\"We're live!\", off_value=\"Offline\")"
      ],
      "execution_count": null,
      "outputs": [
        {
          "output_type": "execute_result",
          "data": {
            "text/plain": [
              "<tf.Tensor: shape=(4, 4), dtype=string, numpy=\n",
              "array([[b\"We're live!\", b'Offline', b'Offline', b'Offline'],\n",
              "       [b'Offline', b\"We're live!\", b'Offline', b'Offline'],\n",
              "       [b'Offline', b'Offline', b\"We're live!\", b'Offline'],\n",
              "       [b'Offline', b'Offline', b'Offline', b\"We're live!\"]], dtype=object)>"
            ]
          },
          "metadata": {},
          "execution_count": 72
        }
      ]
    },
    {
      "cell_type": "markdown",
      "metadata": {
        "id": "-E-I1jFC84Qi"
      },
      "source": [
        "### Squaring (kuadrat), log (logaritma), square root (akar kuadrat)\n",
        "\n",
        "Banyak pula operasi matematika umum lainnya yang ingin anda lakukan pada tahap tertentu, yang mungkin ada.\n",
        "\n",
        "Sekarang mari kita lihat:\n",
        "* [`tf.square()`](https://www.tensorflow.org/api_docs/python/tf/math/square) - mendapatkan nilai kuadrat dari setiap nilai pada tensor.\n",
        "* [`tf.sqrt()`](https://www.tensorflow.org/api_docs/python/tf/math/sqrt) - Mendapatkan nilai akar dari setiap nilai pada tensor (**catatan:** elemen pada tensor haruslah float atau method ini akan error).\n",
        "* [`tf.math.log()`](https://www.tensorflow.org/api_docs/python/tf/math/log) - mendapatkan natural log (ln) dari setiap nilai pada tensor (elemen harus bertipe data float)."
      ]
    },
    {
      "cell_type": "code",
      "metadata": {
        "id": "KTOvziCBLqhZ",
        "colab": {
          "base_uri": "https://localhost:8080/"
        },
        "outputId": "d8fa206f-5e90-41bd-e333-701e1fe354e2"
      },
      "source": [
        "# Membuat tensor baru\n",
        "H = tf.constant(np.arange(1, 10))\n",
        "H"
      ],
      "execution_count": null,
      "outputs": [
        {
          "output_type": "execute_result",
          "data": {
            "text/plain": [
              "<tf.Tensor: shape=(9,), dtype=int64, numpy=array([1, 2, 3, 4, 5, 6, 7, 8, 9])>"
            ]
          },
          "metadata": {},
          "execution_count": 73
        }
      ]
    },
    {
      "cell_type": "code",
      "metadata": {
        "id": "qvPS3xbk9JBK",
        "colab": {
          "base_uri": "https://localhost:8080/"
        },
        "outputId": "dddb955d-1259-44e6-827c-5e548d9c2352"
      },
      "source": [
        "# Menguadratkan tensor tersebut\n",
        "tf.square(H)"
      ],
      "execution_count": null,
      "outputs": [
        {
          "output_type": "execute_result",
          "data": {
            "text/plain": [
              "<tf.Tensor: shape=(9,), dtype=int64, numpy=array([ 1,  4,  9, 16, 25, 36, 49, 64, 81])>"
            ]
          },
          "metadata": {},
          "execution_count": 74
        }
      ]
    },
    {
      "cell_type": "code",
      "metadata": {
        "id": "SJibI0GO9uf4",
        "colab": {
          "base_uri": "https://localhost:8080/",
          "height": 449
        },
        "outputId": "225538d5-56cd-42a3-a18f-1141b914dd42"
      },
      "source": [
        "# Menemukan akar kuadrat (akan menghasilkan error), harus bukan bilangan bulat (int)\n",
        "tf.sqrt(H)"
      ],
      "execution_count": null,
      "outputs": [
        {
          "output_type": "error",
          "ename": "InvalidArgumentError",
          "evalue": "ignored",
          "traceback": [
            "\u001b[0;31m---------------------------------------------------------------------------\u001b[0m",
            "\u001b[0;31mInvalidArgumentError\u001b[0m                      Traceback (most recent call last)",
            "\u001b[0;32m<ipython-input-75-04571330241f>\u001b[0m in \u001b[0;36m<cell line: 2>\u001b[0;34m()\u001b[0m\n\u001b[1;32m      1\u001b[0m \u001b[0;31m# Menemukan akar kuadrat (akan menghasilkan error), harus bukan bilangan bulat (int)\u001b[0m\u001b[0;34m\u001b[0m\u001b[0;34m\u001b[0m\u001b[0m\n\u001b[0;32m----> 2\u001b[0;31m \u001b[0mtf\u001b[0m\u001b[0;34m.\u001b[0m\u001b[0msqrt\u001b[0m\u001b[0;34m(\u001b[0m\u001b[0mH\u001b[0m\u001b[0;34m)\u001b[0m\u001b[0;34m\u001b[0m\u001b[0;34m\u001b[0m\u001b[0m\n\u001b[0m",
            "\u001b[0;32m/usr/local/lib/python3.10/dist-packages/tensorflow/python/util/traceback_utils.py\u001b[0m in \u001b[0;36merror_handler\u001b[0;34m(*args, **kwargs)\u001b[0m\n\u001b[1;32m    151\u001b[0m     \u001b[0;32mexcept\u001b[0m \u001b[0mException\u001b[0m \u001b[0;32mas\u001b[0m \u001b[0me\u001b[0m\u001b[0;34m:\u001b[0m\u001b[0;34m\u001b[0m\u001b[0;34m\u001b[0m\u001b[0m\n\u001b[1;32m    152\u001b[0m       \u001b[0mfiltered_tb\u001b[0m \u001b[0;34m=\u001b[0m \u001b[0m_process_traceback_frames\u001b[0m\u001b[0;34m(\u001b[0m\u001b[0me\u001b[0m\u001b[0;34m.\u001b[0m\u001b[0m__traceback__\u001b[0m\u001b[0;34m)\u001b[0m\u001b[0;34m\u001b[0m\u001b[0;34m\u001b[0m\u001b[0m\n\u001b[0;32m--> 153\u001b[0;31m       \u001b[0;32mraise\u001b[0m \u001b[0me\u001b[0m\u001b[0;34m.\u001b[0m\u001b[0mwith_traceback\u001b[0m\u001b[0;34m(\u001b[0m\u001b[0mfiltered_tb\u001b[0m\u001b[0;34m)\u001b[0m \u001b[0;32mfrom\u001b[0m \u001b[0;32mNone\u001b[0m\u001b[0;34m\u001b[0m\u001b[0;34m\u001b[0m\u001b[0m\n\u001b[0m\u001b[1;32m    154\u001b[0m     \u001b[0;32mfinally\u001b[0m\u001b[0;34m:\u001b[0m\u001b[0;34m\u001b[0m\u001b[0;34m\u001b[0m\u001b[0m\n\u001b[1;32m    155\u001b[0m       \u001b[0;32mdel\u001b[0m \u001b[0mfiltered_tb\u001b[0m\u001b[0;34m\u001b[0m\u001b[0;34m\u001b[0m\u001b[0m\n",
            "\u001b[0;32m/usr/local/lib/python3.10/dist-packages/tensorflow/python/framework/ops.py\u001b[0m in \u001b[0;36mraise_from_not_ok_status\u001b[0;34m(e, name)\u001b[0m\n\u001b[1;32m   7260\u001b[0m \u001b[0;32mdef\u001b[0m \u001b[0mraise_from_not_ok_status\u001b[0m\u001b[0;34m(\u001b[0m\u001b[0me\u001b[0m\u001b[0;34m,\u001b[0m \u001b[0mname\u001b[0m\u001b[0;34m)\u001b[0m\u001b[0;34m:\u001b[0m\u001b[0;34m\u001b[0m\u001b[0;34m\u001b[0m\u001b[0m\n\u001b[1;32m   7261\u001b[0m   \u001b[0me\u001b[0m\u001b[0;34m.\u001b[0m\u001b[0mmessage\u001b[0m \u001b[0;34m+=\u001b[0m \u001b[0;34m(\u001b[0m\u001b[0;34m\" name: \"\u001b[0m \u001b[0;34m+\u001b[0m \u001b[0mname\u001b[0m \u001b[0;32mif\u001b[0m \u001b[0mname\u001b[0m \u001b[0;32mis\u001b[0m \u001b[0;32mnot\u001b[0m \u001b[0;32mNone\u001b[0m \u001b[0;32melse\u001b[0m \u001b[0;34m\"\"\u001b[0m\u001b[0;34m)\u001b[0m\u001b[0;34m\u001b[0m\u001b[0;34m\u001b[0m\u001b[0m\n\u001b[0;32m-> 7262\u001b[0;31m   \u001b[0;32mraise\u001b[0m \u001b[0mcore\u001b[0m\u001b[0;34m.\u001b[0m\u001b[0m_status_to_exception\u001b[0m\u001b[0;34m(\u001b[0m\u001b[0me\u001b[0m\u001b[0;34m)\u001b[0m \u001b[0;32mfrom\u001b[0m \u001b[0;32mNone\u001b[0m  \u001b[0;31m# pylint: disable=protected-access\u001b[0m\u001b[0;34m\u001b[0m\u001b[0;34m\u001b[0m\u001b[0m\n\u001b[0m\u001b[1;32m   7263\u001b[0m \u001b[0;34m\u001b[0m\u001b[0m\n\u001b[1;32m   7264\u001b[0m \u001b[0;34m\u001b[0m\u001b[0m\n",
            "\u001b[0;31mInvalidArgumentError\u001b[0m: Value for attr 'T' of int64 is not in the list of allowed values: bfloat16, half, float, double, complex64, complex128\n\t; NodeDef: {{node Sqrt}}; Op<name=Sqrt; signature=x:T -> y:T; attr=T:type,allowed=[DT_BFLOAT16, DT_HALF, DT_FLOAT, DT_DOUBLE, DT_COMPLEX64, DT_COMPLEX128]> [Op:Sqrt]"
          ]
        }
      ]
    },
    {
      "cell_type": "code",
      "metadata": {
        "id": "zlxRWy6Q-NHK",
        "colab": {
          "base_uri": "https://localhost:8080/"
        },
        "outputId": "0d3f2ca6-cbcb-4313-cda0-04d90630cab9"
      },
      "source": [
        "# Mengubah tipe data H menjadi float32\n",
        "H = tf.cast(H, dtype=tf.float32)\n",
        "H"
      ],
      "execution_count": null,
      "outputs": [
        {
          "output_type": "execute_result",
          "data": {
            "text/plain": [
              "<tf.Tensor: shape=(9,), dtype=float32, numpy=array([1., 2., 3., 4., 5., 6., 7., 8., 9.], dtype=float32)>"
            ]
          },
          "metadata": {},
          "execution_count": 76
        }
      ]
    },
    {
      "cell_type": "code",
      "metadata": {
        "id": "S73eO0p--TtN",
        "colab": {
          "base_uri": "https://localhost:8080/"
        },
        "outputId": "b5275f8f-5df9-4837-e057-696468c384fd"
      },
      "source": [
        "# Menemukan akar kuadrat\n",
        "tf.sqrt(H)"
      ],
      "execution_count": null,
      "outputs": [
        {
          "output_type": "execute_result",
          "data": {
            "text/plain": [
              "<tf.Tensor: shape=(9,), dtype=float32, numpy=\n",
              "array([1.       , 1.4142135, 1.7320508, 2.       , 2.2360678, 2.4494896,\n",
              "       2.6457512, 2.828427 , 3.       ], dtype=float32)>"
            ]
          },
          "metadata": {},
          "execution_count": 77
        }
      ]
    },
    {
      "cell_type": "code",
      "metadata": {
        "id": "RyCo55vz9u4f",
        "colab": {
          "base_uri": "https://localhost:8080/"
        },
        "outputId": "4aee2a1b-0d18-4985-fcc6-8ce008ba2f3f"
      },
      "source": [
        "# Menemukan log (input juga harus bertipe data float)\n",
        "tf.math.log(H)"
      ],
      "execution_count": null,
      "outputs": [
        {
          "output_type": "execute_result",
          "data": {
            "text/plain": [
              "<tf.Tensor: shape=(9,), dtype=float32, numpy=\n",
              "array([0.       , 0.6931472, 1.0986123, 1.3862944, 1.609438 , 1.7917595,\n",
              "       1.9459102, 2.0794415, 2.1972246], dtype=float32)>"
            ]
          },
          "metadata": {},
          "execution_count": 78
        }
      ]
    },
    {
      "cell_type": "markdown",
      "metadata": {
        "id": "urq3bx3l_Y4K"
      },
      "source": [
        "### Memanipulasi `tf.Variable` tensor\n",
        "\n",
        "Elemen tensor yang dibuat dengan `tf.Variable()` dapat diganti atau diubah dengan method seperti:\n",
        "\n",
        "* [`.assign()`](https://www.tensorflow.org/api_docs/python/tf/Variable#assign) - menetapkan nilai yang berbeda ke indeks tertentu dari variabel tensor.\n",
        "* [`.add_assign()`](https://www.tensorflow.org/api_docs/python/tf/Variable#assign_add) - melakukan operasi penjumlahan ke nilai yang ada dan menetapkan kembali pada indeks tensor variabel tertentu.\n"
      ]
    },
    {
      "cell_type": "code",
      "metadata": {
        "id": "tV7_uzdR_F4c",
        "colab": {
          "base_uri": "https://localhost:8080/"
        },
        "outputId": "610acf2a-dadc-4d20-98a9-2d90c3b8fe03"
      },
      "source": [
        "# Membuat Variable tensor\n",
        "I = tf.Variable(np.arange(0, 5))\n",
        "I"
      ],
      "execution_count": null,
      "outputs": [
        {
          "output_type": "execute_result",
          "data": {
            "text/plain": [
              "<tf.Variable 'Variable:0' shape=(5,) dtype=int64, numpy=array([0, 1, 2, 3, 4])>"
            ]
          },
          "metadata": {},
          "execution_count": 79
        }
      ]
    },
    {
      "cell_type": "code",
      "metadata": {
        "id": "ukatOuCG_4CY",
        "colab": {
          "base_uri": "https://localhost:8080/"
        },
        "outputId": "6a900986-5ac7-4ddf-8f30-ef663c5d65d2"
      },
      "source": [
        "# Menetapkan nilai akhir pada tensor menjadi nilai baru yaitu 50\n",
        "I.assign([0, 1, 2, 3, 50])"
      ],
      "execution_count": null,
      "outputs": [
        {
          "output_type": "execute_result",
          "data": {
            "text/plain": [
              "<tf.Variable 'UnreadVariable' shape=(5,) dtype=int64, numpy=array([ 0,  1,  2,  3, 50])>"
            ]
          },
          "metadata": {},
          "execution_count": 80
        }
      ]
    },
    {
      "cell_type": "code",
      "metadata": {
        "id": "3r2Pya_vAnLz",
        "colab": {
          "base_uri": "https://localhost:8080/"
        },
        "outputId": "fc486dfa-015e-465b-8372-4047ae6dab6f"
      },
      "source": [
        "# Perubahan terjadi pada indeks terakhir (nilai terkhir sekarang 50, bukan 4)\n",
        "I"
      ],
      "execution_count": null,
      "outputs": [
        {
          "output_type": "execute_result",
          "data": {
            "text/plain": [
              "<tf.Variable 'Variable:0' shape=(5,) dtype=int64, numpy=array([ 0,  1,  2,  3, 50])>"
            ]
          },
          "metadata": {},
          "execution_count": 81
        }
      ]
    },
    {
      "cell_type": "code",
      "metadata": {
        "id": "gZie_FduAo5O",
        "colab": {
          "base_uri": "https://localhost:8080/"
        },
        "outputId": "4bcb9f44-d7f6-4f33-d272-8f069baaf574"
      },
      "source": [
        "# Menambahkan 10 (I + 10) ke setiap elemen di I\n",
        "I.assign_add([10, 10, 10, 10, 10])"
      ],
      "execution_count": null,
      "outputs": [
        {
          "output_type": "execute_result",
          "data": {
            "text/plain": [
              "<tf.Variable 'UnreadVariable' shape=(5,) dtype=int64, numpy=array([10, 11, 12, 13, 60])>"
            ]
          },
          "metadata": {},
          "execution_count": 82
        }
      ]
    },
    {
      "cell_type": "code",
      "metadata": {
        "id": "2qXODgVOBDzC",
        "colab": {
          "base_uri": "https://localhost:8080/"
        },
        "outputId": "3106af35-eee6-4689-8657-b58e930ccbc8"
      },
      "source": [
        "# Sekali lagi, perubahan terjadi\n",
        "I"
      ],
      "execution_count": null,
      "outputs": [
        {
          "output_type": "execute_result",
          "data": {
            "text/plain": [
              "<tf.Variable 'Variable:0' shape=(5,) dtype=int64, numpy=array([10, 11, 12, 13, 60])>"
            ]
          },
          "metadata": {},
          "execution_count": 83
        }
      ]
    },
    {
      "cell_type": "markdown",
      "metadata": {
        "id": "2L2IyQhl-Z73"
      },
      "source": [
        "## Tensors dan NumPy\n",
        "\n",
        "Kita sudah melihat sebelumnya bagaimana beberapa tensor berinteraksi dengan NumPy arrays, seperti, menggunakan NumPy arrays untuk membuat tensor tensors.\n",
        "\n",
        "Tensor juga dapat dikonversi ke NumPy arrays menggunakan:\n",
        "\n",
        "* `np.array()` - meneruskan tensor untuk mengonversinya menjadi ndarray (tipe data utama NumPy).\n",
        "* `tensor.numpy()` - memanggil tensor dan mengonversi ke ndarray.\n",
        "\n",
        "Melakukan hal ini akan sangat membantu karena membuat tensor menjadi iterable (dapatndiubah) serta memungkinkan kita menggunakan salah satu method NumPy pada tensor tersebut."
      ]
    },
    {
      "cell_type": "code",
      "metadata": {
        "id": "HLHrij0vBywD",
        "colab": {
          "base_uri": "https://localhost:8080/"
        },
        "outputId": "51c609d4-0d02-48d1-bfd8-ce86ae512bfa"
      },
      "source": [
        "# Membaut tensor dari NumPy array\n",
        "J = tf.constant(np.array([3., 7., 10.]))\n",
        "J"
      ],
      "execution_count": null,
      "outputs": [
        {
          "output_type": "execute_result",
          "data": {
            "text/plain": [
              "<tf.Tensor: shape=(3,), dtype=float64, numpy=array([ 3.,  7., 10.])>"
            ]
          },
          "metadata": {},
          "execution_count": 84
        }
      ]
    },
    {
      "cell_type": "code",
      "metadata": {
        "id": "P0KBe_FqCKdU",
        "colab": {
          "base_uri": "https://localhost:8080/"
        },
        "outputId": "dd8c7239-ae36-4f07-e496-3645d33ecb2f"
      },
      "source": [
        "# Mengonversi tensor J menjadi NumPy dengan np.array()\n",
        "np.array(J), type(np.array(J))"
      ],
      "execution_count": null,
      "outputs": [
        {
          "output_type": "execute_result",
          "data": {
            "text/plain": [
              "(array([ 3.,  7., 10.]), numpy.ndarray)"
            ]
          },
          "metadata": {},
          "execution_count": 85
        }
      ]
    },
    {
      "cell_type": "code",
      "metadata": {
        "id": "xxKsJPvSCUPI",
        "colab": {
          "base_uri": "https://localhost:8080/"
        },
        "outputId": "6fb765ec-9c2b-401d-b2a4-4f783f9b0dd9"
      },
      "source": [
        "# Mengonversi tensor J menjadi NumPy dengan .numpy()\n",
        "J.numpy(), type(J.numpy())"
      ],
      "execution_count": null,
      "outputs": [
        {
          "output_type": "execute_result",
          "data": {
            "text/plain": [
              "(array([ 3.,  7., 10.]), numpy.ndarray)"
            ]
          },
          "metadata": {},
          "execution_count": 86
        }
      ]
    },
    {
      "cell_type": "markdown",
      "metadata": {
        "id": "SL4xHtNWDIT5"
      },
      "source": [
        "Secara bawaan tensor memiliki tipe data `dtype=float32`, yang dimana NumPy arrays memiliki tipe data `dtype=float64`.\n",
        "\n",
        "Hal ini dikarenakan neural networks (yang biasanya dibangun dengan TensorFlow) umumnya dapat bekerja sangat baik walau dengan presisi yang lebih sedikit (32-bit lebih baik daripada 64-bit)."
      ]
    },
    {
      "cell_type": "code",
      "metadata": {
        "id": "HrQoUeyPCXU9",
        "colab": {
          "base_uri": "https://localhost:8080/"
        },
        "outputId": "d0c2f3f5-8cf1-48ca-c907-d3055061d7a4"
      },
      "source": [
        "# Membuat tensor dari NumPy dan dari array\n",
        "numpy_J = tf.constant(np.array([3., 7., 10.])) # tipe data akan menjadi float64 (karena NumPy)\n",
        "tensor_J = tf.constant([3., 7., 10.]) # tipe data akan menjadi float32 (karena menjadi tipe data bawaan TensorFlow)\n",
        "numpy_J.dtype, tensor_J.dtype"
      ],
      "execution_count": null,
      "outputs": [
        {
          "output_type": "execute_result",
          "data": {
            "text/plain": [
              "(tf.float64, tf.float32)"
            ]
          },
          "metadata": {},
          "execution_count": 87
        }
      ]
    },
    {
      "cell_type": "markdown",
      "metadata": {
        "id": "_ytLPBWF1wxt"
      },
      "source": [
        "## Menggunakan `@tf.function`\n",
        "\n",
        "Dalam perjalanan kalian mengeksplore TensorFlow, kalian mungkin menemukan fungsi Python yang memiliki dekorator [`@tf.function`](https://www.tensorflow.org/api_docs/python/tf/function).\n",
        "\n",
        "Jika kalian tidak yakin aoa itu dekorator pada Python, [bacalah RealPython's guide untuk dekorator](https://realpython.com/primer-on-python-decorators/).\n",
        "\n",
        "Namun singkatnya, decorators memodifikasi fungsi dengan satu atau cara yang lain.\n",
        "\n",
        "Dalam `@tf.function` decorator case, hal itu mengubah funsi Python menjadi grafik TensorFlow. Yang merupakan cara keren untuk mengatakan, jika kalian membuat kode Python kalian sendiri, dan kalian decorate itu dengan `@tf.function`, ketika kalian export kode kalian (untuk berpotensi dijalankan di perangkat lain), TensorFlow akan mencoba menggubahnya menjadi versi yang lebih cepat dari dirinya sendiri (dengan menjadikannya bagian dari komputasi grafis / GPU).\n",
        "\n",
        "Untuk lebih lanjut tentang ini, bacalah panduan berikut [Better performnace with tf.function](https://www.tensorflow.org/guide/function)."
      ]
    },
    {
      "cell_type": "code",
      "metadata": {
        "id": "URzFiwPoFDI7",
        "colab": {
          "base_uri": "https://localhost:8080/"
        },
        "outputId": "4419f206-427c-4436-a229-8a36cc515345"
      },
      "source": [
        "# Membuat fungsi yang sederhana\n",
        "def function(x, y):\n",
        "  return x ** 2 + y\n",
        "\n",
        "x = tf.constant(np.arange(0, 10))\n",
        "y = tf.constant(np.arange(10, 20))\n",
        "function(x, y)"
      ],
      "execution_count": null,
      "outputs": [
        {
          "output_type": "execute_result",
          "data": {
            "text/plain": [
              "<tf.Tensor: shape=(10,), dtype=int64, numpy=array([ 10,  12,  16,  22,  30,  40,  52,  66,  82, 100])>"
            ]
          },
          "metadata": {},
          "execution_count": 88
        }
      ]
    },
    {
      "cell_type": "code",
      "metadata": {
        "id": "EHGbvlkXF7Gs",
        "colab": {
          "base_uri": "https://localhost:8080/"
        },
        "outputId": "ed6d863c-82ce-492c-bde3-d746784fad2a"
      },
      "source": [
        "# Membuat fungsi yang sama dan decorate dengan tf.function\n",
        "@tf.function\n",
        "def tf_function(x, y):\n",
        "  return x ** 2 + y\n",
        "\n",
        "tf_function(x, y)"
      ],
      "execution_count": null,
      "outputs": [
        {
          "output_type": "execute_result",
          "data": {
            "text/plain": [
              "<tf.Tensor: shape=(10,), dtype=int64, numpy=array([ 10,  12,  16,  22,  30,  40,  52,  66,  82, 100])>"
            ]
          },
          "metadata": {},
          "execution_count": 89
        }
      ]
    },
    {
      "cell_type": "markdown",
      "metadata": {
        "id": "lsiapEnTGBbH"
      },
      "source": [
        "Jika kalian melihat tidak ada perbedaan antara dua fungsi diatas (yang decorated  dan yang non-decorated) kalian benar.\n",
        "\n",
        "Banyak perbedaan terjadi di belakang layar. Ssalah satu yang utama adalah percepatan kode potensial jika memungkinkan."
      ]
    },
    {
      "cell_type": "markdown",
      "metadata": {
        "id": "y8AQmchkxKDn"
      },
      "source": [
        "## Menemukan cara untuk mengakses GPUs\n",
        "\n",
        "Kita telah sering menyebutkan GPU di hampir seluruh notebook (hands-on) ini.\n",
        "\n",
        "Jadi, bagaimana kita memeriksa apakah kita dapat mengaksesnya?\n",
        "\n",
        "Kalian dapat memeriksanya apakah memiliki akses ke GPU dengan [`tf.config.list_physical_devices()`](https://www.tensorflow.org/guide/gpu)."
      ]
    },
    {
      "cell_type": "code",
      "metadata": {
        "id": "3rFNSeODxi3L",
        "colab": {
          "base_uri": "https://localhost:8080/"
        },
        "outputId": "c7d13b8b-9c5a-4feb-c85d-4c0834e02189"
      },
      "source": [
        "print(tf.config.list_physical_devices('GPU'))"
      ],
      "execution_count": null,
      "outputs": [
        {
          "output_type": "stream",
          "name": "stdout",
          "text": [
            "[PhysicalDevice(name='/physical_device:GPU:0', device_type='GPU')]\n"
          ]
        }
      ]
    },
    {
      "cell_type": "markdown",
      "metadata": {
        "id": "8165PtH8xyq5"
      },
      "source": [
        "Jika di atas menampilkan array kosong (atau tidak sama sekali), itu berarti komputer kalian tidak dapat menemukannya (atau setidaknya TensorFlow tidak dapat menemukannya).\n",
        "\n",
        "Jika kalian running dengan menggunakan Google Colab, kalian bisa mengakses GPU dengan membuka *Runtime -> Change Runtime Type -> Select GPU* (**catatan:** setelah kalian melakukannya, maka notebook akan di restart dan variable dan sesi yang telah tersimpan akan hilang).\n",
        "\n",
        "Setelah anda mengubah tipe runtime anda, jalankan cell dibawah."
      ]
    },
    {
      "cell_type": "code",
      "metadata": {
        "id": "iAvMwRbZyULE",
        "colab": {
          "base_uri": "https://localhost:8080/"
        },
        "outputId": "079739ea-5625-4063-d063-9c4bbf920edb"
      },
      "source": [
        "import tensorflow as tf\n",
        "print(tf.config.list_physical_devices('GPU'))"
      ],
      "execution_count": null,
      "outputs": [
        {
          "output_type": "stream",
          "name": "stdout",
          "text": [
            "[PhysicalDevice(name='/physical_device:GPU:0', device_type='GPU')]\n"
          ]
        }
      ]
    },
    {
      "cell_type": "markdown",
      "metadata": {
        "id": "J3yu0LKiyZlJ"
      },
      "source": [
        "Jika kalian mendapatkan akses ke GPU, cell yang ada diatas harusnya memberikan output seperti:\n",
        "\n",
        "`[PhysicalDevice(name='/physical_device:GPU:0', device_type='GPU')]`\n",
        "\n",
        "Kalian juga bisa menemukan informasi tentang GPU kalian dengan menggunakan  `!nvidia-smi`."
      ]
    },
    {
      "cell_type": "code",
      "metadata": {
        "id": "yOuVvG5kyefS",
        "colab": {
          "base_uri": "https://localhost:8080/"
        },
        "outputId": "df7741e5-a903-4af5-c847-e57d2a4c0b96"
      },
      "source": [
        "!nvidia-smi"
      ],
      "execution_count": null,
      "outputs": [
        {
          "output_type": "stream",
          "name": "stdout",
          "text": [
            "Wed May 24 10:20:19 2023       \n",
            "+-----------------------------------------------------------------------------+\n",
            "| NVIDIA-SMI 525.85.12    Driver Version: 525.85.12    CUDA Version: 12.0     |\n",
            "|-------------------------------+----------------------+----------------------+\n",
            "| GPU  Name        Persistence-M| Bus-Id        Disp.A | Volatile Uncorr. ECC |\n",
            "| Fan  Temp  Perf  Pwr:Usage/Cap|         Memory-Usage | GPU-Util  Compute M. |\n",
            "|                               |                      |               MIG M. |\n",
            "|===============================+======================+======================|\n",
            "|   0  Tesla T4            Off  | 00000000:00:04.0 Off |                    0 |\n",
            "| N/A   55C    P0    26W /  70W |    375MiB / 15360MiB |      0%      Default |\n",
            "|                               |                      |                  N/A |\n",
            "+-------------------------------+----------------------+----------------------+\n",
            "                                                                               \n",
            "+-----------------------------------------------------------------------------+\n",
            "| Processes:                                                                  |\n",
            "|  GPU   GI   CI        PID   Type   Process name                  GPU Memory |\n",
            "|        ID   ID                                                   Usage      |\n",
            "|=============================================================================|\n",
            "+-----------------------------------------------------------------------------+\n"
          ]
        }
      ]
    },
    {
      "cell_type": "markdown",
      "metadata": {
        "id": "pER7mLFezV9u"
      },
      "source": [
        "> 🔑 **Catatan:** Jika kalian mempunyai akses ke GPU, TensorFlow akan otomatis menggunakannya bila memungkinkan."
      ]
    },
    {
      "cell_type": "markdown",
      "metadata": {
        "id": "HcCZxK61VIv0"
      },
      "source": [
        "## 🛠 Latihan\n",
        "\n",
        "1. Buat vector, scalar, matrix dan tensor dengan values (nilai) pilihan kalian dengan menggunakan `tf.constant()`.\n",
        "2. Temukan shape, rank dan size dari tensor yang anda buat dari latihan 1.\n",
        "3. Buatlah dua tensor yang berisi random values (nilai acak) antara 0 dan 1 dengan shape `[5, 300]`.\n",
        "4. Kalikan dua tensor yang kalian buat di latihan 3 menggunakan matrix multiplication.\n",
        "5. Kalikan dua tensor yang kalian buat di latihan 3 menggunakan dot product.\n",
        "6. Buatlah tensor dengan random values (nilai acak) antara 0 dan 1 dengan shape `[224, 224, 3]`.\n",
        "7. Temukanlah min dan max values dari tensor yang kalian buat dalam latihan 6.\n",
        "8. Buatlah tensor dengan random values dan memiliki shape `[1, 224, 224, 3]` lalu squeeze tensor untuk mengganti shape menjadi `[224, 224, 3]`.\n",
        "9. Buatlah tensor dengan shape `[10]` menggunakan nilai pilihan kalian sendiri, lalu cari indeks yang memiliki nilai maksimum.\n",
        "10. One-hot encode tensor yang kalian buat pada latihan 9."
      ]
    },
    {
      "cell_type": "markdown",
      "metadata": {
        "id": "EgHK5CjY3oVX"
      },
      "source": [
        "## 📖 Extra-curriculum (Pembelajaran Tambahan)\n",
        "\n",
        "* Baca [list of TensorFlow Python APIs](https://www.tensorflow.org/api_docs/python/), pilih salah satu yang belum kami bahas, reverse engineer itu (tulis sendiri kode dokumentasinya) dan cari tahu apa fungsinya.\n",
        "* Cobalah untuk membuat rangkaian fungsi tensor untuk menghitung tagihan belanjaan terbaru kalian (tidak apa-apa jika kalian tidak menggunakan nama barang, hanya harga dalam bentuk numerik).\n",
        "  * Bagaimana kalian menghitung tagihan belanjaan untuk bulan dan tahun menggunakan tensor?\n",
        "* Ikuti tutorial [TensorFlow 2.x quick start for beginners](https://www.tensorflow.org/tutorials/quickstart/beginner) (pastikan untuk mengetiknya sendiri semua kodenya, meskipun kalian tidak memahaminya).\n",
        "  * Apakah ada fungsi yang kami gunakan di sini yang cocok dengan yang digunakan di sana? Yang mana yang sama? Mana yang belum pernah kalian lihat sebelumnya?\n",
        "* Tonton video [\"What's a tensor?\"](https://www.youtube.com/watch?v=f5liqUk0ZTw) - pengantar visual yang bagus untuk banyak konsep yang telah di bahas pada notebook ini."
      ]
    }
  ]
}