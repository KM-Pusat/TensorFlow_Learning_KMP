{
  "nbformat": 4,
  "nbformat_minor": 0,
  "metadata": {
    "colab": {
      "provenance": [],
      "machine_shape": "hm",
      "gpuType": "T4",
      "include_colab_link": true
    },
    "kernelspec": {
      "name": "python3",
      "display_name": "Python 3"
    },
    "accelerator": "GPU"
  },
  "cells": [
    {
      "cell_type": "markdown",
      "metadata": {
        "id": "view-in-github",
        "colab_type": "text"
      },
      "source": [
        "<a href=\"https://colab.research.google.com/github/KM-Pusat/TensorFlow_Learning_KMP/blob/main/02_KMP_neural_network_regression_in_tensorflow.ipynb\" target=\"_parent\"><img src=\"https://colab.research.google.com/assets/colab-badge.svg\" alt=\"Open In Colab\"/></a>"
      ]
    },
    {
      "cell_type": "markdown",
      "metadata": {
        "id": "UPgo18-N1gSi"
      },
      "source": [
        "# 02. Neural Network Regression with TensorFlow\n",
        "\n",
        "Terdapat banyak sekali definisi untuk   [regression problem](https://en.wikipedia.org/wiki/Regression_analysis) namun dalam kasus kita menggunakan **TensorFlow**, kita akan menyederhanakannya menjadi: memprediksi angka (predict number).\n",
        "\n",
        "Misalnya, kalian akan menggunakan regression untuk:\n",
        "- Memprediksi harga jual rumah dengan informasi yang diberikan (seperti jumlah kamar, ukuran, jumlah kamar mandi).\n",
        "- Memprediksi [koordinat kotak pembatas item](https://answers.opencv.org/upfiles/14285711591298042.png) dalam gambar.\n",
        "- Memprediksi biaya asuransi kesehatan untuk individu berdasarkan demografi mereka (umur, jenis kelamin, dan ras).\n",
        "\n",
        "Dalam notebook (hands-on) ini, Kita akan menetapkan dasar atau landasan bagaimana kita dapat mengambil sampel input (data kalian), membangun neural network untuk menemukan pola dalam input tersebut dan kemudian membuat sebuah prediksi (dalam bentuk numerik) berdasarkan input tersebut.\n",
        "\n",
        "## Apa yang akan dibahas\n",
        "\n",
        "Lebih spesifik, kita akan melakukan hal-hal berikut dengan TensorFlow:\n",
        "- Arsitektur dari  model regression\n",
        "- Input shapes dan output shapes\n",
        "  - `X`: fitur/data (inputs)\n",
        "  - `y`: label (outputs)\n",
        "- Membuat data khusus untuk dilihat (view) dan disesuaikan (fit)\n",
        "- Langkah-langkah dalam pemodelan\n",
        "  - Creating a model (membuat model)\n",
        "  - Compiling a model (menyusun model)\n",
        "    - Mendefinisikan loss function (fungsi loss)\n",
        "    - Mengatur dan menyiapkan optimizer (pengoptimal)\n",
        "    - Membuat evaluation metrics (matriks evaluasi)\n",
        "  - Menyesuaikan model (menggunakannya untuk menemukan pola dalam data kita)\n",
        "- Mengevaluasi model\n",
        "  - Memvisualisasikan model (\"visualize, visualize, visualize\")\n",
        "  - Melihat training curves (kurva pelatihan)\n",
        "  - Bandingkan prediksi dengan kebenaran dasar (menggunakan model matrik evaluasi kita)\n",
        "- Menyimpan model (agar kita bisa menggunakannya nanti)\n",
        "- Memuat model\n",
        "\n",
        "Jangan khawatir jika masih belum ada yang dipahami sekarang, namun kita akan membahasnya satu per satu.\n",
        "\n",
        "## Bagaimana kalian menggunakan notebook (hands-on) ini\n",
        "\n",
        "Kalian dapat membaca deskripsi dan kodenya (semua kode harusnya bisa dirun), tetapi ada opsi yang lebih baik.\n",
        "\n",
        "Tulis semua kode sendiri.\n",
        "\n",
        "Ya. serius. Membuat notebook, dan tulis ulang setiap barisnya sendiri. Selidiki, dan lihat apakah kalian bisa memecahkan kode tersebut, dan mengapa kode tersebut bisa berjalan?\n",
        "\n",
        "Klain tidak harus menulis deskripsi teks (text cell) tetapi dengan menulis kode tersebut sendiri adalah cara yang bagus untuk mendapatkan pengalaman secara langsung.\n",
        "\n",
        "Jangan khawatir jika membuat kesalahan, bahkan kami yang membuat notebook ini juga melakukannya. Sehingga cara untuk menjadi lebih baik dan dapat mengurangi kesalahan adalah dengan  **menulis lebih banyak kode**."
      ]
    },
    {
      "cell_type": "markdown",
      "metadata": {
        "id": "etAu7oCZ8r_G"
      },
      "source": [
        "## Arsitektur typical (khas) dari regresison neural network\n",
        "\n",
        "Kata *typical* memang sengaja digunakan.\n",
        "\n",
        "Mengapa?\n",
        "\n",
        "Karena terdapat banyak cara (bahkan mungkin tidak terbatas) untuk menulis neural networks.\n",
        "\n",
        "Tetapi terdapat pula pengaturan yang umum untuk memasukan kumpulan angka, menemukan pola didalamnya dan kemudian mengeluarkan semacam angka target (result).\n",
        "\n",
        "Ya, mungkin kalimat yang dipaparkan masih belum jelas, tetapi kita akan segera melihat dan memahaminya dalam coding nantinya.\n",
        "\n",
        "| **Hyperparameter** | **Typical value** |\n",
        "| --- | --- |\n",
        "| Input layer shape | Shape (bentuk) yang sama dengan jumlah fitur / **data input** (misalnya. 3 untuk # kamar tidur, # kamar mandi, # garasi dalam prediksi harga rumah) |\n",
        "| Hidden layer(s) | Spesifik masalah, minimum = 1, maksimum = tidak terbatas |\n",
        "| Neurons per hidden layer | Spesifik masalah, umumnya 10 sampai 100 |\n",
        "| Output layer shape | Shape (bentuk) yang sama dengan bentuk prediksi yang diinginkan / **output** (misalnya. 1 untuk harga rumah) |\n",
        "| Hidden activation | Biasanya menggunakan [ReLU](https://www.kaggle.com/dansbecker/rectified-linear-units-relu-in-deep-learning) (rectified linear unit) |\n",
        "| Output activation | None, ReLU, logistic/tanh |\n",
        "| Loss function | [MSE](https://en.wikipedia.org/wiki/Mean_squared_error) (mean square error) atau [MAE](https://en.wikipedia.org/wiki/Mean_absolute_error) (mean absolute error) / Huber (kombinasi dari MSE dan MAE) jika [outliers](https://id.wikipedia.org/wiki/Pencilan) |\n",
        "| Optimizer | [SGD](https://www.tensorflow.org/api_docs/python/tf/keras/optimizers/SGD) (stochastic gradient descent), [Adam](https://www.tensorflow.org/api_docs/python/tf/keras/optimizers/Adam) |\n",
        "\n",
        "*Tabel 1: Arsitektur umum dari regression network. Sumber: Diadaptasi dari halaman 293 pada buku [Hands-On Machine Learning with Scikit-Learn, Keras & TensorFlow Book oleh Aurélien Géron](https://drive.google.com/file/d/1Rx0XHxYYkgKrmsBu6hqd_kSmIHOWzfgs/view?usp=sharing)*\n",
        "\n",
        "Sekali lagi, jika kalian baru mengenal neural networks dan deep learning secara umum, sebagian besar isi pada tabel diatas mungkin tidak kalian pahami. Namun jangan khawatir, kita akan segera membahas semuanya pada hands-on ini.\n",
        "\n",
        "> 🔑 **Catatan:**  **hyperparameter** dalam machine learning adalah sesuatu yang dapat diatur oleh data analyst atau developer, di mana **parameter** biasanya menggambarkan sesuatu yang dipelajari oleh model dengan sendirinya (nilai yang tidak secara eksplisit ditetapkan oleh analis).\n",
        "\n",
        "Oke, cukup untuk penjelasannya, mari sekarang kita mulai menulis kode.\n",
        "\n",
        "Untuk menggunakan TensorFlow, kita akan mengimport sebagai `tf` (singkatan dari TensorFlow)."
      ]
    },
    {
      "cell_type": "code",
      "metadata": {
        "id": "FMqsqKpk7TrH",
        "colab": {
          "base_uri": "https://localhost:8080/"
        },
        "outputId": "f01c0407-29a5-430a-fa77-58ab42f18aaf"
      },
      "source": [
        "import tensorflow as tf\n",
        "print(tf.__version__) # Mengecek versi TensorFlow (seharusnya 2.x+)\n",
        "\n",
        "import datetime\n",
        "print(f\"Notebook terkahir dijalankan (end-to-end): {datetime.datetime.now()}\")"
      ],
      "execution_count": null,
      "outputs": [
        {
          "output_type": "stream",
          "name": "stdout",
          "text": [
            "2.12.0\n",
            "Notebook terkahir dijalankan (end-to-end): 2023-06-14 08:14:15.664768\n"
          ]
        }
      ]
    },
    {
      "cell_type": "markdown",
      "metadata": {
        "id": "8clMYxrF6Mzv"
      },
      "source": [
        "## Membuat data untuk di lihat (view) dan disesuaikan (fit)\n",
        "\n",
        "Karena kita sedang mengerjakan  **regression problem** (memprediksi angka) mari kita buat beberapa data linear (garis lurus) untuk dimodelkan."
      ]
    },
    {
      "cell_type": "code",
      "metadata": {
        "id": "G43tWFof6i7T",
        "colab": {
          "base_uri": "https://localhost:8080/",
          "height": 435
        },
        "outputId": "c87f1be6-1bbc-4c87-d279-d0bcdd885f36"
      },
      "source": [
        "import numpy as np\n",
        "import matplotlib.pyplot as plt\n",
        "\n",
        "# Membuat fitur\n",
        "X = np.array([-7.0, -4.0, -1.0, 2.0, 5.0, 8.0, 11.0, 14.0])\n",
        "\n",
        "# Membuat label\n",
        "y = np.array([3.0, 6.0, 9.0, 12.0, 15.0, 18.0, 21.0, 24.0])\n",
        "\n",
        "# Memvisualisasikan data tersebut\n",
        "plt.scatter(X, y);"
      ],
      "execution_count": null,
      "outputs": [
        {
          "output_type": "display_data",
          "data": {
            "text/plain": [
              "<Figure size 640x480 with 1 Axes>"
            ],
            "image/png": "[encoded data removed]"
          },
          "metadata": {}
        }
      ]
    },
    {
      "cell_type": "markdown",
      "metadata": {
        "id": "9ONZF8un7_xy"
      },
      "source": [
        "Sebelum kita melakukan pemodelan, bisakah kalian menghitung pola antara `X` dan `y`?\n",
        "\n",
        "Sebagai contoh, Anggaplah saya bertanya kepada kalian, berdasarkan data ini berapakah nilai `y` jika `X` adalah 17.0?\n",
        "\n",
        "Atau bagaimana jika `X` adalah -10.0?\n",
        "\n",
        "Penemuan pola seperti ini adalah inti dari apa yang akan dilakukan oleh neural network untuk kita."
      ]
    },
    {
      "cell_type": "markdown",
      "metadata": {
        "id": "zNCXxHnF6jjZ"
      },
      "source": [
        "## Regression input shapes dan output shapes\n",
        "\n",
        "salah satu konsep yang paling penting ketika bekerja dengan neural networks adalah input dan output shapes.\n",
        "\n",
        "**input shape** adalah bentuk data yang masuk ke dalam model.\n",
        "\n",
        "**output shape** adalah bentuk data yang ingin kalian dapat dari model kalian.\n",
        "\n",
        "Hal ini akan berbeda tergantung pada masalah yang sedang kalian kerjakan.\n",
        "\n",
        "Neural networks menerima angka dan mengeluarkan angka. Angka-angka ini biasanya direpresentasikan sebagai tensor (atau arrays).\n",
        "\n",
        "Sebelumnya, kita telah membuat data menggunakan NumPy arrays, tetapi kita dapat melakukan hal yang sama dengan tensors."
      ]
    },
    {
      "cell_type": "code",
      "metadata": {
        "colab": {
          "base_uri": "https://localhost:8080/"
        },
        "id": "XrXQ3m0prWXa",
        "outputId": "75ed9b57-5ecf-4635-872c-298726253bef"
      },
      "source": [
        "# Contoh input dan output shape dari regression model\n",
        "house_info = tf.constant([\"bedroom\", \"bathroom\", \"garage\"])\n",
        "house_price = tf.constant([939700])\n",
        "house_info, house_price"
      ],
      "execution_count": null,
      "outputs": [
        {
          "output_type": "execute_result",
          "data": {
            "text/plain": [
              "(<tf.Tensor: shape=(3,), dtype=string, numpy=array([b'bedroom', b'bathroom', b'garage'], dtype=object)>,\n",
              " <tf.Tensor: shape=(1,), dtype=int32, numpy=array([939700], dtype=int32)>)"
            ]
          },
          "metadata": {},
          "execution_count": 3
        }
      ]
    },
    {
      "cell_type": "code",
      "metadata": {
        "colab": {
          "base_uri": "https://localhost:8080/"
        },
        "id": "Yi3VWKH6sRrZ",
        "outputId": "8fc98f7e-57c2-484b-e98d-3a550fc1955f"
      },
      "source": [
        "house_info.shape"
      ],
      "execution_count": null,
      "outputs": [
        {
          "output_type": "execute_result",
          "data": {
            "text/plain": [
              "TensorShape([3])"
            ]
          },
          "metadata": {},
          "execution_count": 4
        }
      ]
    },
    {
      "cell_type": "code",
      "metadata": {
        "id": "kOxyr9sR6m9X",
        "colab": {
          "base_uri": "https://localhost:8080/",
          "height": 435
        },
        "outputId": "c5f920dd-90cd-475e-c7da-655efe76677d"
      },
      "source": [
        "import numpy as np\n",
        "import matplotlib.pyplot as plt\n",
        "\n",
        "# Membuat fitur (menggunakan tensors)\n",
        "X = tf.constant([-7.0, -4.0, -1.0, 2.0, 5.0, 8.0, 11.0, 14.0])\n",
        "\n",
        "# Membuat label (menggunakan tensors)\n",
        "y = tf.constant([3.0, 6.0, 9.0, 12.0, 15.0, 18.0, 21.0, 24.0])\n",
        "\n",
        "# Memvisualisasikan data tersebut\n",
        "plt.scatter(X, y);"
      ],
      "execution_count": null,
      "outputs": [
        {
          "output_type": "display_data",
          "data": {
            "text/plain": [
              "<Figure size 640x480 with 1 Axes>"
            ],
            "image/png": "[encoded data removed]"
          },
          "metadata": {}
        }
      ]
    },
    {
      "cell_type": "markdown",
      "metadata": {
        "id": "zaPxco6E9i1_"
      },
      "source": [
        "Tujuan kita disini adalah menggunakan `X` untuk memprediksi `y`.\n",
        "\n",
        "Jadi, **input** kita akan menjadi `X` dan **output** akan menjadi `y`.\n",
        "\n",
        "Dengan mengetahui hal ini, menurut kalian bagaimanakah bentuk input dan output kita nantinya?\n",
        "\n",
        "Mari kita coba dan lihat."
      ]
    },
    {
      "cell_type": "code",
      "metadata": {
        "id": "j1oT1gmB9iX-",
        "colab": {
          "base_uri": "https://localhost:8080/"
        },
        "outputId": "d4a755ee-489d-4be7-9acb-d48004fbef63"
      },
      "source": [
        "# Mengambil satu contoh dari X\n",
        "input_shape = X[0].shape\n",
        "\n",
        "# Mengambil satu contoh dari y\n",
        "output_shape = y[0].shape\n",
        "\n",
        "input_shape, output_shape # Keduanya adalah scalar (tidak mempunyai shape)"
      ],
      "execution_count": null,
      "outputs": [
        {
          "output_type": "execute_result",
          "data": {
            "text/plain": [
              "(TensorShape([]), TensorShape([]))"
            ]
          },
          "metadata": {},
          "execution_count": 6
        }
      ]
    },
    {
      "cell_type": "markdown",
      "metadata": {
        "id": "m4txxFTL_EEX"
      },
      "source": [
        "Hmm?\n",
        "\n",
        "Dari sini, terlihat jika input dan output kita tidak memiliki shape?\n",
        "\n",
        "Bagaimana itu bisa terjadi?\n",
        "\n",
        "Itu karena apa pun jenis data yang kita inputkan ke model kita, model akan selalu menerima input dan menghasilkan output semacam tensor.\n",
        "\n",
        "Tetapi dalam kasus kita karena datasetnya (hanya 2 list kecil dari angka), kita melihat jenis tensor khusus, lebih spesifik lagi yaitu tensor rank 0 atau skalar."
      ]
    },
    {
      "cell_type": "code",
      "metadata": {
        "id": "Dag5y4MPaTmc",
        "colab": {
          "base_uri": "https://localhost:8080/"
        },
        "outputId": "bd84ef34-e85b-46db-d730-643b4ed62e2a"
      },
      "source": [
        "# Mari kita melihat satu per satu contohnya\n",
        "X[0], y[0]"
      ],
      "execution_count": null,
      "outputs": [
        {
          "output_type": "execute_result",
          "data": {
            "text/plain": [
              "(<tf.Tensor: shape=(), dtype=float32, numpy=-7.0>,\n",
              " <tf.Tensor: shape=(), dtype=float32, numpy=3.0>)"
            ]
          },
          "metadata": {},
          "execution_count": 7
        }
      ]
    },
    {
      "cell_type": "markdown",
      "metadata": {
        "id": "fKtihU57_cOY"
      },
      "source": [
        "Dalam kasus kita, kita akan mencoba membuat model untuk memprediksi pola antara `X[0]` yang sama dengan `-7.0` dan `y[0]` yang sama dengan `3.0`.\n",
        "\n",
        "Jadi sekarang kita mendapatkan jawaban, kita akan mencoba menggunakan 1 nilai `X` untuk memprediksi 1 nilai `y`.\n",
        "\n",
        "Kalian mungkin berfikir, \"sepertinya ini cukup sulit untuk memprediksi sebuah garis lurus...\".\n",
        "\n",
        "Dan kalian mungkin benar.\n",
        "\n",
        "Tetapi konsep yang akan kita bahas disini, adalah konsep dari input dan output shape pada sebuah model merupakan hal yang fundamental.\n",
        "\n",
        "Faktanya, hal tersebut mungkin merupakan dua hal yang paling banyak kalian habiskan ketika bekerja dengan neural networks: **Memastikan bahwa input dan output kalian memiliki shape yang benar**.\n",
        "\n",
        "Jika memang tidak paham sekarang, kita akan melihat lebih banyak contoh lagi nanti (kalian akan melihat bahwa shape input dan output dapat berupa apa saja yang dapat kalian bayangkan).\n",
        "\n",
        "![example of input and output shapes for a housing price prediction problem](https://raw.githubusercontent.com/mrdbourke/tensorflow-deep-learning/main/images/01-input-and-output-shapes-housing-prices.png)\n",
        "*Jika kalian sedang membangun algoritma machine learning untuk memprediksi harga rumah, input kalian mungkin berupa jumlah kamar tidur , jumlah kamar mandi, dan jumlah garasi, sehingga kalian memiliki 3 shape input (3 fitur yang berbeda). Dan karena kalian mencoba memprediksi harga rumah, output shape kalian adalah 1 .*"
      ]
    },
    {
      "cell_type": "markdown",
      "metadata": {
        "id": "PhAIqjrn6olF"
      },
      "source": [
        "## Langkah-langkah pemodelan dengan TensorFlow\n",
        "\n",
        "Setelah kita mengetahui data apa yang dimiliki serta shape input dan outputnya, sekarang kita akan lihat bagaimana kita membangun neural network untuk memodelkannya.\n",
        "\n",
        "Di TensorFlow, biasanya ada 3 langkah yang fundamental untuk membuat dan melatih model.\n",
        "\n",
        "1. **Membuat model** - menyusun sendiri lapisan neural network (menggunakan [Functional](https://www.tensorflow.org/guide/keras/functional) atau [Sequential API](https://www.tensorflow.org/api_docs/python/tf/keras/Sequential)) atau mengimport model yang telah dibuat sebelumnya (yang dikenal dengan istilah transfer learning).\n",
        "2. **Menyusun model** - mendefinisikan bagaimana kinerja model harus diukur (loss/metrics) serta mendefinisikan bagaimana model harus ditingkatkan (optimizer).\n",
        "3. **Mencoba / memasangkan model** - membiarkan model mencoba menemukan pola dalam data (bagaimana `X` bisa menjadi `y`).\n",
        "\n",
        "Mari kita lihat cara kerjanya dengan menggunakan [Keras Sequential API](https://www.tensorflow.org/api_docs/python/tf/keras/Sequential) untuk membangun model regression data untuk kita. Dan kemudian kita akan membahasnya satu per satu.\n",
        "\n",
        "> **Catatan:** Jika kalian menggunakan [TensorFlow 2.7.0](https://github.com/tensorflow/tensorflow/releases/tag/v2.7.0)+, fungsi `fit()` tidak lagi meningkatkan skala data input dari `(batch_size, )` menjadi `(batch_size, 1)`. Untuk memperbaikinya, kalian harus memperluas dimensi data input menggunakan `tf.expand_dims(input_data, axis=-1)`.\n",
        ">\n",
        "> Dalam kasus kita, ini berarti alih-alih kita menggunakan `model.fit(X, y, epochs=5)`, gunakanlah `model.fit(tf.expand_dims(X, axis=-1), y, epochs=5)`."
      ]
    },
    {
      "cell_type": "code",
      "metadata": {
        "id": "P9jj-OE16yCn",
        "colab": {
          "base_uri": "https://localhost:8080/"
        },
        "outputId": "aee2ddee-2d8a-4fc0-8880-296b98b7369e"
      },
      "source": [
        "# Mendefinisikan random seed\n",
        "tf.random.set_seed(42)\n",
        "\n",
        "# Membuat model dengan menggunakan Sequential API\n",
        "model = tf.keras.Sequential([\n",
        "  tf.keras.layers.Dense(1)\n",
        "])\n",
        "\n",
        "# Menyusun model tersebut\n",
        "model.compile(loss=tf.keras.losses.mae, # mae is short for mean absolute error\n",
        "              optimizer=tf.keras.optimizers.SGD(), # SGD is short for stochastic gradient descent\n",
        "              metrics=[\"mae\"])\n",
        "\n",
        "# Mencoba model\n",
        "# model.fit(X, y, epochs=5) # ini akan error dengan TensorFlow 2.7.0+\n",
        "model.fit(tf.expand_dims(X, axis=-1), y, epochs=5)"
      ],
      "execution_count": null,
      "outputs": [
        {
          "output_type": "stream",
          "name": "stdout",
          "text": [
            "Epoch 1/5\n",
            "1/1 [==============================] - 6s 6s/step - loss: 21.2908 - mae: 21.2908\n",
            "Epoch 2/5\n",
            "1/1 [==============================] - 0s 18ms/step - loss: 20.8977 - mae: 20.8977\n",
            "Epoch 3/5\n",
            "1/1 [==============================] - 0s 19ms/step - loss: 20.5205 - mae: 20.5205\n",
            "Epoch 4/5\n",
            "1/1 [==============================] - 0s 18ms/step - loss: 20.2393 - mae: 20.2393\n",
            "Epoch 5/5\n",
            "1/1 [==============================] - 0s 36ms/step - loss: 19.9580 - mae: 19.9580\n"
          ]
        },
        {
          "output_type": "execute_result",
          "data": {
            "text/plain": [
              "<keras.callbacks.History at 0x7fa3312a9d50>"
            ]
          },
          "metadata": {},
          "execution_count": 8
        }
      ]
    },
    {
      "cell_type": "markdown",
      "metadata": {
        "id": "bbjCwkEtetB9"
      },
      "source": [
        "Duarr!\n",
        "\n",
        "Kita baru saja melatih sebuah model untuk mengetahui pola antara `X` dan `y`.\n",
        "\n",
        "Bagaimana hasilnya menurut kalian?"
      ]
    },
    {
      "cell_type": "code",
      "metadata": {
        "id": "VWLpG2U3erWo",
        "colab": {
          "base_uri": "https://localhost:8080/"
        },
        "outputId": "b5b31278-3446-41f1-84fd-058afbbca30d"
      },
      "source": [
        "# Melihat X dan y\n",
        "X, y"
      ],
      "execution_count": null,
      "outputs": [
        {
          "output_type": "execute_result",
          "data": {
            "text/plain": [
              "(<tf.Tensor: shape=(8,), dtype=float32, numpy=array([-7., -4., -1.,  2.,  5.,  8., 11., 14.], dtype=float32)>,\n",
              " <tf.Tensor: shape=(8,), dtype=float32, numpy=array([ 3.,  6.,  9., 12., 15., 18., 21., 24.], dtype=float32)>)"
            ]
          },
          "metadata": {},
          "execution_count": 9
        }
      ]
    },
    {
      "cell_type": "markdown",
      "metadata": {
        "id": "0ZpkaI_Oe6no"
      },
      "source": [
        "Menurut kalian, apa yang akan terjadi jika kita memberikan nilai `X` sebesar 17.0 pada model kita?"
      ]
    },
    {
      "cell_type": "code",
      "metadata": {
        "id": "X86cD66Qeo-8",
        "colab": {
          "base_uri": "https://localhost:8080/"
        },
        "outputId": "f59613bb-2384-4239-e356-1a7fa0d8f003"
      },
      "source": [
        "# Membuat prediction dengan model\n",
        "model.predict([17.0])"
      ],
      "execution_count": null,
      "outputs": [
        {
          "output_type": "stream",
          "name": "stdout",
          "text": [
            "1/1 [==============================] - 0s 71ms/step\n"
          ]
        },
        {
          "output_type": "execute_result",
          "data": {
            "text/plain": [
              "array([[-22.475925]], dtype=float32)"
            ]
          },
          "metadata": {},
          "execution_count": 10
        }
      ]
    },
    {
      "cell_type": "markdown",
      "metadata": {
        "id": "2YoKIqhffq33"
      },
      "source": [
        "Model tersebut tidak berjalan dengan baik... seharusnya menghasilkan output yang mendekati 27.0.\n",
        "\n",
        "> 🤔 **Pertanyaan:** Apa itu Keras? selama kita membuat model neural network dengan TensorFlow tetapi setiap menulis kode TensorFlow, `keras` muncul setelah `tf` (Misalnya. `tf.keras.layers.Dense()`)?\n",
        "\n",
        "Sebelum TensorFlow 2.0+, [Keras](https://keras.io/) adalah API yang dirancang agar dapat membangun deep learning models dengan mudah. Semenjak TensorFlow 2.0+, fungsinya telah terintegrasi dengan baik dalam TensorFlow library."
      ]
    },
    {
      "cell_type": "markdown",
      "metadata": {
        "id": "qAPk1T3xgOm4"
      },
      "source": [
        "## Meningkatkan peforma model\n",
        "\n",
        "Menurut kalian, bagaimana caranya untuk mmeningkatkan model yang kita buat barusan?\n",
        "\n",
        "Jika kalian menebak dengan mengubah beberapa hal yang kita lakukan diatas, kalian benar.\n",
        "\n",
        "Untuk meningkatkan peforma model, kita perlu mengubah (alter) hampir semua bagian dari 3 langkah yang telah dilakukan sebelumnya.\n",
        "\n",
        "1. **Membuat model** - disini kalian bisa menambahkan lebih banyak layers, menambah number of hidden units (atau biasa disebut neurons) di dalam setiap layer, mengubah activation functions disetiap layer.\n",
        "2. **Menyusun model** - Kalian mungkin ingin mengubah optimization function atau mungkin **learning rate** dari optimization function.\n",
        "3. **Mencoba / memasangkan model** - mungkin kalian dapat mencoba menggunakan model lebih banyak **epoch** (membuat model berlatih lebih lama) atau menggunakan lebih banyak data (berikan model lebih banyak contoh / data untuk dipelajari).\n",
        "\n",
        "![various options you can use to improve a neural network model](https://raw.githubusercontent.com/mrdbourke/tensorflow-deep-learning/main/images/02-improving-a-model-from-model-perspective.png)\n",
        "*Ada banyak cara yang berbeda untuk meningkatkan potensi neural network. Beberapa yang paling umum termasuk: meningkatkan jumlah layers (membuat network deeper), meningkatkan number of hidden units (membuat network lebih luas) dan mengubah learning rate. Karena semua nilai ini dapat diubah oleh developer, semua itu biasanya disebut sebagai [hyperparameters](https://en.wikipedia.org/wiki/Hyperparameter_(machine_learning)) dan praktik untuk menemukan hyperparameter yang terbaik disebut sebagai [hyperparameter tuning](https://en.wikipedia.org/wiki/Hyperparameter_optimization).*\n",
        "\n",
        "Wah. Kita baru saja berkenalan dengan beberapa langkah yang mungkin dilakukan. Yang penting untuk diingat adalah, bagaimana kalian mengubah setiap langkah ini akan bergantung pada masalah yang sedang kalian kerjakan.\n",
        "\n",
        "Dan hal baiknya adalah, dalam beberapa permasalahan berikutnya, kita akan mempraktikkannya semuanya.\n",
        "\n",
        "Untuk saat ini mari kita buat sederhana, yang akan kita lakukan adalah melatih model lebih lama (hyperparameter lain akan tetap sama)."
      ]
    },
    {
      "cell_type": "code",
      "metadata": {
        "id": "MI0LammMgWcN",
        "colab": {
          "base_uri": "https://localhost:8080/"
        },
        "outputId": "b2e79917-7e82-4995-f712-cc129f617ed6"
      },
      "source": [
        "# Mendefinisikan random seed\n",
        "tf.random.set_seed(42)\n",
        "\n",
        "# Membuat model (sama seperti yang diatas)\n",
        "model = tf.keras.Sequential([\n",
        "  tf.keras.layers.Dense(1)\n",
        "])\n",
        "\n",
        "# menyusun model (sama seperti yang diatas)\n",
        "model.compile(loss=tf.keras.losses.mae,\n",
        "              optimizer=tf.keras.optimizers.SGD(),\n",
        "              metrics=[\"mae\"])\n",
        "\n",
        "# Mencoba model (kali ini kita akan melatih model lebih lama)\n",
        "model.fit(tf.expand_dims(X, axis=-1), y, epochs=100) # melatihnya dengan 100 epochs bukan 10"
      ],
      "execution_count": null,
      "outputs": [
        {
          "output_type": "stream",
          "name": "stdout",
          "text": [
            "Epoch 1/100\n",
            "1/1 [==============================] - 1s 525ms/step - loss: 9.2301 - mae: 9.2301\n",
            "Epoch 2/100\n",
            "1/1 [==============================] - 0s 12ms/step - loss: 9.0976 - mae: 9.0976\n",
            "Epoch 3/100\n",
            "1/1 [==============================] - 0s 11ms/step - loss: 8.9651 - mae: 8.9651\n",
            "Epoch 4/100\n",
            "1/1 [==============================] - 0s 11ms/step - loss: 8.8326 - mae: 8.8326\n",
            "Epoch 5/100\n",
            "1/1 [==============================] - 0s 11ms/step - loss: 8.7001 - mae: 8.7001\n",
            "Epoch 6/100\n",
            "1/1 [==============================] - 0s 11ms/step - loss: 8.5676 - mae: 8.5676\n",
            "Epoch 7/100\n",
            "1/1 [==============================] - 0s 11ms/step - loss: 8.4351 - mae: 8.4351\n",
            "Epoch 8/100\n",
            "1/1 [==============================] - 0s 10ms/step - loss: 8.3026 - mae: 8.3026\n",
            "Epoch 9/100\n",
            "1/1 [==============================] - 0s 10ms/step - loss: 8.1701 - mae: 8.1701\n",
            "Epoch 10/100\n",
            "1/1 [==============================] - 0s 10ms/step - loss: 8.0376 - mae: 8.0376\n",
            "Epoch 11/100\n",
            "1/1 [==============================] - 0s 10ms/step - loss: 7.9051 - mae: 7.9051\n",
            "Epoch 12/100\n",
            "1/1 [==============================] - 0s 10ms/step - loss: 7.7726 - mae: 7.7726\n",
            "Epoch 13/100\n",
            "1/1 [==============================] - 0s 10ms/step - loss: 7.6401 - mae: 7.6401\n",
            "Epoch 14/100\n",
            "1/1 [==============================] - 0s 12ms/step - loss: 7.5076 - mae: 7.5076\n",
            "Epoch 15/100\n",
            "1/1 [==============================] - 0s 10ms/step - loss: 7.3950 - mae: 7.3950\n",
            "Epoch 16/100\n",
            "1/1 [==============================] - 0s 10ms/step - loss: 7.3894 - mae: 7.3894\n",
            "Epoch 17/100\n",
            "1/1 [==============================] - 0s 12ms/step - loss: 7.3837 - mae: 7.3837\n",
            "Epoch 18/100\n",
            "1/1 [==============================] - 0s 12ms/step - loss: 7.3781 - mae: 7.3781\n",
            "Epoch 19/100\n",
            "1/1 [==============================] - 0s 12ms/step - loss: 7.3725 - mae: 7.3725\n",
            "Epoch 20/100\n",
            "1/1 [==============================] - 0s 12ms/step - loss: 7.3669 - mae: 7.3669\n",
            "Epoch 21/100\n",
            "1/1 [==============================] - 0s 13ms/step - loss: 7.3612 - mae: 7.3612\n",
            "Epoch 22/100\n",
            "1/1 [==============================] - 0s 13ms/step - loss: 7.3556 - mae: 7.3556\n",
            "Epoch 23/100\n",
            "1/1 [==============================] - 0s 11ms/step - loss: 7.3500 - mae: 7.3500\n",
            "Epoch 24/100\n",
            "1/1 [==============================] - 0s 12ms/step - loss: 7.3444 - mae: 7.3444\n",
            "Epoch 25/100\n",
            "1/1 [==============================] - 0s 12ms/step - loss: 7.3387 - mae: 7.3387\n",
            "Epoch 26/100\n",
            "1/1 [==============================] - 0s 13ms/step - loss: 7.3331 - mae: 7.3331\n",
            "Epoch 27/100\n",
            "1/1 [==============================] - 0s 12ms/step - loss: 7.3275 - mae: 7.3275\n",
            "Epoch 28/100\n",
            "1/1 [==============================] - 0s 11ms/step - loss: 7.3219 - mae: 7.3219\n",
            "Epoch 29/100\n",
            "1/1 [==============================] - 0s 10ms/step - loss: 7.3162 - mae: 7.3162\n",
            "Epoch 30/100\n",
            "1/1 [==============================] - 0s 17ms/step - loss: 7.3106 - mae: 7.3106\n",
            "Epoch 31/100\n",
            "1/1 [==============================] - 0s 10ms/step - loss: 7.3050 - mae: 7.3050\n",
            "Epoch 32/100\n",
            "1/1 [==============================] - 0s 13ms/step - loss: 7.2994 - mae: 7.2994\n",
            "Epoch 33/100\n",
            "1/1 [==============================] - 0s 15ms/step - loss: 7.2937 - mae: 7.2937\n",
            "Epoch 34/100\n",
            "1/1 [==============================] - 0s 15ms/step - loss: 7.2881 - mae: 7.2881\n",
            "Epoch 35/100\n",
            "1/1 [==============================] - 0s 11ms/step - loss: 7.2825 - mae: 7.2825\n",
            "Epoch 36/100\n",
            "1/1 [==============================] - 0s 10ms/step - loss: 7.2769 - mae: 7.2769\n",
            "Epoch 37/100\n",
            "1/1 [==============================] - 0s 11ms/step - loss: 7.2712 - mae: 7.2712\n",
            "Epoch 38/100\n",
            "1/1 [==============================] - 0s 9ms/step - loss: 7.2656 - mae: 7.2656\n",
            "Epoch 39/100\n",
            "1/1 [==============================] - 0s 11ms/step - loss: 7.2600 - mae: 7.2600\n",
            "Epoch 40/100\n",
            "1/1 [==============================] - 0s 13ms/step - loss: 7.2544 - mae: 7.2544\n",
            "Epoch 41/100\n",
            "1/1 [==============================] - 0s 12ms/step - loss: 7.2488 - mae: 7.2488\n",
            "Epoch 42/100\n",
            "1/1 [==============================] - 0s 13ms/step - loss: 7.2431 - mae: 7.2431\n",
            "Epoch 43/100\n",
            "1/1 [==============================] - 0s 10ms/step - loss: 7.2375 - mae: 7.2375\n",
            "Epoch 44/100\n",
            "1/1 [==============================] - 0s 10ms/step - loss: 7.2319 - mae: 7.2319\n",
            "Epoch 45/100\n",
            "1/1 [==============================] - 0s 14ms/step - loss: 7.2262 - mae: 7.2262\n",
            "Epoch 46/100\n",
            "1/1 [==============================] - 0s 12ms/step - loss: 7.2206 - mae: 7.2206\n",
            "Epoch 47/100\n",
            "1/1 [==============================] - 0s 14ms/step - loss: 7.2150 - mae: 7.2150\n",
            "Epoch 48/100\n",
            "1/1 [==============================] - 0s 11ms/step - loss: 7.2094 - mae: 7.2094\n",
            "Epoch 49/100\n",
            "1/1 [==============================] - 0s 10ms/step - loss: 7.2038 - mae: 7.2038\n",
            "Epoch 50/100\n",
            "1/1 [==============================] - 0s 10ms/step - loss: 7.1981 - mae: 7.1981\n",
            "Epoch 51/100\n",
            "1/1 [==============================] - 0s 10ms/step - loss: 7.1925 - mae: 7.1925\n",
            "Epoch 52/100\n",
            "1/1 [==============================] - 0s 10ms/step - loss: 7.1869 - mae: 7.1869\n",
            "Epoch 53/100\n",
            "1/1 [==============================] - 0s 10ms/step - loss: 7.1813 - mae: 7.1813\n",
            "Epoch 54/100\n",
            "1/1 [==============================] - 0s 10ms/step - loss: 7.1756 - mae: 7.1756\n",
            "Epoch 55/100\n",
            "1/1 [==============================] - 0s 10ms/step - loss: 7.1700 - mae: 7.1700\n",
            "Epoch 56/100\n",
            "1/1 [==============================] - 0s 10ms/step - loss: 7.1644 - mae: 7.1644\n",
            "Epoch 57/100\n",
            "1/1 [==============================] - 0s 10ms/step - loss: 7.1588 - mae: 7.1588\n",
            "Epoch 58/100\n",
            "1/1 [==============================] - 0s 11ms/step - loss: 7.1531 - mae: 7.1531\n",
            "Epoch 59/100\n",
            "1/1 [==============================] - 0s 11ms/step - loss: 7.1475 - mae: 7.1475\n",
            "Epoch 60/100\n",
            "1/1 [==============================] - 0s 10ms/step - loss: 7.1419 - mae: 7.1419\n",
            "Epoch 61/100\n",
            "1/1 [==============================] - 0s 9ms/step - loss: 7.1363 - mae: 7.1363\n",
            "Epoch 62/100\n",
            "1/1 [==============================] - 0s 10ms/step - loss: 7.1306 - mae: 7.1306\n",
            "Epoch 63/100\n",
            "1/1 [==============================] - 0s 10ms/step - loss: 7.1250 - mae: 7.1250\n",
            "Epoch 64/100\n",
            "1/1 [==============================] - 0s 10ms/step - loss: 7.1194 - mae: 7.1194\n",
            "Epoch 65/100\n",
            "1/1 [==============================] - 0s 10ms/step - loss: 7.1137 - mae: 7.1137\n",
            "Epoch 66/100\n",
            "1/1 [==============================] - 0s 10ms/step - loss: 7.1081 - mae: 7.1081\n",
            "Epoch 67/100\n",
            "1/1 [==============================] - 0s 10ms/step - loss: 7.1025 - mae: 7.1025\n",
            "Epoch 68/100\n",
            "1/1 [==============================] - 0s 10ms/step - loss: 7.0969 - mae: 7.0969\n",
            "Epoch 69/100\n",
            "1/1 [==============================] - 0s 10ms/step - loss: 7.0913 - mae: 7.0913\n",
            "Epoch 70/100\n",
            "1/1 [==============================] - 0s 10ms/step - loss: 7.0856 - mae: 7.0856\n",
            "Epoch 71/100\n",
            "1/1 [==============================] - 0s 10ms/step - loss: 7.0800 - mae: 7.0800\n",
            "Epoch 72/100\n",
            "1/1 [==============================] - 0s 11ms/step - loss: 7.0744 - mae: 7.0744\n",
            "Epoch 73/100\n",
            "1/1 [==============================] - 0s 16ms/step - loss: 7.0688 - mae: 7.0688\n",
            "Epoch 74/100\n",
            "1/1 [==============================] - 0s 12ms/step - loss: 7.0631 - mae: 7.0631\n",
            "Epoch 75/100\n",
            "1/1 [==============================] - 0s 11ms/step - loss: 7.0575 - mae: 7.0575\n",
            "Epoch 76/100\n",
            "1/1 [==============================] - 0s 13ms/step - loss: 7.0519 - mae: 7.0519\n",
            "Epoch 77/100\n",
            "1/1 [==============================] - 0s 12ms/step - loss: 7.0463 - mae: 7.0463\n",
            "Epoch 78/100\n",
            "1/1 [==============================] - 0s 10ms/step - loss: 7.0406 - mae: 7.0406\n",
            "Epoch 79/100\n",
            "1/1 [==============================] - 0s 12ms/step - loss: 7.0350 - mae: 7.0350\n",
            "Epoch 80/100\n",
            "1/1 [==============================] - 0s 12ms/step - loss: 7.0294 - mae: 7.0294\n",
            "Epoch 81/100\n",
            "1/1 [==============================] - 0s 12ms/step - loss: 7.0238 - mae: 7.0238\n",
            "Epoch 82/100\n",
            "1/1 [==============================] - 0s 9ms/step - loss: 7.0181 - mae: 7.0181\n",
            "Epoch 83/100\n",
            "1/1 [==============================] - 0s 10ms/step - loss: 7.0125 - mae: 7.0125\n",
            "Epoch 84/100\n",
            "1/1 [==============================] - 0s 11ms/step - loss: 7.0069 - mae: 7.0069\n",
            "Epoch 85/100\n",
            "1/1 [==============================] - 0s 14ms/step - loss: 7.0013 - mae: 7.0013\n",
            "Epoch 86/100\n",
            "1/1 [==============================] - 0s 11ms/step - loss: 6.9956 - mae: 6.9956\n",
            "Epoch 87/100\n",
            "1/1 [==============================] - 0s 9ms/step - loss: 6.9900 - mae: 6.9900\n",
            "Epoch 88/100\n",
            "1/1 [==============================] - 0s 8ms/step - loss: 6.9844 - mae: 6.9844\n",
            "Epoch 89/100\n",
            "1/1 [==============================] - 0s 9ms/step - loss: 6.9788 - mae: 6.9788\n",
            "Epoch 90/100\n",
            "1/1 [==============================] - 0s 12ms/step - loss: 6.9731 - mae: 6.9731\n",
            "Epoch 91/100\n",
            "1/1 [==============================] - 0s 8ms/step - loss: 6.9675 - mae: 6.9675\n",
            "Epoch 92/100\n",
            "1/1 [==============================] - 0s 9ms/step - loss: 6.9619 - mae: 6.9619\n",
            "Epoch 93/100\n",
            "1/1 [==============================] - 0s 10ms/step - loss: 6.9563 - mae: 6.9563\n",
            "Epoch 94/100\n",
            "1/1 [==============================] - 0s 11ms/step - loss: 6.9506 - mae: 6.9506\n",
            "Epoch 95/100\n",
            "1/1 [==============================] - 0s 9ms/step - loss: 6.9450 - mae: 6.9450\n",
            "Epoch 96/100\n",
            "1/1 [==============================] - 0s 8ms/step - loss: 6.9394 - mae: 6.9394\n",
            "Epoch 97/100\n",
            "1/1 [==============================] - 0s 11ms/step - loss: 6.9338 - mae: 6.9338\n",
            "Epoch 98/100\n",
            "1/1 [==============================] - 0s 9ms/step - loss: 6.9281 - mae: 6.9281\n",
            "Epoch 99/100\n",
            "1/1 [==============================] - 0s 9ms/step - loss: 6.9225 - mae: 6.9225\n",
            "Epoch 100/100\n",
            "1/1 [==============================] - 0s 8ms/step - loss: 6.9169 - mae: 6.9169\n"
          ]
        },
        {
          "output_type": "execute_result",
          "data": {
            "text/plain": [
              "<keras.callbacks.History at 0x7fa3310c2800>"
            ]
          },
          "metadata": {},
          "execution_count": 11
        }
      ]
    },
    {
      "cell_type": "markdown",
      "metadata": {
        "id": "1CIKSm7filgj"
      },
      "source": [
        "Kalian mungkin telah melihat nilai loss menurun dari sebelumnya (dan terus menurun seiring bertambahnya jumlah epoch).\n",
        "\n",
        "Menurut kalian, apa artinya hal tersebut ketika kita membuat prediksi dengan model kita?\n",
        "\n",
        "Bagaimana jika kita mencoba memprediksi 17.0 lagi?"
      ]
    },
    {
      "cell_type": "code",
      "metadata": {
        "id": "_YcacZsfi4zZ",
        "colab": {
          "base_uri": "https://localhost:8080/"
        },
        "outputId": "819e7ca7-ebef-4338-f85e-07622df887ad"
      },
      "source": [
        "# Melihat kembali X dan y\n",
        "X, y"
      ],
      "execution_count": null,
      "outputs": [
        {
          "output_type": "execute_result",
          "data": {
            "text/plain": [
              "(<tf.Tensor: shape=(8,), dtype=float32, numpy=array([-7., -4., -1.,  2.,  5.,  8., 11., 14.], dtype=float32)>,\n",
              " <tf.Tensor: shape=(8,), dtype=float32, numpy=array([ 3.,  6.,  9., 12., 15., 18., 21., 24.], dtype=float32)>)"
            ]
          },
          "metadata": {},
          "execution_count": 12
        }
      ]
    },
    {
      "cell_type": "code",
      "metadata": {
        "id": "e6k5V08ZivNO",
        "colab": {
          "base_uri": "https://localhost:8080/"
        },
        "outputId": "90dabf43-636a-4d53-b638-fd7a31ac32d3"
      },
      "source": [
        "# Mencoba prediksikan berapa nilai y jika X adalah 17,0\n",
        "model.predict([17.0]) # jawaban yang benar adalah 27.0 (y = X + 10)"
      ],
      "execution_count": null,
      "outputs": [
        {
          "output_type": "stream",
          "name": "stdout",
          "text": [
            "1/1 [==============================] - 0s 49ms/step\n"
          ]
        },
        {
          "output_type": "execute_result",
          "data": {
            "text/plain": [
              "array([[29.854298]], dtype=float32)"
            ]
          },
          "metadata": {},
          "execution_count": 13
        }
      ]
    },
    {
      "cell_type": "markdown",
      "metadata": {
        "id": "sYi5V8ZYi_dy"
      },
      "source": [
        "Jauh lebih baik!\n",
        "\n",
        "Hasil prediksi kita lebih dekat kali ini. Tapi kita masih bisa lebih baik lagi.\n",
        "\n",
        "Sekarang kita sudah melatih model, lalu bagaimana kita bisa mengevaluasinya sehingga mendapatkan hasil yang lebih baik lagi?"
      ]
    },
    {
      "cell_type": "markdown",
      "metadata": {
        "id": "HvC98q_h6zvG"
      },
      "source": [
        "## Mengevaluasi model\n",
        "\n",
        "Alur kerja umum yang akan kalian lalui ketika membangun neural network:\n",
        "\n",
        "```\n",
        "Membuat model -> evaluasikan ini -> membuat model (yang lebih sesuai) -> evaluasikan ini -> membuat model (yang lebih sesuai) -> evaluasikan ini...\n",
        "```\n",
        "\n",
        "Penyempurnaan / membuat model yang lebih sesuai (twearking) bukan dengan membangun model dari awal, tetapi menyesuaikan model yang sudah ada.\n",
        "\n",
        "### Visualize, visualize, visualize\n",
        "\n",
        "Ketika berbicara tentang evaluasi, kalian pasti akan mengingat kata-kata ini \"visualisasikan, visualisasikan, visualisasikan.\"\n",
        "\n",
        "Hal ini karena kalian mungkin lebih baik melihat atau melakukan sesuatu daripada memikirkannya.\n",
        "\n",
        "Merupakan ide yang bagus untuk memvisualisasikan:\n",
        "* **Data** - data seperti apa yang sedang kalian kerjakan? dan seperti apa bentuknya (shape)?\n",
        "* **Model itu sendiri** - seperti apa bentuk arsitekturnya? Apa saja shape yang berbeda?\n",
        "* **Model training** - bagaimana kinerja model saat belajar?\n",
        "* **Model prediction** - bagaimana prediksi model sesuai dengan kebenaran dasar (label asli)?\n",
        "\n",
        "Mari kita mulai dengan memvisualisasikan model.\n",
        "\n",
        "tapi pertama-tama, kita akan membuat dataset yang sedikit lebih besar dan model baru yang dapat kita gunakan (model ini akan sama seperti sebelumnya, tetapi semakin banyak latihan akan menjadi lebih baik).\n"
      ]
    },
    {
      "cell_type": "code",
      "metadata": {
        "id": "srxuqbeYopns",
        "colab": {
          "base_uri": "https://localhost:8080/"
        },
        "outputId": "91e5cb8e-83d7-4f8b-c693-57a6fe877845"
      },
      "source": [
        "# Membuat dataset yang lebih besar\n",
        "X = np.arange(-100, 100, 4)\n",
        "X"
      ],
      "execution_count": null,
      "outputs": [
        {
          "output_type": "execute_result",
          "data": {
            "text/plain": [
              "array([-100,  -96,  -92,  -88,  -84,  -80,  -76,  -72,  -68,  -64,  -60,\n",
              "        -56,  -52,  -48,  -44,  -40,  -36,  -32,  -28,  -24,  -20,  -16,\n",
              "        -12,   -8,   -4,    0,    4,    8,   12,   16,   20,   24,   28,\n",
              "         32,   36,   40,   44,   48,   52,   56,   60,   64,   68,   72,\n",
              "         76,   80,   84,   88,   92,   96])"
            ]
          },
          "metadata": {},
          "execution_count": 14
        }
      ]
    },
    {
      "cell_type": "code",
      "metadata": {
        "id": "pQcC0nSko3kJ",
        "colab": {
          "base_uri": "https://localhost:8080/"
        },
        "outputId": "e81c0942-5bc4-4538-ab5b-02e15b7846e0"
      },
      "source": [
        "# Membuat label untuk dataset (mengikuti pola yang sama seperti sebelumya)\n",
        "y = np.arange(-90, 110, 4)\n",
        "y"
      ],
      "execution_count": null,
      "outputs": [
        {
          "output_type": "execute_result",
          "data": {
            "text/plain": [
              "array([-90, -86, -82, -78, -74, -70, -66, -62, -58, -54, -50, -46, -42,\n",
              "       -38, -34, -30, -26, -22, -18, -14, -10,  -6,  -2,   2,   6,  10,\n",
              "        14,  18,  22,  26,  30,  34,  38,  42,  46,  50,  54,  58,  62,\n",
              "        66,  70,  74,  78,  82,  86,  90,  94,  98, 102, 106])"
            ]
          },
          "metadata": {},
          "execution_count": 15
        }
      ]
    },
    {
      "cell_type": "markdown",
      "metadata": {
        "id": "KNIw5tgGpKjb"
      },
      "source": [
        "Karena $y=X+10$, kita juga dapat membuat label seperti ini:"
      ]
    },
    {
      "cell_type": "code",
      "metadata": {
        "id": "ACgbmrAOpJwW",
        "colab": {
          "base_uri": "https://localhost:8080/"
        },
        "outputId": "e35dd8f1-770e-45b5-a023-bc7504fc8cd7"
      },
      "source": [
        "# Memiliki hasil yang sama seperti diatas\n",
        "y = X + 10\n",
        "y"
      ],
      "execution_count": null,
      "outputs": [
        {
          "output_type": "execute_result",
          "data": {
            "text/plain": [
              "array([-90, -86, -82, -78, -74, -70, -66, -62, -58, -54, -50, -46, -42,\n",
              "       -38, -34, -30, -26, -22, -18, -14, -10,  -6,  -2,   2,   6,  10,\n",
              "        14,  18,  22,  26,  30,  34,  38,  42,  46,  50,  54,  58,  62,\n",
              "        66,  70,  74,  78,  82,  86,  90,  94,  98, 102, 106])"
            ]
          },
          "metadata": {},
          "execution_count": 16
        }
      ]
    },
    {
      "cell_type": "markdown",
      "metadata": {
        "id": "ax3MnQDupeBp"
      },
      "source": [
        "## Membagi data menjadi training set dan test set\n",
        "\n",
        "Salah satu langkah paling umum dan penting dalam project machine learning adalah membuat set pelatihan (training set) dan set pengujian (test set) atau jika diperlukan juga bisa menambahkan set validasi (validation set).\n",
        "\n",
        "Setiap set memiliki tujuan tertentu:\n",
        "* **Training set** - model akan belajar dari data ini, yang biasanya terdiri dari 70-80% dari total data yang tersedia (seperti materi pelajaran yang kalian pelajari selama satu semester).\n",
        "* **Validation set** - model diset pada data ini, yang biasanya 10-15% dari total data yang tersedia (seperti ujian praktik yang kalian ambil sebelum ujian akhir).\n",
        "* **Test set** - model akan dievaluasi pada tahap ini untuk menguji apa yang telah dipelajari, biasanya 10-15% dari total data yang tersedia (seperti ujian akhir yang kalian ambil pada akhir semester).\n",
        "\n",
        "Untuk saat ini, kita hanya akan menggunakan training dan test set, ini berarti kita akan memiliki dataset untuk model kita pelajari dan juga evaluasi.\n",
        "\n",
        "Kita dapat membuatnya dengan memisahkan array `X` dan `y`.\n",
        "\n",
        "> 🔑 **Catatan:** Ketika berurusan dengan data pada dunia nyata, langkah ini biasanya akan dilakukan diawal project (test set harus selalu dipisahkan dari semua data lainnya). Hal ini supaya model kita dapat belajar pada training data dan kemudian mengevaluasinya pada test data untuk mendapatkan indikasi seberapa baik model tersebut dapat **menggeneralisasi** contoh-contoh yang tidak terlihat."
      ]
    },
    {
      "cell_type": "code",
      "metadata": {
        "id": "5G0RDMnZrgvK",
        "colab": {
          "base_uri": "https://localhost:8080/"
        },
        "outputId": "ef91cdc2-1929-44e5-9c25-bb14da6c4baa"
      },
      "source": [
        "# Melihat berapa banyak sampel data yang kita miliki\n",
        "len(X)"
      ],
      "execution_count": null,
      "outputs": [
        {
          "output_type": "execute_result",
          "data": {
            "text/plain": [
              "50"
            ]
          },
          "metadata": {},
          "execution_count": 17
        }
      ]
    },
    {
      "cell_type": "code",
      "metadata": {
        "id": "4Q9ptcQkrGfO",
        "colab": {
          "base_uri": "https://localhost:8080/"
        },
        "outputId": "6488e928-d67b-4551-df92-5f38343bcbf2"
      },
      "source": [
        "# Membagi data menjadi train set dan test set\n",
        "X_train = X[:40] # Pertama 40 contoh (80% dari data)\n",
        "y_train = y[:40]\n",
        "\n",
        "X_test = X[40:] # Terakhir 10 contoh (20% dari data)\n",
        "y_test = y[40:]\n",
        "\n",
        "len(X_train), len(X_test)"
      ],
      "execution_count": null,
      "outputs": [
        {
          "output_type": "execute_result",
          "data": {
            "text/plain": [
              "(40, 10)"
            ]
          },
          "metadata": {},
          "execution_count": 18
        }
      ]
    },
    {
      "cell_type": "markdown",
      "metadata": {
        "id": "Rz2cIdECsLH5"
      },
      "source": [
        "## Memvisualisasikan data\n",
        "\n",
        "Sekarang kita sudah memiliki training dan test data, akan menjadi ide bagus jika kita mencoba memvisualisasikannya.\n",
        "\n",
        "Mari kita plot dengan beberapa warna yang bagus untuk membedakan antara training data dan test data."
      ]
    },
    {
      "cell_type": "code",
      "metadata": {
        "id": "os30CXBHsOAH",
        "colab": {
          "base_uri": "https://localhost:8080/",
          "height": 468
        },
        "outputId": "1046d064-b066-40a2-9b8c-1fb9f2bc8337"
      },
      "source": [
        "plt.figure(figsize=(10, 7))\n",
        "# Plot training data berwarna blue (biru)\n",
        "plt.scatter(X_train, y_train, c='b', label='Training data')\n",
        "# Plot test data berwarna green (hijau)\n",
        "plt.scatter(X_test, y_test, c='g', label='Testing data')\n",
        "# Menampilkan legend / visualisasi\n",
        "plt.legend();"
      ],
      "execution_count": null,
      "outputs": [
        {
          "output_type": "display_data",
          "data": {
            "text/plain": [
              "<Figure size 1000x700 with 1 Axes>"
            ],
            "image/png": "[encoded data removed]"
          },
          "metadata": {}
        }
      ]
    },
    {
      "cell_type": "markdown",
      "metadata": {
        "id": "cxRcHZFgtS_B"
      },
      "source": [
        "Beautiful! Kalian dapat memvisualisasikan data kalian, model kalian, atau apapun itu kapan pun, dan itu adalah ide yang bagus.\n",
        "\n",
        "Dengan mengingat grafik ini, apa yang akan kita coba lakukan adalah membuat model yang mempelajari pola pada titik-titik biry (`X_train`) untuk menggambar titik-titik hijau (`X_test`).\n",
        "\n",
        "Saatnya membangun sebuah model. Kita akan membuat model yang sama persis dengan model sebelummnya (model yang telah kita latih lebih lama)."
      ]
    },
    {
      "cell_type": "code",
      "metadata": {
        "id": "4qpe0eSStSm-"
      },
      "source": [
        "# Mendefinisikan random seed\n",
        "tf.random.set_seed(42)\n",
        "\n",
        "# Membuat model (sama seperti yang diatas)\n",
        "model = tf.keras.Sequential([\n",
        "  tf.keras.layers.Dense(1)\n",
        "])\n",
        "\n",
        "# Menyusun model (sama seperti yang diatas)\n",
        "model.compile(loss=tf.keras.losses.mae,\n",
        "              optimizer=tf.keras.optimizers.SGD(),\n",
        "              metrics=[\"mae\"])\n",
        "\n",
        "# Mencoba model (sama seperti yang diatas)\n",
        "#model.fit(X_train, y_train, epochs=100) # commented out karena (disengaja)"
      ],
      "execution_count": null,
      "outputs": []
    },
    {
      "cell_type": "markdown",
      "metadata": {
        "id": "hc2RHCCfqlAc"
      },
      "source": [
        "## Memvisualisasikan model\n",
        "\n",
        "Setelah kalian membuat sebuah model, kalian mungkin ingin melihatnya (terutama jika kalian belum pernah membuat model sebelumnya).\n",
        "\n",
        "Kalian dapat melihat layers dan shape model kalian dengan memanggil fungsi [`summary()`](https://www.tensorflow.org/api_docs/python/tf/keras/Model#summary).\n",
        "\n",
        "> 🔑 **Catatan:** Memvisualisasikan model akan sangat membantu ketika kalian mengalami ketidakcocokan antara input dan output shape."
      ]
    },
    {
      "cell_type": "code",
      "metadata": {
        "id": "OlgJj0cFwChH",
        "colab": {
          "base_uri": "https://localhost:8080/",
          "height": 339
        },
        "outputId": "496d9a22-afec-4c7c-d540-07b0162074b1"
      },
      "source": [
        "# Tidak berhasil / error (model belum dibuat atau fit)\n",
        "model.summary()"
      ],
      "execution_count": null,
      "outputs": [
        {
          "output_type": "error",
          "ename": "ValueError",
          "evalue": "ignored",
          "traceback": [
            "\u001b[0;31m---------------------------------------------------------------------------\u001b[0m",
            "\u001b[0;31mValueError\u001b[0m                                Traceback (most recent call last)",
            "\u001b[0;32m<ipython-input-21-04c4107ec8fb>\u001b[0m in \u001b[0;36m<cell line: 2>\u001b[0;34m()\u001b[0m\n\u001b[1;32m      1\u001b[0m \u001b[0;31m# Tidak berhasil / error (model belum dibuat atau fit)\u001b[0m\u001b[0;34m\u001b[0m\u001b[0;34m\u001b[0m\u001b[0m\n\u001b[0;32m----> 2\u001b[0;31m \u001b[0mmodel\u001b[0m\u001b[0;34m.\u001b[0m\u001b[0msummary\u001b[0m\u001b[0;34m(\u001b[0m\u001b[0;34m)\u001b[0m\u001b[0;34m\u001b[0m\u001b[0;34m\u001b[0m\u001b[0m\n\u001b[0m",
            "\u001b[0;32m/usr/local/lib/python3.10/dist-packages/keras/engine/training.py\u001b[0m in \u001b[0;36msummary\u001b[0;34m(self, line_length, positions, print_fn, expand_nested, show_trainable, layer_range)\u001b[0m\n\u001b[1;32m   3227\u001b[0m         \"\"\"\n\u001b[1;32m   3228\u001b[0m         \u001b[0;32mif\u001b[0m \u001b[0;32mnot\u001b[0m \u001b[0mself\u001b[0m\u001b[0;34m.\u001b[0m\u001b[0mbuilt\u001b[0m\u001b[0;34m:\u001b[0m\u001b[0;34m\u001b[0m\u001b[0;34m\u001b[0m\u001b[0m\n\u001b[0;32m-> 3229\u001b[0;31m             raise ValueError(\n\u001b[0m\u001b[1;32m   3230\u001b[0m                 \u001b[0;34m\"This model has not yet been built. \"\u001b[0m\u001b[0;34m\u001b[0m\u001b[0;34m\u001b[0m\u001b[0m\n\u001b[1;32m   3231\u001b[0m                 \u001b[0;34m\"Build the model first by calling `build()` or by calling \"\u001b[0m\u001b[0;34m\u001b[0m\u001b[0;34m\u001b[0m\u001b[0m\n",
            "\u001b[0;31mValueError\u001b[0m: This model has not yet been built. Build the model first by calling `build()` or by calling the model on a batch of data."
          ]
        }
      ]
    },
    {
      "cell_type": "markdown",
      "metadata": {
        "id": "SJj6KLe8xsyF"
      },
      "source": [
        "Ahh, cell diatas error karena kita belum fit (mencoba / mencocokan) atau membangun model kita.\n",
        "\n",
        "Kita juga belum memberitahu apa input shape yang seharusnya diharapkan.\n",
        "\n",
        "Ingat diatas, bagaimana kita membahas bahwa bentuk inputnya hanya satu angka?\n",
        "\n",
        "Kita dapat memberitahu model kita mengenai bentuk input dari data kita dengan menggunakan parameter `input_shape` pada layer pertama (biasanya jika `input_shape` tidak didefinisikan, Keras akan mencoba mencari tahu secara otomatis)."
      ]
    },
    {
      "cell_type": "code",
      "metadata": {
        "id": "zMXKFtFBuWgJ"
      },
      "source": [
        "# Mendefinisikan random seed\n",
        "tf.random.set_seed(42)\n",
        "\n",
        "# Membuat model (sama seperti yang diatas)\n",
        "model = tf.keras.Sequential([\n",
        "  tf.keras.layers.Dense(1, input_shape=[1]) # Mendefinisikan input_shape pada model kita\n",
        "])\n",
        "\n",
        "# Menyusun model (sama seperti yang diatas)\n",
        "model.compile(loss=tf.keras.losses.mae,\n",
        "              optimizer=tf.keras.optimizers.SGD(),\n",
        "              metrics=[\"mae\"])"
      ],
      "execution_count": null,
      "outputs": []
    },
    {
      "cell_type": "code",
      "metadata": {
        "id": "24Q325x2yCoi",
        "colab": {
          "base_uri": "https://localhost:8080/"
        },
        "outputId": "54f2089d-188e-4de2-d209-293a876226df"
      },
      "source": [
        "# Ini akan berhasil setelah kita mendefinisikan input_shape\n",
        "model.summary()"
      ],
      "execution_count": null,
      "outputs": [
        {
          "output_type": "stream",
          "name": "stdout",
          "text": [
            "Model: \"sequential_3\"\n",
            "_________________________________________________________________\n",
            " Layer (type)                Output Shape              Param #   \n",
            "=================================================================\n",
            " dense_3 (Dense)             (None, 1)                 2         \n",
            "                                                                 \n",
            "=================================================================\n",
            "Total params: 2\n",
            "Trainable params: 2\n",
            "Non-trainable params: 0\n",
            "_________________________________________________________________\n"
          ]
        }
      ]
    },
    {
      "cell_type": "markdown",
      "metadata": {
        "id": "jdurWKlryl6b"
      },
      "source": [
        "Memanggil fungsi `summary()` pada model kita akan menampilkan layer-layer yang ada didalamnya, output shape dan jumlah parameter.\n",
        "* **Total params** - jumlah total parameter dalam model.\n",
        "* **Trainable parameters** - ini adalah parameter (pola) yang dapat diupdate oleh model saat dilatih.\n",
        "* **Non-trainable parameters** - yaitu parameter-parameter yang tidak diupdate selama training (ini biasa terjadi ketika kalian membawa pola yang sudah dipelajari dari model lain selama transfer learning).\n",
        "\n",
        "> 📖 **Resource:** Untuk gambaran yang lebih jelas tentang trainable parameter dalam suatu layer / lapisan, bisa melihat [MIT's introduction to deep learning video](https://youtu.be/njKP3FqW3Sk).\n",
        "\n",
        "> 🛠 **Latihan:** Cobalah bermain-main dengan hidden units pada `Dense` layer (misalnya. `Dense(2)`, `Dense(3)`). Bagaimana hal itu dapat mengubah Total / Trainable params? Selidiki pula apa yang menyebabkan perubahan tersebut.\n",
        "\n",
        "Untuk sekarang, yang perlu kalian pikirkan tentang parameter-parameter ini adalah pola yang dapat dipelajari dalam data.\n",
        "\n",
        "Sekarang mari kita fit / mencoba model kita dengan training data."
      ]
    },
    {
      "cell_type": "code",
      "metadata": {
        "id": "-Kywg4q9u051",
        "colab": {
          "base_uri": "https://localhost:8080/"
        },
        "outputId": "02d4fe97-e596-4d9d-fa24-21db09f7709d"
      },
      "source": [
        "# Mencoba model dengan training data\n",
        "model.fit(X_train, y_train, epochs=100, verbose=0) # verbose digunakan untuk mengatur seberapa banyak output yang dihasilkan"
      ],
      "execution_count": null,
      "outputs": [
        {
          "output_type": "execute_result",
          "data": {
            "text/plain": [
              "<keras.callbacks.History at 0x7fa2a6f53ca0>"
            ]
          },
          "metadata": {},
          "execution_count": 24
        }
      ]
    },
    {
      "cell_type": "code",
      "metadata": {
        "id": "-jWuOwj961ri",
        "colab": {
          "base_uri": "https://localhost:8080/"
        },
        "outputId": "963a80fd-03c0-4f81-fd3e-ba50347a8e3d"
      },
      "source": [
        "# Mekihat model summary\n",
        "model.summary()"
      ],
      "execution_count": null,
      "outputs": [
        {
          "output_type": "stream",
          "name": "stdout",
          "text": [
            "Model: \"sequential_3\"\n",
            "_________________________________________________________________\n",
            " Layer (type)                Output Shape              Param #   \n",
            "=================================================================\n",
            " dense_3 (Dense)             (None, 1)                 2         \n",
            "                                                                 \n",
            "=================================================================\n",
            "Total params: 2\n",
            "Trainable params: 2\n",
            "Non-trainable params: 0\n",
            "_________________________________________________________________\n"
          ]
        }
      ]
    },
    {
      "cell_type": "markdown",
      "metadata": {
        "id": "RrrkHEkMYh5A"
      },
      "source": [
        "Selain dengan menggunakan summary, kalian juba bisa melihat plot 2D dari model dengan menggunakan [`plot_model()`](https://www.tensorflow.org/api_docs/python/tf/keras/utils/plot_model)."
      ]
    },
    {
      "cell_type": "code",
      "metadata": {
        "id": "liIg5WqDfdK4",
        "colab": {
          "base_uri": "https://localhost:8080/",
          "height": 201
        },
        "outputId": "b531d355-b8af-4f26-84a1-84d6ca023f95"
      },
      "source": [
        "from tensorflow.keras.utils import plot_model\n",
        "\n",
        "plot_model(model, show_shapes=True)"
      ],
      "execution_count": null,
      "outputs": [
        {
          "output_type": "execute_result",
          "data": {
            "image/png": "[encoded data removed]",
            "text/plain": [
              "<IPython.core.display.Image object>"
            ]
          },
          "metadata": {},
          "execution_count": 26
        }
      ]
    },
    {
      "cell_type": "markdown",
      "metadata": {
        "id": "ygw7V8OVYxQS"
      },
      "source": [
        "Dalam kasus kita, model yang digunakan hanya memiliki input dan output, tetapi dengan memvisualisasikan model yang lebih rumit akan sangat membantu dalam proses debugging."
      ]
    },
    {
      "cell_type": "markdown",
      "metadata": {
        "id": "gebj2eptqwg8"
      },
      "source": [
        "## Memvisualisasikan prediksi\n",
        "\n",
        "Sekarang karena kita sudah punya trained model, mari kita mencoba memvisualisasikan beberapa prediksi.\n",
        "\n",
        "Untuk memvisualisasikan prediksi, sebaiknya kalian memplotnya dengan label ground truth.\n",
        "\n",
        "Sering kali kalian akan melihat ini dalam bentuk `y_test` vs. `y_pred` (ground truth vs. prediksi).\n",
        "\n",
        "PErtama, kita akan membuat beberapa prediksi pada test data (`X_test`), ingat jika model belum pernah melihat / menggunakan test data."
      ]
    },
    {
      "cell_type": "code",
      "metadata": {
        "id": "RRzj7LJMYftb",
        "colab": {
          "base_uri": "https://localhost:8080/"
        },
        "outputId": "e38beb2e-939d-49e4-c1c8-cd5b9839a3c2"
      },
      "source": [
        "# Membuat prediksi\n",
        "y_preds = model.predict(X_test)"
      ],
      "execution_count": null,
      "outputs": [
        {
          "output_type": "stream",
          "name": "stdout",
          "text": [
            "1/1 [==============================] - 0s 49ms/step\n"
          ]
        }
      ]
    },
    {
      "cell_type": "code",
      "metadata": {
        "id": "_hKpW-KOZiAW",
        "colab": {
          "base_uri": "https://localhost:8080/"
        },
        "outputId": "82737cf7-cc43-4586-c26e-43166a0572e0"
      },
      "source": [
        "# Melihat hasil prediksi\n",
        "y_preds"
      ],
      "execution_count": null,
      "outputs": [
        {
          "output_type": "execute_result",
          "data": {
            "text/plain": [
              "array([[ 74.42162 ],\n",
              "       [ 79.297066],\n",
              "       [ 84.17251 ],\n",
              "       [ 89.04795 ],\n",
              "       [ 93.92339 ],\n",
              "       [ 98.798836],\n",
              "       [103.67427 ],\n",
              "       [108.54971 ],\n",
              "       [113.425156],\n",
              "       [118.3006  ]], dtype=float32)"
            ]
          },
          "metadata": {},
          "execution_count": 28
        }
      ]
    },
    {
      "cell_type": "markdown",
      "metadata": {
        "id": "aPRaFncaZnT-"
      },
      "source": [
        "Oke, sekarang kita sudah medapatkan list angka, tetapi bagaimana membandingkannya dengan label ground truth?\n",
        "\n",
        "Sekarang mari kita membuat sebuah fungsi plotting untuk mengetahuinya.\n",
        "\n",
        "> 🔑 **Catatan:** Jika kalian merasa akan sering melakukan visualisasikan sesuatu, alangkah lebih baiknya jika kalian membuat fungsinya agar dapat digunakan nanti."
      ]
    },
    {
      "cell_type": "code",
      "metadata": {
        "id": "56euC69rZvNJ"
      },
      "source": [
        "def plot_predictions(train_data=X_train,\n",
        "                     train_labels=y_train,\n",
        "                     test_data=X_test,\n",
        "                     test_labels=y_test,\n",
        "                     predictions=y_preds):\n",
        "  \"\"\"\n",
        "  Melakukan plot pada training data, test data, dan membandingkan prediksi.\n",
        "  \"\"\"\n",
        "  plt.figure(figsize=(10, 7))\n",
        "  # Plot training data dengan warna blue (biru)\n",
        "  plt.scatter(train_data, train_labels, c=\"b\", label=\"Training data\")\n",
        "  # Plot test data dengan warna green (hijau)\n",
        "  plt.scatter(test_data, test_labels, c=\"g\", label=\"Testing data\")\n",
        "  # Plot prediksi dengan warna red / merah (prediksi dibuat berdasarkan test data)\n",
        "  plt.scatter(test_data, predictions, c=\"r\", label=\"Predictions\")\n",
        "  # Menampilkan legend / visualisasi\n",
        "  plt.legend();"
      ],
      "execution_count": null,
      "outputs": []
    },
    {
      "cell_type": "code",
      "metadata": {
        "id": "Fug5_B6Ab7Ah",
        "colab": {
          "base_uri": "https://localhost:8080/",
          "height": 464
        },
        "outputId": "d6ee3bd5-582c-4f1e-d0ec-5b31526dfab6"
      },
      "source": [
        "plot_predictions(train_data=X_train,\n",
        "                 train_labels=y_train,\n",
        "                 test_data=X_test,\n",
        "                 test_labels=y_test,\n",
        "                 predictions=y_preds)"
      ],
      "execution_count": null,
      "outputs": [
        {
          "output_type": "display_data",
          "data": {
            "text/plain": [
              "<Figure size 1000x700 with 1 Axes>"
            ],
            "image/png": "[encoded data removed]"
          },
          "metadata": {}
        }
      ]
    },
    {
      "cell_type": "markdown",
      "metadata": {
        "id": "H63NPcgPcwZV"
      },
      "source": [
        "Berdasarkan grafik plotnya, kita bisa melihat jika prediksi kita tidak terlalu melenceng tetapi juga tidak presisi."
      ]
    },
    {
      "cell_type": "markdown",
      "metadata": {
        "id": "orAfIWOrgRDA"
      },
      "source": [
        "## Mengevaluasi prediksi\n",
        "\n",
        "Bersamaan dengan visualisasi, evaluation metrics adalah pilihan alternatif terbaik yang dapat kalian gunakan utnuk mengevaluasi model kalian.\n",
        "\n",
        "Tergantung pada permasalahan yang sedang kalian kerjakan, meodel yang berbeda akan memiliki evaluation matrics yang berbeda pula.\n",
        "\n",
        "Dua matriks utama yang biasanya digunakan untuk regression problem adalah:\n",
        "* **Mean absolute error (MAE)** - perbedaan nilai rata-rata antara masing-masing prediksi.\n",
        "* **Mean squared error (MSE)** - perbedaan nilai rata-rata yang dikuadratkan antara prediksi (digunakan jika error yang lebih besar ternyata lebih merugikan daripada error yang kecil).\n",
        "\n",
        "Semakin kecil masing-masing nilai ini, akan semakin baik.\n",
        "\n",
        "Kalian juga bisa menggunakan [`model.evaluate()`](https://www.tensorflow.org/api_docs/python/tf/keras/Model#evaluate) yang akan mengembalikan loss dari model serta pengaturan matriks selama langkah kompilasi."
      ]
    },
    {
      "cell_type": "code",
      "metadata": {
        "id": "DPgTdF3ddxiY",
        "colab": {
          "base_uri": "https://localhost:8080/"
        },
        "outputId": "1eff4b39-6e2d-4d35-93d3-4ca28cc09864"
      },
      "source": [
        "# Mengevaluasi model pada test set\n",
        "model.evaluate(X_test, y_test)"
      ],
      "execution_count": null,
      "outputs": [
        {
          "output_type": "stream",
          "name": "stdout",
          "text": [
            "1/1 [==============================] - 0s 119ms/step - loss: 8.3611 - mae: 8.3611\n"
          ]
        },
        {
          "output_type": "execute_result",
          "data": {
            "text/plain": [
              "[8.361111640930176, 8.361111640930176]"
            ]
          },
          "metadata": {},
          "execution_count": 31
        }
      ]
    },
    {
      "cell_type": "markdown",
      "metadata": {
        "id": "DAXIRyVzegFd"
      },
      "source": [
        "Dalam kasus kita, karena kita menggunakan MAE untuk loss function dan juga MAE untuk matriks, `model.evaulate()` akan mereturn keduanya.\n",
        "\n",
        "TensorFlow juga memiliki fungsi bawaan untuk MSE dan MAE.\n",
        "\n",
        "Untuk banyak fungsi evaluasi, premis yang digunakan sama: membandingkan prediksi dengan label ground truth."
      ]
    },
    {
      "cell_type": "code",
      "metadata": {
        "id": "gqoMQ0dJeD2S",
        "colab": {
          "base_uri": "https://localhost:8080/"
        },
        "outputId": "da0c7e7f-0fa2-4fd6-f16d-01fac706a93e"
      },
      "source": [
        "# Mengkalkulasi mean absolute error\n",
        "mae = tf.metrics.mean_absolute_error(y_true=y_test,\n",
        "                                     y_pred=y_preds)\n",
        "mae"
      ],
      "execution_count": null,
      "outputs": [
        {
          "output_type": "execute_result",
          "data": {
            "text/plain": [
              "<tf.Tensor: shape=(10,), dtype=float32, numpy=\n",
              "array([14.547026, 11.881174, 10.365499, 10.      , 10.784678, 12.879301,\n",
              "       16.139416, 20.549713, 25.425156, 30.300598], dtype=float32)>"
            ]
          },
          "metadata": {},
          "execution_count": 32
        }
      ]
    },
    {
      "cell_type": "markdown",
      "metadata": {
        "id": "7pYp3XNYfkyC"
      },
      "source": [
        "Hmm? aneh, MAE seharusnya menghasilkan satu output.\n",
        "\n",
        "Sebaliknya, kita justru mendapatkan 10 nilai.\n",
        "\n",
        "Ini karena tensor `y_test` dan `y_preds` kita memiliki shape yang berbeda."
      ]
    },
    {
      "cell_type": "code",
      "metadata": {
        "id": "zeUHwOc2gIV4",
        "colab": {
          "base_uri": "https://localhost:8080/"
        },
        "outputId": "9c2cc858-2478-4047-e98e-e18e2ff73100"
      },
      "source": [
        "# Memeriksa nilai tensor test label\n",
        "y_test"
      ],
      "execution_count": null,
      "outputs": [
        {
          "output_type": "execute_result",
          "data": {
            "text/plain": [
              "array([ 70,  74,  78,  82,  86,  90,  94,  98, 102, 106])"
            ]
          },
          "metadata": {},
          "execution_count": 33
        }
      ]
    },
    {
      "cell_type": "code",
      "metadata": {
        "id": "3aJwlTxugPyc",
        "colab": {
          "base_uri": "https://localhost:8080/"
        },
        "outputId": "98c2f237-5747-4533-fc1c-a98f850f2e20"
      },
      "source": [
        "# Memeriksa nilai tensor prediksi (perhatikan tanda kurung siku tambahannya)\n",
        "y_preds"
      ],
      "execution_count": null,
      "outputs": [
        {
          "output_type": "execute_result",
          "data": {
            "text/plain": [
              "array([[ 74.42162 ],\n",
              "       [ 79.297066],\n",
              "       [ 84.17251 ],\n",
              "       [ 89.04795 ],\n",
              "       [ 93.92339 ],\n",
              "       [ 98.798836],\n",
              "       [103.67427 ],\n",
              "       [108.54971 ],\n",
              "       [113.425156],\n",
              "       [118.3006  ]], dtype=float32)"
            ]
          },
          "metadata": {},
          "execution_count": 34
        }
      ]
    },
    {
      "cell_type": "code",
      "metadata": {
        "id": "xolZ-lmge_ES",
        "colab": {
          "base_uri": "https://localhost:8080/"
        },
        "outputId": "87ef777c-97a8-4d90-9221-4f510f4f2a2f"
      },
      "source": [
        "# Memeriksa tensor shape\n",
        "y_test.shape, y_preds.shape"
      ],
      "execution_count": null,
      "outputs": [
        {
          "output_type": "execute_result",
          "data": {
            "text/plain": [
              "((10,), (10, 1))"
            ]
          },
          "metadata": {},
          "execution_count": 35
        }
      ]
    },
    {
      "cell_type": "markdown",
      "metadata": {
        "id": "eW1qleu5gHyZ"
      },
      "source": [
        "Ingat bagaimana kita membahas tentang bentuk input dan output yang berbed, dan masalah ini merupakan salah satu yang paling umum kalian temui.\n",
        "\n",
        "Tapi tidak perlu khawatir.\n",
        "\n",
        "Kita dapat memperbaikinya dengan menggunakan [`squeeze()`](https://www.tensorflow.org/api_docs/python/tf/squeeze), ini akan menghapus `1` dimension dari tensor `y_preds`, membuatnya mempunyai shape yang sama dengan `y_test`.\n",
        "\n",
        "> 🔑 **Catatan:** Jika kalian membandingkan dua tensor, penting untuk memastikan bahwa kedua tensor tersebut mempunyai shape yang tepat atau sesuai (kalian tidak harus memanipulasi shapenya, akan tetapi selalu waspada, *banyak* error yang terjadi karena tensor yang tidak cocok, terutama antara input dan output shapenya)."
      ]
    },
    {
      "cell_type": "code",
      "metadata": {
        "id": "tVtMyw70g4aF",
        "colab": {
          "base_uri": "https://localhost:8080/"
        },
        "outputId": "57be5642-a6b6-4b4c-c58b-e12aecd43ddd"
      },
      "source": [
        "# Shape sebelum squeeze()\n",
        "y_preds.shape"
      ],
      "execution_count": null,
      "outputs": [
        {
          "output_type": "execute_result",
          "data": {
            "text/plain": [
              "(10, 1)"
            ]
          },
          "metadata": {},
          "execution_count": 36
        }
      ]
    },
    {
      "cell_type": "code",
      "metadata": {
        "id": "qnYaBnCng-Nq",
        "colab": {
          "base_uri": "https://localhost:8080/"
        },
        "outputId": "c5eaec38-ab35-4d3c-938b-9327b1ab1ce4"
      },
      "source": [
        "# Shape setelah squeeze()\n",
        "y_preds.squeeze().shape"
      ],
      "execution_count": null,
      "outputs": [
        {
          "output_type": "execute_result",
          "data": {
            "text/plain": [
              "(10,)"
            ]
          },
          "metadata": {},
          "execution_count": 37
        }
      ]
    },
    {
      "cell_type": "code",
      "metadata": {
        "id": "HxvVeD64hEX8",
        "colab": {
          "base_uri": "https://localhost:8080/"
        },
        "outputId": "3ec5807b-bf80-4974-eb49-9e0c6984605d"
      },
      "source": [
        "# Seperti apa bentuknya?\n",
        "y_test, y_preds.squeeze()"
      ],
      "execution_count": null,
      "outputs": [
        {
          "output_type": "execute_result",
          "data": {
            "text/plain": [
              "(array([ 70,  74,  78,  82,  86,  90,  94,  98, 102, 106]),\n",
              " array([ 74.42162 ,  79.297066,  84.17251 ,  89.04795 ,  93.92339 ,\n",
              "         98.798836, 103.67427 , 108.54971 , 113.425156, 118.3006  ],\n",
              "       dtype=float32))"
            ]
          },
          "metadata": {},
          "execution_count": 38
        }
      ]
    },
    {
      "cell_type": "markdown",
      "metadata": {
        "id": "mfUCIeHyhLk7"
      },
      "source": [
        "Okay, now we know how to make our `y_test` and `y_preds` tenors the same shape, let's use our evaluation metrics."
      ]
    },
    {
      "cell_type": "code",
      "metadata": {
        "id": "TvjY6GIJvXBO",
        "colab": {
          "base_uri": "https://localhost:8080/"
        },
        "outputId": "13da034a-e369-4eff-a264-390c2d282aa0"
      },
      "source": [
        "# Mengkalkulasi MAE\n",
        "mae = tf.metrics.mean_absolute_error(y_true=y_test,\n",
        "                                     y_pred=y_preds.squeeze()) # use squeeze() to make same shape\n",
        "mae"
      ],
      "execution_count": null,
      "outputs": [
        {
          "output_type": "execute_result",
          "data": {
            "text/plain": [
              "<tf.Tensor: shape=(), dtype=float32, numpy=8.361112>"
            ]
          },
          "metadata": {},
          "execution_count": 39
        }
      ]
    },
    {
      "cell_type": "code",
      "metadata": {
        "id": "EwA9nGJzvbMT",
        "colab": {
          "base_uri": "https://localhost:8080/"
        },
        "outputId": "25360ccf-fdbf-42ce-855a-770d5187bf77"
      },
      "source": [
        "# Mengkalkulasi MSE\n",
        "mse = tf.metrics.mean_squared_error(y_true=y_test,\n",
        "                                    y_pred=y_preds.squeeze())\n",
        "mse"
      ],
      "execution_count": null,
      "outputs": [
        {
          "output_type": "execute_result",
          "data": {
            "text/plain": [
              "<tf.Tensor: shape=(), dtype=float32, numpy=76.23097>"
            ]
          },
          "metadata": {},
          "execution_count": 40
        }
      ]
    },
    {
      "cell_type": "markdown",
      "metadata": {
        "id": "X06oo_CIjPbL"
      },
      "source": [
        "Kita juga bisa menghitung MAE dengan menggunakan fungsi TensorFlow."
      ]
    },
    {
      "cell_type": "code",
      "metadata": {
        "id": "YxiD6-QBYSzd",
        "colab": {
          "base_uri": "https://localhost:8080/"
        },
        "outputId": "9d4e6adf-f311-470a-e602-98165150e593"
      },
      "source": [
        "# Mereturn hasil yang sama dengan tf.metrics.mean_absolute_error()\n",
        "tf.reduce_mean(tf.abs(y_test-y_preds.squeeze()))"
      ],
      "execution_count": null,
      "outputs": [
        {
          "output_type": "execute_result",
          "data": {
            "text/plain": [
              "<tf.Tensor: shape=(), dtype=float64, numpy=8.361111450195313>"
            ]
          },
          "metadata": {},
          "execution_count": 41
        }
      ]
    },
    {
      "cell_type": "markdown",
      "metadata": {
        "id": "rmEho4lYofOa"
      },
      "source": [
        "Sekali lagi, merupakan ide yang bagus untuk membuat fungsi apa pun yang kalian pikin akan digunakan berulang kali (atau kalian gunakan terus-terusan).\n",
        "\n",
        "Sekarang mari kita membuat fungsi untuk evaluation metrics kita."
      ]
    },
    {
      "cell_type": "code",
      "metadata": {
        "id": "bs1Z2jgNol5f"
      },
      "source": [
        "def mae(y_test, y_pred):\n",
        "  \"\"\"\n",
        "  Mengkalkulasi mean absolute error (MAE) antara y_test dan y_preds.\n",
        "  \"\"\"\n",
        "  return tf.metrics.mean_absolute_error(y_test,\n",
        "                                        y_pred)\n",
        "\n",
        "def mse(y_test, y_pred):\n",
        "  \"\"\"\n",
        "  Mengkalkulasi mean squared error (MSE) antara y_test dan y_preds.\n",
        "  \"\"\"\n",
        "  return tf.metrics.mean_squared_error(y_test,\n",
        "                                       y_pred)"
      ],
      "execution_count": null,
      "outputs": []
    },
    {
      "cell_type": "markdown",
      "metadata": {
        "id": "zub5zK7bcl40"
      },
      "source": [
        "## Melakukan eksperimen untuk meningkatkan akurasi prediksi model\n",
        "\n",
        "Setelah melihat evaluation metrics dan prediksi yang dihasilkan model kalian, Pasti dari kalian ingin memperbaiki dan meningkatkan model tersebut.\n",
        "\n",
        "Sekali lagi, terdapat banyak sekali cara berbeda yang dapat kalian lakukan, namun 3 cara utamanya adalah:\n",
        "1. **Get more data** - dapatkan lebih banyak contoh untuk melatih model kalian (membuat model lebih banyak kesempatan mempelajari pola).\n",
        "2. **Make your model larger (use a more complex model)** - untuk membuat model kalian lebih kompleks, kalian dapat meningkatkan jumlah layer atau hidden units disetiap layernya.\n",
        "3. **Train for longer** - berikan model kalian lebih banyak kesempatan dalam menemukan pola-pola dalam data.\n",
        "\n",
        "Sejak kita membuat dataset, kita dapat dengan mudah membuat lebih banyak data, namun hal ini tidak dapat selalu terjadi ketika kalian bekerja dengan dataset pada dunia nyata.\n",
        "\n",
        "Jadi, sekarang mari kita lihat bagaimana kita dapat meningkatkan model kita menggunakan langkah 2 dan 3.\n",
        "\n",
        "Untuk melakukannya, kita akan membuat 3 model dan membandingkan hasilnya:\n",
        "1. `model_1` - sama seperti model aslinya, 1 layer, dilatih selama 100 epochs.\n",
        "2. `model_2` - 2 layers, dilatih selama 100 epochs.\n",
        "3. `model_3` - 2 layers, dilatih selama 500 epochs.\n",
        "\n",
        "**Membuat `model_1`**"
      ]
    },
    {
      "cell_type": "code",
      "metadata": {
        "id": "StVHIIM9csyS",
        "colab": {
          "base_uri": "https://localhost:8080/"
        },
        "outputId": "f2c39557-a35b-4c7a-e830-cad0631ea61b"
      },
      "source": [
        "# Mendefinisikan random seed\n",
        "tf.random.set_seed(42)\n",
        "\n",
        "# Melakukan replikasi dari model original\n",
        "model_1 = tf.keras.Sequential([\n",
        "  tf.keras.layers.Dense(1)\n",
        "])\n",
        "\n",
        "# Menyusun model\n",
        "model_1.compile(loss=tf.keras.losses.mae,\n",
        "                optimizer=tf.keras.optimizers.SGD(),\n",
        "                metrics=['mae'])\n",
        "\n",
        "# Mencoba model\n",
        "model_1.fit(tf.expand_dims(X_train, axis=-1), y_train, epochs=100)"
      ],
      "execution_count": null,
      "outputs": [
        {
          "output_type": "stream",
          "name": "stdout",
          "text": [
            "Epoch 1/100\n",
            "2/2 [==============================] - 0s 14ms/step - loss: 90.8664 - mae: 90.8664\n",
            "Epoch 2/100\n",
            "2/2 [==============================] - 0s 7ms/step - loss: 55.4109 - mae: 55.4109\n",
            "Epoch 3/100\n",
            "2/2 [==============================] - 0s 13ms/step - loss: 19.0737 - mae: 19.0737\n",
            "Epoch 4/100\n",
            "2/2 [==============================] - 0s 10ms/step - loss: 10.0340 - mae: 10.0340\n",
            "Epoch 5/100\n",
            "2/2 [==============================] - 0s 9ms/step - loss: 11.0097 - mae: 11.0097\n",
            "Epoch 6/100\n",
            "2/2 [==============================] - 0s 8ms/step - loss: 10.1750 - mae: 10.1750\n",
            "Epoch 7/100\n",
            "2/2 [==============================] - 0s 8ms/step - loss: 9.1964 - mae: 9.1964\n",
            "Epoch 8/100\n",
            "2/2 [==============================] - 0s 8ms/step - loss: 9.1464 - mae: 9.1464\n",
            "Epoch 9/100\n",
            "2/2 [==============================] - 0s 9ms/step - loss: 15.2236 - mae: 15.2236\n",
            "Epoch 10/100\n",
            "2/2 [==============================] - 0s 10ms/step - loss: 7.8565 - mae: 7.8565\n",
            "Epoch 11/100\n",
            "2/2 [==============================] - 0s 10ms/step - loss: 10.4434 - mae: 10.4434\n",
            "Epoch 12/100\n",
            "2/2 [==============================] - 0s 8ms/step - loss: 18.4016 - mae: 18.4016\n",
            "Epoch 13/100\n",
            "2/2 [==============================] - 0s 8ms/step - loss: 9.7799 - mae: 9.7799\n",
            "Epoch 14/100\n",
            "2/2 [==============================] - 0s 10ms/step - loss: 15.7501 - mae: 15.7501\n",
            "Epoch 15/100\n",
            "2/2 [==============================] - 0s 8ms/step - loss: 11.6445 - mae: 11.6445\n",
            "Epoch 16/100\n",
            "2/2 [==============================] - 0s 11ms/step - loss: 8.5002 - mae: 8.5002\n",
            "Epoch 17/100\n",
            "2/2 [==============================] - 0s 8ms/step - loss: 13.5148 - mae: 13.5148\n",
            "Epoch 18/100\n",
            "2/2 [==============================] - 0s 8ms/step - loss: 11.3059 - mae: 11.3059\n",
            "Epoch 19/100\n",
            "2/2 [==============================] - 0s 8ms/step - loss: 18.1575 - mae: 18.1575\n",
            "Epoch 20/100\n",
            "2/2 [==============================] - 0s 8ms/step - loss: 15.2904 - mae: 15.2904\n",
            "Epoch 21/100\n",
            "2/2 [==============================] - 0s 11ms/step - loss: 11.2292 - mae: 11.2292\n",
            "Epoch 22/100\n",
            "2/2 [==============================] - 0s 8ms/step - loss: 8.3751 - mae: 8.3751\n",
            "Epoch 23/100\n",
            "2/2 [==============================] - 0s 12ms/step - loss: 9.9515 - mae: 9.9515\n",
            "Epoch 24/100\n",
            "2/2 [==============================] - 0s 10ms/step - loss: 15.8127 - mae: 15.8127\n",
            "Epoch 25/100\n",
            "2/2 [==============================] - 0s 10ms/step - loss: 12.2375 - mae: 12.2375\n",
            "Epoch 26/100\n",
            "2/2 [==============================] - 0s 9ms/step - loss: 13.3810 - mae: 13.3810\n",
            "Epoch 27/100\n",
            "2/2 [==============================] - 0s 10ms/step - loss: 10.8026 - mae: 10.8026\n",
            "Epoch 28/100\n",
            "2/2 [==============================] - 0s 8ms/step - loss: 13.0846 - mae: 13.0846\n",
            "Epoch 29/100\n",
            "2/2 [==============================] - 0s 10ms/step - loss: 9.5716 - mae: 9.5716\n",
            "Epoch 30/100\n",
            "2/2 [==============================] - 0s 8ms/step - loss: 16.7018 - mae: 16.7018\n",
            "Epoch 31/100\n",
            "2/2 [==============================] - 0s 10ms/step - loss: 23.3364 - mae: 23.3364\n",
            "Epoch 32/100\n",
            "2/2 [==============================] - 0s 11ms/step - loss: 7.3443 - mae: 7.3443\n",
            "Epoch 33/100\n",
            "2/2 [==============================] - 0s 11ms/step - loss: 10.4338 - mae: 10.4338\n",
            "Epoch 34/100\n",
            "2/2 [==============================] - 0s 10ms/step - loss: 9.7049 - mae: 9.7049\n",
            "Epoch 35/100\n",
            "2/2 [==============================] - 0s 9ms/step - loss: 8.4408 - mae: 8.4408\n",
            "Epoch 36/100\n",
            "2/2 [==============================] - 0s 8ms/step - loss: 8.6001 - mae: 8.6001\n",
            "Epoch 37/100\n",
            "2/2 [==============================] - 0s 7ms/step - loss: 8.6462 - mae: 8.6462\n",
            "Epoch 38/100\n",
            "2/2 [==============================] - 0s 8ms/step - loss: 9.2837 - mae: 9.2837\n",
            "Epoch 39/100\n",
            "2/2 [==============================] - 0s 8ms/step - loss: 10.2139 - mae: 10.2139\n",
            "Epoch 40/100\n",
            "2/2 [==============================] - 0s 8ms/step - loss: 9.6894 - mae: 9.6894\n",
            "Epoch 41/100\n",
            "2/2 [==============================] - 0s 8ms/step - loss: 8.0362 - mae: 8.0362\n",
            "Epoch 42/100\n",
            "2/2 [==============================] - 0s 8ms/step - loss: 10.5339 - mae: 10.5339\n",
            "Epoch 43/100\n",
            "2/2 [==============================] - 0s 8ms/step - loss: 7.5598 - mae: 7.5598\n",
            "Epoch 44/100\n",
            "2/2 [==============================] - 0s 14ms/step - loss: 18.7590 - mae: 18.7590\n",
            "Epoch 45/100\n",
            "2/2 [==============================] - 0s 8ms/step - loss: 14.5948 - mae: 14.5948\n",
            "Epoch 46/100\n",
            "2/2 [==============================] - 0s 9ms/step - loss: 9.2889 - mae: 9.2889\n",
            "Epoch 47/100\n",
            "2/2 [==============================] - 0s 8ms/step - loss: 9.6389 - mae: 9.6389\n",
            "Epoch 48/100\n",
            "2/2 [==============================] - 0s 7ms/step - loss: 11.3677 - mae: 11.3677\n",
            "Epoch 49/100\n",
            "2/2 [==============================] - 0s 10ms/step - loss: 8.1928 - mae: 8.1928\n",
            "Epoch 50/100\n",
            "2/2 [==============================] - 0s 14ms/step - loss: 10.2260 - mae: 10.2260\n",
            "Epoch 51/100\n",
            "2/2 [==============================] - 0s 12ms/step - loss: 9.3472 - mae: 9.3472\n",
            "Epoch 52/100\n",
            "2/2 [==============================] - 0s 11ms/step - loss: 13.8924 - mae: 13.8924\n",
            "Epoch 53/100\n",
            "2/2 [==============================] - 0s 7ms/step - loss: 15.1568 - mae: 15.1568\n",
            "Epoch 54/100\n",
            "2/2 [==============================] - 0s 10ms/step - loss: 14.7367 - mae: 14.7367\n",
            "Epoch 55/100\n",
            "2/2 [==============================] - 0s 9ms/step - loss: 19.6391 - mae: 19.6391\n",
            "Epoch 56/100\n",
            "2/2 [==============================] - 0s 10ms/step - loss: 10.9009 - mae: 10.9009\n",
            "Epoch 57/100\n",
            "2/2 [==============================] - 0s 8ms/step - loss: 12.6126 - mae: 12.6126\n",
            "Epoch 58/100\n",
            "2/2 [==============================] - 0s 8ms/step - loss: 9.8487 - mae: 9.8487\n",
            "Epoch 59/100\n",
            "2/2 [==============================] - 0s 9ms/step - loss: 9.0727 - mae: 9.0727\n",
            "Epoch 60/100\n",
            "2/2 [==============================] - 0s 8ms/step - loss: 9.0551 - mae: 9.0551\n",
            "Epoch 61/100\n",
            "2/2 [==============================] - 0s 9ms/step - loss: 10.5298 - mae: 10.5298\n",
            "Epoch 62/100\n",
            "2/2 [==============================] - 0s 8ms/step - loss: 7.6910 - mae: 7.6910\n",
            "Epoch 63/100\n",
            "2/2 [==============================] - 0s 8ms/step - loss: 9.7909 - mae: 9.7909\n",
            "Epoch 64/100\n",
            "2/2 [==============================] - 0s 9ms/step - loss: 11.9242 - mae: 11.9242\n",
            "Epoch 65/100\n",
            "2/2 [==============================] - 0s 8ms/step - loss: 9.3405 - mae: 9.3405\n",
            "Epoch 66/100\n",
            "2/2 [==============================] - 0s 11ms/step - loss: 11.2392 - mae: 11.2392\n",
            "Epoch 67/100\n",
            "2/2 [==============================] - 0s 7ms/step - loss: 7.0741 - mae: 7.0741\n",
            "Epoch 68/100\n",
            "2/2 [==============================] - 0s 8ms/step - loss: 8.9270 - mae: 8.9270\n",
            "Epoch 69/100\n",
            "2/2 [==============================] - 0s 8ms/step - loss: 10.5072 - mae: 10.5072\n",
            "Epoch 70/100\n",
            "2/2 [==============================] - 0s 8ms/step - loss: 7.8763 - mae: 7.8763\n",
            "Epoch 71/100\n",
            "2/2 [==============================] - 0s 10ms/step - loss: 11.4074 - mae: 11.4074\n",
            "Epoch 72/100\n",
            "2/2 [==============================] - 0s 7ms/step - loss: 9.5865 - mae: 9.5865\n",
            "Epoch 73/100\n",
            "2/2 [==============================] - 0s 10ms/step - loss: 11.7115 - mae: 11.7115\n",
            "Epoch 74/100\n",
            "2/2 [==============================] - 0s 9ms/step - loss: 10.7046 - mae: 10.7046\n",
            "Epoch 75/100\n",
            "2/2 [==============================] - 0s 11ms/step - loss: 9.5879 - mae: 9.5879\n",
            "Epoch 76/100\n",
            "2/2 [==============================] - 0s 9ms/step - loss: 11.0392 - mae: 11.0392\n",
            "Epoch 77/100\n",
            "2/2 [==============================] - 0s 8ms/step - loss: 11.1211 - mae: 11.1211\n",
            "Epoch 78/100\n",
            "2/2 [==============================] - 0s 13ms/step - loss: 11.5668 - mae: 11.5668\n",
            "Epoch 79/100\n",
            "2/2 [==============================] - 0s 10ms/step - loss: 15.5850 - mae: 15.5850\n",
            "Epoch 80/100\n",
            "2/2 [==============================] - 0s 8ms/step - loss: 11.6190 - mae: 11.6190\n",
            "Epoch 81/100\n",
            "2/2 [==============================] - 0s 8ms/step - loss: 9.4466 - mae: 9.4466\n",
            "Epoch 82/100\n",
            "2/2 [==============================] - 0s 8ms/step - loss: 12.6084 - mae: 12.6084\n",
            "Epoch 83/100\n",
            "2/2 [==============================] - 0s 8ms/step - loss: 8.2013 - mae: 8.2013\n",
            "Epoch 84/100\n",
            "2/2 [==============================] - 0s 8ms/step - loss: 7.5450 - mae: 7.5450\n",
            "Epoch 85/100\n",
            "2/2 [==============================] - 0s 7ms/step - loss: 9.7161 - mae: 9.7161\n",
            "Epoch 86/100\n",
            "2/2 [==============================] - 0s 8ms/step - loss: 8.7887 - mae: 8.7887\n",
            "Epoch 87/100\n",
            "2/2 [==============================] - 0s 7ms/step - loss: 12.3363 - mae: 12.3363\n",
            "Epoch 88/100\n",
            "2/2 [==============================] - 0s 7ms/step - loss: 10.9709 - mae: 10.9709\n",
            "Epoch 89/100\n",
            "2/2 [==============================] - 0s 8ms/step - loss: 7.8334 - mae: 7.8334\n",
            "Epoch 90/100\n",
            "2/2 [==============================] - 0s 8ms/step - loss: 10.9872 - mae: 10.9872\n",
            "Epoch 91/100\n",
            "2/2 [==============================] - 0s 8ms/step - loss: 6.7627 - mae: 6.7627\n",
            "Epoch 92/100\n",
            "2/2 [==============================] - 0s 8ms/step - loss: 10.1806 - mae: 10.1806\n",
            "Epoch 93/100\n",
            "2/2 [==============================] - 0s 8ms/step - loss: 7.6003 - mae: 7.6003\n",
            "Epoch 94/100\n",
            "2/2 [==============================] - 0s 7ms/step - loss: 9.2310 - mae: 9.2310\n",
            "Epoch 95/100\n",
            "2/2 [==============================] - 0s 7ms/step - loss: 10.7993 - mae: 10.7993\n",
            "Epoch 96/100\n",
            "2/2 [==============================] - 0s 8ms/step - loss: 10.3529 - mae: 10.3529\n",
            "Epoch 97/100\n",
            "2/2 [==============================] - 0s 13ms/step - loss: 7.6640 - mae: 7.6640\n",
            "Epoch 98/100\n",
            "2/2 [==============================] - 0s 8ms/step - loss: 8.6040 - mae: 8.6040\n",
            "Epoch 99/100\n",
            "2/2 [==============================] - 0s 11ms/step - loss: 9.3787 - mae: 9.3787\n",
            "Epoch 100/100\n",
            "2/2 [==============================] - 0s 8ms/step - loss: 8.8348 - mae: 8.8348\n"
          ]
        },
        {
          "output_type": "execute_result",
          "data": {
            "text/plain": [
              "<keras.callbacks.History at 0x7fa2a6f6fc10>"
            ]
          },
          "metadata": {},
          "execution_count": 43
        }
      ]
    },
    {
      "cell_type": "code",
      "metadata": {
        "id": "A-Da56xspOrY",
        "colab": {
          "base_uri": "https://localhost:8080/",
          "height": 481
        },
        "outputId": "5e7ee778-6313-4dac-ccb7-ac562c8cc82d"
      },
      "source": [
        "# Membuat dan plot (memvisualisasikan) untuk model_1\n",
        "y_preds_1 = model_1.predict(X_test)\n",
        "plot_predictions(predictions=y_preds_1)"
      ],
      "execution_count": null,
      "outputs": [
        {
          "output_type": "stream",
          "name": "stdout",
          "text": [
            "1/1 [==============================] - 0s 38ms/step\n"
          ]
        },
        {
          "output_type": "display_data",
          "data": {
            "text/plain": [
              "<Figure size 1000x700 with 1 Axes>"
            ],
            "image/png": "[encoded data removed]"
          },
          "metadata": {}
        }
      ]
    },
    {
      "cell_type": "code",
      "metadata": {
        "id": "EXxHBAtHoSh2",
        "colab": {
          "base_uri": "https://localhost:8080/"
        },
        "outputId": "676bb2b6-eed2-4cdf-b68e-a96302e0d57e"
      },
      "source": [
        "# Mengkalkulasi model_1 metrics\n",
        "mae_1 = mae(y_test, y_preds_1.squeeze()).numpy()\n",
        "mse_1 = mse(y_test, y_preds_1.squeeze()).numpy()\n",
        "mae_1, mse_1"
      ],
      "execution_count": null,
      "outputs": [
        {
          "output_type": "execute_result",
          "data": {
            "text/plain": [
              "(8.44117, 77.64022)"
            ]
          },
          "metadata": {},
          "execution_count": 45
        }
      ]
    },
    {
      "cell_type": "markdown",
      "metadata": {
        "id": "XXELOpdBrE9_"
      },
      "source": [
        "**Membuat `model_2`**\n",
        "\n",
        "Kali ini kita akan menambah dense layer (sehingga model kita akan memiliki 2 layer) namun hyperparameter lainnya tetap sama."
      ]
    },
    {
      "cell_type": "code",
      "metadata": {
        "id": "05vcgEP3rEFi",
        "colab": {
          "base_uri": "https://localhost:8080/"
        },
        "outputId": "63d289a8-87d7-4830-aa83-8e54a0094b82"
      },
      "source": [
        "# Mendefinisikan random seed\n",
        "tf.random.set_seed(42)\n",
        "\n",
        "# Melakukan replikasi dari model_1 menambahkan layer tambahan\n",
        "model_2 = tf.keras.Sequential([\n",
        "  tf.keras.layers.Dense(1),\n",
        "  tf.keras.layers.Dense(1) # menambahkan layer kedua\n",
        "])\n",
        "\n",
        "# Menyusun model\n",
        "model_2.compile(loss=tf.keras.losses.mae,\n",
        "                optimizer=tf.keras.optimizers.SGD(),\n",
        "                metrics=['mae'])\n",
        "\n",
        "# Mencoba model\n",
        "model_2.fit(tf.expand_dims(X_train, axis=-1), y_train, epochs=100, verbose=0) # set verbose to 0 for less output"
      ],
      "execution_count": null,
      "outputs": [
        {
          "output_type": "execute_result",
          "data": {
            "text/plain": [
              "<keras.callbacks.History at 0x7fa2a7d7beb0>"
            ]
          },
          "metadata": {},
          "execution_count": 46
        }
      ]
    },
    {
      "cell_type": "code",
      "metadata": {
        "id": "9xCbDcoDraux",
        "colab": {
          "base_uri": "https://localhost:8080/",
          "height": 518
        },
        "outputId": "a19165ab-0350-4dd9-951b-79a193047bb2"
      },
      "source": [
        "# Membuat dan plot (memvisualisasikan) untuk model_2\n",
        "y_preds_2 = model_2.predict(X_test)\n",
        "plot_predictions(predictions=y_preds_2)"
      ],
      "execution_count": null,
      "outputs": [
        {
          "output_type": "stream",
          "name": "stderr",
          "text": [
            "WARNING:tensorflow:5 out of the last 5 calls to <function Model.make_predict_function.<locals>.predict_function at 0x7fa2a7e0ad40> triggered tf.function retracing. Tracing is expensive and the excessive number of tracings could be due to (1) creating @tf.function repeatedly in a loop, (2) passing tensors with different shapes, (3) passing Python objects instead of tensors. For (1), please define your @tf.function outside of the loop. For (2), @tf.function has reduce_retracing=True option that can avoid unnecessary retracing. For (3), please refer to https://www.tensorflow.org/guide/function#controlling_retracing and https://www.tensorflow.org/api_docs/python/tf/function for  more details.\n"
          ]
        },
        {
          "output_type": "stream",
          "name": "stdout",
          "text": [
            "1/1 [==============================] - 0s 48ms/step\n"
          ]
        },
        {
          "output_type": "display_data",
          "data": {
            "text/plain": [
              "<Figure size 1000x700 with 1 Axes>"
            ],
            "image/png": "[encoded data removed]"
          },
          "metadata": {}
        }
      ]
    },
    {
      "cell_type": "markdown",
      "metadata": {
        "id": "GxMYu5Frri6o"
      },
      "source": [
        "Wah, sudah terlihat lebih baik! Dan yang diperlukan hanyalah extra layer."
      ]
    },
    {
      "cell_type": "code",
      "metadata": {
        "id": "9LnPuGaBrcrP",
        "colab": {
          "base_uri": "https://localhost:8080/"
        },
        "outputId": "8f92c373-811b-4519-8d1c-7d64144a0cfb"
      },
      "source": [
        "# Mengkalkulasi model_2 metrics\n",
        "mae_2 = mae(y_test, y_preds_2.squeeze()).numpy()\n",
        "mse_2 = mse(y_test, y_preds_2.squeeze()).numpy()\n",
        "mae_2, mse_2"
      ],
      "execution_count": null,
      "outputs": [
        {
          "output_type": "execute_result",
          "data": {
            "text/plain": [
              "(17.614613, 324.77832)"
            ]
          },
          "metadata": {},
          "execution_count": 48
        }
      ]
    },
    {
      "cell_type": "markdown",
      "metadata": {
        "id": "R8i9yfQGrwHx"
      },
      "source": [
        "**Membuat `model_3`**\n",
        "\n",
        "Untuk model ke-3, kita akan mempertahankan semuanya sama seperti `model_2` namun kali ini kita akan melatih modelnya menjadi lebih lama (500 epochs, bukan 100).\n",
        "\n",
        "Hal ini akan memberikan model kita lebih banyak kesempatan untuk mempelajari pola-pola di dalam data."
      ]
    },
    {
      "cell_type": "code",
      "metadata": {
        "id": "ABGwQFsbrvUS",
        "colab": {
          "base_uri": "https://localhost:8080/"
        },
        "outputId": "658198e4-f5d1-4eb9-cbd1-396c6a325a7c"
      },
      "source": [
        "# Mendefinisikan random seed\n",
        "tf.random.set_seed(42)\n",
        "\n",
        "# Melakukan replikasi dari model_2\n",
        "model_3 = tf.keras.Sequential([\n",
        "  tf.keras.layers.Dense(1),\n",
        "  tf.keras.layers.Dense(1)\n",
        "])\n",
        "\n",
        "# Menyusun model\n",
        "model_3.compile(loss=tf.keras.losses.mae,\n",
        "                optimizer=tf.keras.optimizers.SGD(),\n",
        "                metrics=['mae'])\n",
        "\n",
        "# Mencoba model (namun kali ini 500 epochs, bukan 100)\n",
        "model_3.fit(tf.expand_dims(X_train, axis=-1), y_train, epochs=500, verbose=0) # set verbose to 0 for less output"
      ],
      "execution_count": null,
      "outputs": [
        {
          "output_type": "execute_result",
          "data": {
            "text/plain": [
              "<keras.callbacks.History at 0x7fa2a7ca70d0>"
            ]
          },
          "metadata": {},
          "execution_count": 49
        }
      ]
    },
    {
      "cell_type": "code",
      "metadata": {
        "id": "jEz4bVmasbFk",
        "colab": {
          "base_uri": "https://localhost:8080/",
          "height": 523
        },
        "outputId": "b7388ac0-efb2-4446-ace3-f862af45d837"
      },
      "source": [
        "# Membuat dan plot (memvisualisasikan) untuk model_3\n",
        "y_preds_3 = model_3.predict(X_test)\n",
        "plot_predictions(predictions=y_preds_3)"
      ],
      "execution_count": null,
      "outputs": [
        {
          "output_type": "stream",
          "name": "stderr",
          "text": [
            "WARNING:tensorflow:6 out of the last 6 calls to <function Model.make_predict_function.<locals>.predict_function at 0x7fa2a7c2da20> triggered tf.function retracing. Tracing is expensive and the excessive number of tracings could be due to (1) creating @tf.function repeatedly in a loop, (2) passing tensors with different shapes, (3) passing Python objects instead of tensors. For (1), please define your @tf.function outside of the loop. For (2), @tf.function has reduce_retracing=True option that can avoid unnecessary retracing. For (3), please refer to https://www.tensorflow.org/guide/function#controlling_retracing and https://www.tensorflow.org/api_docs/python/tf/function for  more details.\n"
          ]
        },
        {
          "output_type": "stream",
          "name": "stdout",
          "text": [
            "1/1 [==============================] - 0s 44ms/step\n"
          ]
        },
        {
          "output_type": "display_data",
          "data": {
            "text/plain": [
              "<Figure size 1000x700 with 1 Axes>"
            ],
            "image/png": "[encoded data removed]"
          },
          "metadata": {}
        }
      ]
    },
    {
      "cell_type": "markdown",
      "metadata": {
        "id": "38Ki8ZHcsztG"
      },
      "source": [
        "Aneh, kita sudah melatihnya lebih lama namun model kita justru memiliki peforma yang lebih buruk?\n",
        "\n",
        "Ternyata, model kita mungkin berlatih terlalu lama sehingga menghasilkan hasil yang lebih buruk (kita akan melihat cara-cara untuk mencegah latihan yang terlalu lama nanti)."
      ]
    },
    {
      "cell_type": "code",
      "metadata": {
        "id": "BPTUcFe4sbfk",
        "colab": {
          "base_uri": "https://localhost:8080/"
        },
        "outputId": "3f0cf3a4-968a-4a41-962d-6d8b0cb3d1a7"
      },
      "source": [
        "# Mengkalkulasi model_3 metrics\n",
        "mae_3 = mae(y_test, y_preds_3.squeeze()).numpy()\n",
        "mse_3 = mse(y_test, y_preds_3.squeeze()).numpy()\n",
        "mae_3, mse_3"
      ],
      "execution_count": null,
      "outputs": [
        {
          "output_type": "execute_result",
          "data": {
            "text/plain": [
              "(67.66776, 4663.0103)"
            ]
          },
          "metadata": {},
          "execution_count": 51
        }
      ]
    },
    {
      "cell_type": "markdown",
      "metadata": {
        "id": "UPEeM3UsrxGB"
      },
      "source": [
        "## Membandingkan hasil\n",
        "\n",
        "Sekarang kita sudah mendapatkan 3 hasil yang sama namun sedikit berbeda, mari kita bandingkan."
      ]
    },
    {
      "cell_type": "code",
      "metadata": {
        "id": "mw5RZk-BqLZd"
      },
      "source": [
        "model_results = [[\"model_1\", mae_1, mse_1],\n",
        "                 [\"model_2\", mae_2, mse_2],\n",
        "                 [\"model_3\", mae_3, mae_3]]"
      ],
      "execution_count": null,
      "outputs": []
    },
    {
      "cell_type": "code",
      "metadata": {
        "id": "Ip7bKH83p5X0",
        "colab": {
          "base_uri": "https://localhost:8080/",
          "height": 143
        },
        "outputId": "2a1fd68d-c5ae-4d3a-d25b-e3db30bd2e1c"
      },
      "source": [
        "import pandas as pd\n",
        "all_results = pd.DataFrame(model_results, columns=[\"model\", \"mae\", \"mse\"])\n",
        "all_results"
      ],
      "execution_count": null,
      "outputs": [
        {
          "output_type": "execute_result",
          "data": {
            "text/plain": [
              "     model        mae         mse\n",
              "0  model_1   8.441170   77.640221\n",
              "1  model_2  17.614613  324.778320\n",
              "2  model_3  67.667763   67.667763"
            ],
            "text/html": [
              "\n",
              "  <div id=\"df-7ab847e3-5bf1-41b0-afb6-5e1d248eb57f\">\n",
              "    <div class=\"colab-df-container\">\n",
              "      <div>\n",
              "<style scoped>\n",
              "    .dataframe tbody tr th:only-of-type {\n",
              "        vertical-align: middle;\n",
              "    }\n",
              "\n",
              "    .dataframe tbody tr th {\n",
              "        vertical-align: top;\n",
              "    }\n",
              "\n",
              "    .dataframe thead th {\n",
              "        text-align: right;\n",
              "    }\n",
              "</style>\n",
              "<table border=\"1\" class=\"dataframe\">\n",
              "  <thead>\n",
              "    <tr style=\"text-align: right;\">\n",
              "      <th></th>\n",
              "      <th>model</th>\n",
              "      <th>mae</th>\n",
              "      <th>mse</th>\n",
              "    </tr>\n",
              "  </thead>\n",
              "  <tbody>\n",
              "    <tr>\n",
              "      <th>0</th>\n",
              "      <td>model_1</td>\n",
              "      <td>8.441170</td>\n",
              "      <td>77.640221</td>\n",
              "    </tr>\n",
              "    <tr>\n",
              "      <th>1</th>\n",
              "      <td>model_2</td>\n",
              "      <td>17.614613</td>\n",
              "      <td>324.778320</td>\n",
              "    </tr>\n",
              "    <tr>\n",
              "      <th>2</th>\n",
              "      <td>model_3</td>\n",
              "      <td>67.667763</td>\n",
              "      <td>67.667763</td>\n",
              "    </tr>\n",
              "  </tbody>\n",
              "</table>\n",
              "</div>\n",
              "      <button class=\"colab-df-convert\" onclick=\"convertToInteractive('df-7ab847e3-5bf1-41b0-afb6-5e1d248eb57f')\"\n",
              "              title=\"Convert this dataframe to an interactive table.\"\n",
              "              style=\"display:none;\">\n",
              "        \n",
              "  <svg xmlns=\"http://www.w3.org/2000/svg\" height=\"24px\"viewBox=\"0 0 24 24\"\n",
              "       width=\"24px\">\n",
              "    <path d=\"M0 0h24v24H0V0z\" fill=\"none\"/>\n",
              "    <path d=\"M18.56 5.44l.94 2.06.94-2.06 2.06-.94-2.06-.94-.94-2.06-.94 2.06-2.06.94zm-11 1L8.5 8.5l.94-2.06 2.06-.94-2.06-.94L8.5 2.5l-.94 2.06-2.06.94zm10 10l.94 2.06.94-2.06 2.06-.94-2.06-.94-.94-2.06-.94 2.06-2.06.94z\"/><path d=\"M17.41 7.96l-1.37-1.37c-.4-.4-.92-.59-1.43-.59-.52 0-1.04.2-1.43.59L10.3 9.45l-7.72 7.72c-.78.78-.78 2.05 0 2.83L4 21.41c.39.39.9.59 1.41.59.51 0 1.02-.2 1.41-.59l7.78-7.78 2.81-2.81c.8-.78.8-2.07 0-2.86zM5.41 20L4 18.59l7.72-7.72 1.47 1.35L5.41 20z\"/>\n",
              "  </svg>\n",
              "      </button>\n",
              "      \n",
              "  <style>\n",
              "    .colab-df-container {\n",
              "      display:flex;\n",
              "      flex-wrap:wrap;\n",
              "      gap: 12px;\n",
              "    }\n",
              "\n",
              "    .colab-df-convert {\n",
              "      background-color: #E8F0FE;\n",
              "      border: none;\n",
              "      border-radius: 50%;\n",
              "      cursor: pointer;\n",
              "      display: none;\n",
              "      fill: #1967D2;\n",
              "      height: 32px;\n",
              "      padding: 0 0 0 0;\n",
              "      width: 32px;\n",
              "    }\n",
              "\n",
              "    .colab-df-convert:hover {\n",
              "      background-color: #E2EBFA;\n",
              "      box-shadow: 0px 1px 2px rgba(60, 64, 67, 0.3), 0px 1px 3px 1px rgba(60, 64, 67, 0.15);\n",
              "      fill: #174EA6;\n",
              "    }\n",
              "\n",
              "    [theme=dark] .colab-df-convert {\n",
              "      background-color: #3B4455;\n",
              "      fill: #D2E3FC;\n",
              "    }\n",
              "\n",
              "    [theme=dark] .colab-df-convert:hover {\n",
              "      background-color: #434B5C;\n",
              "      box-shadow: 0px 1px 3px 1px rgba(0, 0, 0, 0.15);\n",
              "      filter: drop-shadow(0px 1px 2px rgba(0, 0, 0, 0.3));\n",
              "      fill: #FFFFFF;\n",
              "    }\n",
              "  </style>\n",
              "\n",
              "      <script>\n",
              "        const buttonEl =\n",
              "          document.querySelector('#df-7ab847e3-5bf1-41b0-afb6-5e1d248eb57f button.colab-df-convert');\n",
              "        buttonEl.style.display =\n",
              "          google.colab.kernel.accessAllowed ? 'block' : 'none';\n",
              "\n",
              "        async function convertToInteractive(key) {\n",
              "          const element = document.querySelector('#df-7ab847e3-5bf1-41b0-afb6-5e1d248eb57f');\n",
              "          const dataTable =\n",
              "            await google.colab.kernel.invokeFunction('convertToInteractive',\n",
              "                                                     [key], {});\n",
              "          if (!dataTable) return;\n",
              "\n",
              "          const docLinkHtml = 'Like what you see? Visit the ' +\n",
              "            '<a target=\"_blank\" href=https://colab.research.google.com/notebooks/data_table.ipynb>data table notebook</a>'\n",
              "            + ' to learn more about interactive tables.';\n",
              "          element.innerHTML = '';\n",
              "          dataTable['output_type'] = 'display_data';\n",
              "          await google.colab.output.renderOutput(dataTable, element);\n",
              "          const docLink = document.createElement('div');\n",
              "          docLink.innerHTML = docLinkHtml;\n",
              "          element.appendChild(docLink);\n",
              "        }\n",
              "      </script>\n",
              "    </div>\n",
              "  </div>\n",
              "  "
            ]
          },
          "metadata": {},
          "execution_count": 53
        }
      ]
    },
    {
      "cell_type": "markdown",
      "metadata": {
        "id": "o_AtUiwuuLGo"
      },
      "source": [
        "Dari percobaan yang kita lakukan, sepertinya `model_2` memiliki peforma yang terbaik.\n",
        "\n",
        "Dan sekarang, kalian mungkin berfikir, \"wow, membandingkan model itu ternyata membosankan...\" dan memang benar, kita hanya membandingkan 3 model disini.\n",
        "\n",
        "Tapi ini adakah bagian dari pemodelan pembelajaran machine learning, mencoba berbagai kombinasi model yang berbeda dan melihat mana yang memiliki peforma yang terbaik.\n",
        "\n",
        "Setiap model yang kalian buat adalah sebuah eksperimen kecil.\n",
        "\n",
        "> 🔑 **Catatan:** Salah satu tujuan kalian adalah meminimalkan waktu eksperimen kalian. Semakin banyak eksperimen yang kalian lakukan, semakin banyak hal yang akan kalian temukan dari model kalian yang tidak berhasil, dan semakin kalian mencoba, kalian akan semakin memahami dan menemukan kesalahan yang nantinya dapat kalian perbaiki sehingga model kalian bisa bekerja dengan baik. Ingatlah selalu moto yang digaungkan untuk Machine Learning: \"experiment, experiment, experiment\".\n",
        "\n",
        "Hal lain yang juga akan kalian temukan adalah apa yang kalian pikir berhasil (seperti melatih model lebih lama) mungkin tidak selalu berhasil dan hal sebaliknya juga sering terjadi.\n",
        "\n",
        "## Mentracking eksperimen kalian\n",
        "\n",
        "Salah satu kebiasaan yang bagus untuk dilakukan dalam mengembangkan machine learning adalah melacak eksperimen kalian untuk melihat mana yang memiliki kinerja yang lebih baik dibandingkan yang lain.\n",
        "\n",
        "**Selamat**, kalian sudah berhasil membuat model machine learning versi sederhana (menyimpan hasil dalam variabel yang berbeda).\n",
        "\n",
        "> 📖 **Resource:** Namun, ketika kalian membuat lebih banyak model, kalian mungkin akan mempertimbangkan untuk menggunakan alat bantu seperti:\n",
        "* [**TensorBoard**](https://tensorboard.dev/) - komponen dari library TensorFlow untuk membantu melacak eksperimen pemodelan (kita akan melihat ini nanti).\n",
        "* [**Weights & Biases**](https://www.wandb.com/) - alat untuk melacak semua jenis eksperimen machine learning (kabar baiknya untuk tools Weights & Biases adalah alat ini terhubung ke TensorBoard)."
      ]
    },
    {
      "cell_type": "markdown",
      "metadata": {
        "id": "Fe5DgNbX6192"
      },
      "source": [
        "## Menyimpan model\n",
        "\n",
        "Setelah kalian melatih sebuah model dam menemukan model yang sesuai dengan keinginan kalian, kalian mungkin ingin menyimpannya untuk digunakan di tempat lain (seperti web application atau mobile device).\n",
        "\n",
        "Kalian bisa menyimpan model TensorFlow/Keras dengan menggunakan [`model.save()`](https://www.tensorflow.org/tutorials/keras/save_and_load#save_the_entire_model).\n",
        "\n",
        "Terdapat dua cara yang dapat digunakan untuk menyimpan model di TensorFlow:\n",
        "1. [SavedModel format](https://www.tensorflow.org/tutorials/keras/save_and_load#savedmodel_format) (default).\n",
        "2. [HDF5 format](https://www.tensorflow.org/tutorials/keras/save_and_load#hdf5_format).\n",
        "\n",
        "Perbedaan utama antara keduanya adalah SavedModel secara otomatis dapat menyimpan objek khusus (seperti special layers) tanpa memerlukan modifikasi tambahan ketika memuat model kembali.\n",
        "\n",
        "Mana yang sebaiknya digunakan?\n",
        "\n",
        "Tergantung pada situasi yang kalian hadapi, tetapi format SavedModel akan cukup untuk sebagian besar waktu.\n",
        "\n",
        "Kedua method ini menggunakan method pemanggilan yang sama."
      ]
    },
    {
      "cell_type": "code",
      "metadata": {
        "id": "gg0jD2cUoPsg",
        "colab": {
          "base_uri": "https://localhost:8080/"
        },
        "outputId": "85ee5974-e249-40a6-9b4f-f0ccee73f6f5"
      },
      "source": [
        "# Menyimpan model menggunakan SavedModel format\n",
        "model_2.save('best_model_SavedModel_format')"
      ],
      "execution_count": null,
      "outputs": [
        {
          "output_type": "stream",
          "name": "stderr",
          "text": [
            "WARNING:absl:Found untraced functions such as _update_step_xla while saving (showing 1 of 1). These functions will not be directly callable after loading.\n"
          ]
        }
      ]
    },
    {
      "cell_type": "code",
      "metadata": {
        "id": "dsCpDYrU7D1j",
        "colab": {
          "base_uri": "https://localhost:8080/"
        },
        "outputId": "792c2f1d-8c05-4d4d-cd94-fffa6cfe2034"
      },
      "source": [
        "# Melihat model - mengoutputkan protobuf binary file (.pb) serta file-file lainnya\n",
        "!ls best_model_SavedModel_format"
      ],
      "execution_count": null,
      "outputs": [
        {
          "output_type": "stream",
          "name": "stdout",
          "text": [
            "assets\tfingerprint.pb\tkeras_metadata.pb  saved_model.pb  variables\n"
          ]
        }
      ]
    },
    {
      "cell_type": "markdown",
      "metadata": {
        "id": "NGKmWco_SOEU"
      },
      "source": [
        "Sekarang, mari kita menyimpan model dalam HDF5 format, kita akan menggunakan method yang sama namun dengan nama file yang berbeda."
      ]
    },
    {
      "cell_type": "code",
      "metadata": {
        "id": "97J6GJMBSM2j"
      },
      "source": [
        "# Menyimpan model dengan menggunakan HDF5 format\n",
        "model_2.save(\"best_model_HDF5_format.h5\") # note the addition of '.h5' on the end"
      ],
      "execution_count": null,
      "outputs": []
    },
    {
      "cell_type": "code",
      "metadata": {
        "id": "vB7TmsSGSjdv",
        "colab": {
          "base_uri": "https://localhost:8080/"
        },
        "outputId": "6ffaf482-ed12-44ca-b288-4a8af109031f"
      },
      "source": [
        "# Melihat model\n",
        "!ls best_model_HDF5_format.h5"
      ],
      "execution_count": null,
      "outputs": [
        {
          "output_type": "stream",
          "name": "stdout",
          "text": [
            "best_model_HDF5_format.h5\n"
          ]
        }
      ]
    },
    {
      "cell_type": "markdown",
      "metadata": {
        "id": "OGA02tY97EUI"
      },
      "source": [
        "## Memuat model\n",
        "\n",
        "Kita bisa memuat model yang tersimpan dengan menggunakan method [`load_model()`](https://www.tensorflow.org/api_docs/python/tf/keras/models/load_model).\n",
        "\n",
        "Memuat model untuk format yang berbeda (SavedModel dan HDF5) adalah sama (selama nama path ke format tertentu benar)."
      ]
    },
    {
      "cell_type": "code",
      "metadata": {
        "id": "FzyLIWfs7Fvh",
        "colab": {
          "base_uri": "https://localhost:8080/"
        },
        "outputId": "29702344-f16b-4a9b-c9a1-e77b32358cd2"
      },
      "source": [
        "# Memuat model dari SavedModel format\n",
        "loaded_saved_model = tf.keras.models.load_model(\"best_model_SavedModel_format\")\n",
        "loaded_saved_model.summary()"
      ],
      "execution_count": null,
      "outputs": [
        {
          "output_type": "stream",
          "name": "stdout",
          "text": [
            "Model: \"sequential_5\"\n",
            "_________________________________________________________________\n",
            " Layer (type)                Output Shape              Param #   \n",
            "=================================================================\n",
            " dense_5 (Dense)             (None, 1)                 2         \n",
            "                                                                 \n",
            " dense_6 (Dense)             (None, 1)                 2         \n",
            "                                                                 \n",
            "=================================================================\n",
            "Total params: 4\n",
            "Trainable params: 4\n",
            "Non-trainable params: 0\n",
            "_________________________________________________________________\n"
          ]
        }
      ]
    },
    {
      "cell_type": "markdown",
      "metadata": {
        "id": "MfGO0dCQTeQh"
      },
      "source": [
        "Sekarang mari kita uji."
      ]
    },
    {
      "cell_type": "code",
      "metadata": {
        "id": "7rehN8ZxTy43",
        "colab": {
          "base_uri": "https://localhost:8080/"
        },
        "outputId": "f6b4a008-f4fc-422d-bea5-1a3a11f0c8ca"
      },
      "source": [
        "# Membandingkan model_2 dengan versi SavedModel (harusnya bernilai true)\n",
        "model_2_preds = model_2.predict(X_test)\n",
        "saved_model_preds = loaded_saved_model.predict(X_test)\n",
        "mae(y_test, saved_model_preds.squeeze()).numpy() == mae(y_test, model_2_preds.squeeze()).numpy()"
      ],
      "execution_count": null,
      "outputs": [
        {
          "output_type": "stream",
          "name": "stdout",
          "text": [
            "1/1 [==============================] - 0s 31ms/step\n",
            "1/1 [==============================] - 0s 44ms/step\n"
          ]
        },
        {
          "output_type": "execute_result",
          "data": {
            "text/plain": [
              "True"
            ]
          },
          "metadata": {},
          "execution_count": 59
        }
      ]
    },
    {
      "cell_type": "markdown",
      "metadata": {
        "id": "prjkfX6rUZ6a"
      },
      "source": [
        "Memuat dari HDF5 format (caranya hampir sama)."
      ]
    },
    {
      "cell_type": "code",
      "metadata": {
        "id": "dQfx-bWKUfRQ",
        "colab": {
          "base_uri": "https://localhost:8080/"
        },
        "outputId": "e6c33767-dcaf-4c8b-f5bb-8750d76b18be"
      },
      "source": [
        "# Memuat model dari HDF5 format\n",
        "loaded_h5_model = tf.keras.models.load_model(\"best_model_HDF5_format.h5\")\n",
        "loaded_h5_model.summary()"
      ],
      "execution_count": null,
      "outputs": [
        {
          "output_type": "stream",
          "name": "stdout",
          "text": [
            "Model: \"sequential_5\"\n",
            "_________________________________________________________________\n",
            " Layer (type)                Output Shape              Param #   \n",
            "=================================================================\n",
            " dense_5 (Dense)             (None, 1)                 2         \n",
            "                                                                 \n",
            " dense_6 (Dense)             (None, 1)                 2         \n",
            "                                                                 \n",
            "=================================================================\n",
            "Total params: 4\n",
            "Trainable params: 4\n",
            "Non-trainable params: 0\n",
            "_________________________________________________________________\n"
          ]
        }
      ]
    },
    {
      "cell_type": "code",
      "metadata": {
        "id": "L0kT91h-Uru-",
        "colab": {
          "base_uri": "https://localhost:8080/"
        },
        "outputId": "78195510-cbe5-480e-cbc6-2da500071e58"
      },
      "source": [
        "# Membandingkan model_2 dengan versi HDF5 yang dimuat (harusnya bernilai true)\n",
        "h5_model_preds = loaded_h5_model.predict(X_test)\n",
        "mae(y_test, h5_model_preds.squeeze()).numpy() == mae(y_test, model_2_preds.squeeze()).numpy()"
      ],
      "execution_count": null,
      "outputs": [
        {
          "output_type": "stream",
          "name": "stdout",
          "text": [
            "1/1 [==============================] - 0s 63ms/step\n"
          ]
        },
        {
          "output_type": "execute_result",
          "data": {
            "text/plain": [
              "True"
            ]
          },
          "metadata": {},
          "execution_count": 61
        }
      ]
    },
    {
      "cell_type": "markdown",
      "metadata": {
        "id": "ABtsYBDtr5Zz"
      },
      "source": [
        "## Mendownload model (dari Google Colab)\n",
        "\n",
        "Misalkan jika kalian ingin menggunakan model yang kalian buat dari Google Colab ke mesin lokal, kalian dapat melakukan salah satu dari hal-hal berikut ini:\n",
        "* Klik kanan pada file di panel file lalu klik 'download'.\n",
        "* Menggunakan kode berikut."
      ]
    },
    {
      "cell_type": "code",
      "metadata": {
        "id": "JV0onjIIr9XC",
        "colab": {
          "base_uri": "https://localhost:8080/",
          "height": 17
        },
        "outputId": "550eb964-6966-4159-a4ea-2610677a96ab"
      },
      "source": [
        "# Mendownload model (atau file apapun) dari Google Colab\n",
        "from google.colab import files\n",
        "files.download(\"best_model_HDF5_format.h5\")"
      ],
      "execution_count": null,
      "outputs": [
        {
          "output_type": "display_data",
          "data": {
            "text/plain": [
              "<IPython.core.display.Javascript object>"
            ],
            "application/javascript": [
              "\n",
              "    async function download(id, filename, size) {\n",
              "      if (!google.colab.kernel.accessAllowed) {\n",
              "        return;\n",
              "      }\n",
              "      const div = document.createElement('div');\n",
              "      const label = document.createElement('label');\n",
              "      label.textContent = `Downloading \"${filename}\": `;\n",
              "      div.appendChild(label);\n",
              "      const progress = document.createElement('progress');\n",
              "      progress.max = size;\n",
              "      div.appendChild(progress);\n",
              "      document.body.appendChild(div);\n",
              "\n",
              "      const buffers = [];\n",
              "      let downloaded = 0;\n",
              "\n",
              "      const channel = await google.colab.kernel.comms.open(id);\n",
              "      // Send a message to notify the kernel that we're ready.\n",
              "      channel.send({})\n",
              "\n",
              "      for await (const message of channel.messages) {\n",
              "        // Send a message to notify the kernel that we're ready.\n",
              "        channel.send({})\n",
              "        if (message.buffers) {\n",
              "          for (const buffer of message.buffers) {\n",
              "            buffers.push(buffer);\n",
              "            downloaded += buffer.byteLength;\n",
              "            progress.value = downloaded;\n",
              "          }\n",
              "        }\n",
              "      }\n",
              "      const blob = new Blob(buffers, {type: 'application/binary'});\n",
              "      const a = document.createElement('a');\n",
              "      a.href = window.URL.createObjectURL(blob);\n",
              "      a.download = filename;\n",
              "      div.appendChild(a);\n",
              "      a.click();\n",
              "      div.remove();\n",
              "    }\n",
              "  "
            ]
          },
          "metadata": {}
        },
        {
          "output_type": "display_data",
          "data": {
            "text/plain": [
              "<IPython.core.display.Javascript object>"
            ],
            "application/javascript": [
              "download(\"download_00eae78d-7d7c-441a-b213-10ecd461716a\", \"best_model_HDF5_format.h5\", 21952)"
            ]
          },
          "metadata": {}
        }
      ]
    },
    {
      "cell_type": "markdown",
      "metadata": {
        "id": "7xpVdMtKw6X4"
      },
      "source": [
        "## Contoh yang lebih kompleks\n",
        "\n",
        "Baiklah, kita sudah mempelajari dasar-dasar membangun model neural network regression di TensorFlow.\n",
        "\n",
        "Sekarang mari kita tingkatkan lagi dan membangun model untuk dataset yang lebih banyak fiturnya.\n",
        "\n",
        "Lebih spesifik kita akan mencoba memprediksi biaya asuransi kesehatan untuk individu berdasarkan beberapa parameter yang berbeda seperti, `age`, `sex`, `bmi`, `children`, `smoking_status` dan `residential_region`.\n",
        "\n",
        "Untuk melakukannya, kita akan memanfaatkan dataset [Medical Cost dataset](https://www.kaggle.com/mirichoi0218/insurance) yang disediakan oleh Kaggle dan [hosted di GitHub](https://github.com/stedy/Machine-Learning-with-R-datasets/blob/master/insurance.csv).\n",
        "\n",
        "> 🔑 **Catatan:** Ketika memperlajari paradigma machine learning, kalian akan sering melalui serangkaian teknik dasar dan kemudian mempraktikkannya dengan menggunakan open-source dataset dan contoh. Seperti yang kita lakukan sekarang, pelajari fundamental (dasar-dasarnya), terapkan pada masalah yang berbeda. Setiap kali kalian mengerjakan sesuatu yang baru, ada baiknya kalian mencari sesuatu seperti \"problem X example with Python/TensorFlow\"yang dimana X adalah soal / permasalahan kalian."
      ]
    },
    {
      "cell_type": "code",
      "metadata": {
        "id": "WWK1LBxapgc2"
      },
      "source": [
        "# Mengimport library yang diperlukan\n",
        "import tensorflow as tf\n",
        "import pandas as pd\n",
        "import matplotlib.pyplot as plt"
      ],
      "execution_count": null,
      "outputs": []
    },
    {
      "cell_type": "code",
      "metadata": {
        "id": "JrnTr5N9blFo"
      },
      "source": [
        "# Melakukan read pada dataset insurance\n",
        "insurance = pd.read_csv(\"https://raw.githubusercontent.com/stedy/Machine-Learning-with-R-datasets/master/insurance.csv\")"
      ],
      "execution_count": null,
      "outputs": []
    },
    {
      "cell_type": "code",
      "metadata": {
        "id": "QtXPN7cfb4Nm",
        "colab": {
          "base_uri": "https://localhost:8080/",
          "height": 206
        },
        "outputId": "b1909933-91e7-493e-ef4d-3b48f4612ca3"
      },
      "source": [
        "# Melihat dataset insurance\n",
        "insurance.head()"
      ],
      "execution_count": null,
      "outputs": [
        {
          "output_type": "execute_result",
          "data": {
            "text/plain": [
              "   age     sex     bmi  children smoker     region      charges\n",
              "0   19  female  27.900         0    yes  southwest  16884.92400\n",
              "1   18    male  33.770         1     no  southeast   1725.55230\n",
              "2   28    male  33.000         3     no  southeast   4449.46200\n",
              "3   33    male  22.705         0     no  northwest  21984.47061\n",
              "4   32    male  28.880         0     no  northwest   3866.85520"
            ],
            "text/html": [
              "\n",
              "  <div id=\"df-f3683fb7-ed4c-4e8e-8c42-7178867a88b3\">\n",
              "    <div class=\"colab-df-container\">\n",
              "      <div>\n",
              "<style scoped>\n",
              "    .dataframe tbody tr th:only-of-type {\n",
              "        vertical-align: middle;\n",
              "    }\n",
              "\n",
              "    .dataframe tbody tr th {\n",
              "        vertical-align: top;\n",
              "    }\n",
              "\n",
              "    .dataframe thead th {\n",
              "        text-align: right;\n",
              "    }\n",
              "</style>\n",
              "<table border=\"1\" class=\"dataframe\">\n",
              "  <thead>\n",
              "    <tr style=\"text-align: right;\">\n",
              "      <th></th>\n",
              "      <th>age</th>\n",
              "      <th>sex</th>\n",
              "      <th>bmi</th>\n",
              "      <th>children</th>\n",
              "      <th>smoker</th>\n",
              "      <th>region</th>\n",
              "      <th>charges</th>\n",
              "    </tr>\n",
              "  </thead>\n",
              "  <tbody>\n",
              "    <tr>\n",
              "      <th>0</th>\n",
              "      <td>19</td>\n",
              "      <td>female</td>\n",
              "      <td>27.900</td>\n",
              "      <td>0</td>\n",
              "      <td>yes</td>\n",
              "      <td>southwest</td>\n",
              "      <td>16884.92400</td>\n",
              "    </tr>\n",
              "    <tr>\n",
              "      <th>1</th>\n",
              "      <td>18</td>\n",
              "      <td>male</td>\n",
              "      <td>33.770</td>\n",
              "      <td>1</td>\n",
              "      <td>no</td>\n",
              "      <td>southeast</td>\n",
              "      <td>1725.55230</td>\n",
              "    </tr>\n",
              "    <tr>\n",
              "      <th>2</th>\n",
              "      <td>28</td>\n",
              "      <td>male</td>\n",
              "      <td>33.000</td>\n",
              "      <td>3</td>\n",
              "      <td>no</td>\n",
              "      <td>southeast</td>\n",
              "      <td>4449.46200</td>\n",
              "    </tr>\n",
              "    <tr>\n",
              "      <th>3</th>\n",
              "      <td>33</td>\n",
              "      <td>male</td>\n",
              "      <td>22.705</td>\n",
              "      <td>0</td>\n",
              "      <td>no</td>\n",
              "      <td>northwest</td>\n",
              "      <td>21984.47061</td>\n",
              "    </tr>\n",
              "    <tr>\n",
              "      <th>4</th>\n",
              "      <td>32</td>\n",
              "      <td>male</td>\n",
              "      <td>28.880</td>\n",
              "      <td>0</td>\n",
              "      <td>no</td>\n",
              "      <td>northwest</td>\n",
              "      <td>3866.85520</td>\n",
              "    </tr>\n",
              "  </tbody>\n",
              "</table>\n",
              "</div>\n",
              "      <button class=\"colab-df-convert\" onclick=\"convertToInteractive('df-f3683fb7-ed4c-4e8e-8c42-7178867a88b3')\"\n",
              "              title=\"Convert this dataframe to an interactive table.\"\n",
              "              style=\"display:none;\">\n",
              "        \n",
              "  <svg xmlns=\"http://www.w3.org/2000/svg\" height=\"24px\"viewBox=\"0 0 24 24\"\n",
              "       width=\"24px\">\n",
              "    <path d=\"M0 0h24v24H0V0z\" fill=\"none\"/>\n",
              "    <path d=\"M18.56 5.44l.94 2.06.94-2.06 2.06-.94-2.06-.94-.94-2.06-.94 2.06-2.06.94zm-11 1L8.5 8.5l.94-2.06 2.06-.94-2.06-.94L8.5 2.5l-.94 2.06-2.06.94zm10 10l.94 2.06.94-2.06 2.06-.94-2.06-.94-.94-2.06-.94 2.06-2.06.94z\"/><path d=\"M17.41 7.96l-1.37-1.37c-.4-.4-.92-.59-1.43-.59-.52 0-1.04.2-1.43.59L10.3 9.45l-7.72 7.72c-.78.78-.78 2.05 0 2.83L4 21.41c.39.39.9.59 1.41.59.51 0 1.02-.2 1.41-.59l7.78-7.78 2.81-2.81c.8-.78.8-2.07 0-2.86zM5.41 20L4 18.59l7.72-7.72 1.47 1.35L5.41 20z\"/>\n",
              "  </svg>\n",
              "      </button>\n",
              "      \n",
              "  <style>\n",
              "    .colab-df-container {\n",
              "      display:flex;\n",
              "      flex-wrap:wrap;\n",
              "      gap: 12px;\n",
              "    }\n",
              "\n",
              "    .colab-df-convert {\n",
              "      background-color: #E8F0FE;\n",
              "      border: none;\n",
              "      border-radius: 50%;\n",
              "      cursor: pointer;\n",
              "      display: none;\n",
              "      fill: #1967D2;\n",
              "      height: 32px;\n",
              "      padding: 0 0 0 0;\n",
              "      width: 32px;\n",
              "    }\n",
              "\n",
              "    .colab-df-convert:hover {\n",
              "      background-color: #E2EBFA;\n",
              "      box-shadow: 0px 1px 2px rgba(60, 64, 67, 0.3), 0px 1px 3px 1px rgba(60, 64, 67, 0.15);\n",
              "      fill: #174EA6;\n",
              "    }\n",
              "\n",
              "    [theme=dark] .colab-df-convert {\n",
              "      background-color: #3B4455;\n",
              "      fill: #D2E3FC;\n",
              "    }\n",
              "\n",
              "    [theme=dark] .colab-df-convert:hover {\n",
              "      background-color: #434B5C;\n",
              "      box-shadow: 0px 1px 3px 1px rgba(0, 0, 0, 0.15);\n",
              "      filter: drop-shadow(0px 1px 2px rgba(0, 0, 0, 0.3));\n",
              "      fill: #FFFFFF;\n",
              "    }\n",
              "  </style>\n",
              "\n",
              "      <script>\n",
              "        const buttonEl =\n",
              "          document.querySelector('#df-f3683fb7-ed4c-4e8e-8c42-7178867a88b3 button.colab-df-convert');\n",
              "        buttonEl.style.display =\n",
              "          google.colab.kernel.accessAllowed ? 'block' : 'none';\n",
              "\n",
              "        async function convertToInteractive(key) {\n",
              "          const element = document.querySelector('#df-f3683fb7-ed4c-4e8e-8c42-7178867a88b3');\n",
              "          const dataTable =\n",
              "            await google.colab.kernel.invokeFunction('convertToInteractive',\n",
              "                                                     [key], {});\n",
              "          if (!dataTable) return;\n",
              "\n",
              "          const docLinkHtml = 'Like what you see? Visit the ' +\n",
              "            '<a target=\"_blank\" href=https://colab.research.google.com/notebooks/data_table.ipynb>data table notebook</a>'\n",
              "            + ' to learn more about interactive tables.';\n",
              "          element.innerHTML = '';\n",
              "          dataTable['output_type'] = 'display_data';\n",
              "          await google.colab.output.renderOutput(dataTable, element);\n",
              "          const docLink = document.createElement('div');\n",
              "          docLink.innerHTML = docLinkHtml;\n",
              "          element.appendChild(docLink);\n",
              "        }\n",
              "      </script>\n",
              "    </div>\n",
              "  </div>\n",
              "  "
            ]
          },
          "metadata": {},
          "execution_count": 65
        }
      ]
    },
    {
      "cell_type": "markdown",
      "metadata": {
        "id": "s55oIsYv0KkZ"
      },
      "source": [
        "Kita harus mengubah non-numerical columns menjadi angka (karena neural network tidak dapat menangani input non numerik).\n",
        "\n",
        "Untuk melakukannya, kita akan menggunakan method yang terdapat dalam pandas yaitu [`get_dummies()`](https://pandas.pydata.org/pandas-docs/stable/reference/api/pandas.get_dummies.html).\n",
        "\n",
        "Ini akan mengubah variabel kategori (seperti kolom `sex`, `smoker` dan `region`) menjadi variabel numerical menggunakan one-hot encoding."
      ]
    },
    {
      "cell_type": "code",
      "metadata": {
        "id": "MqM_BmPkdon8",
        "colab": {
          "base_uri": "https://localhost:8080/",
          "height": 270
        },
        "outputId": "e1927c45-dffc-47c4-8388-adcc4b4774b6"
      },
      "source": [
        "# Mengubah semua kategori menjadi angka\n",
        "insurance_one_hot = pd.get_dummies(insurance)\n",
        "insurance_one_hot.head() # melihat kolom yang sudah dikonversi"
      ],
      "execution_count": null,
      "outputs": [
        {
          "output_type": "execute_result",
          "data": {
            "text/plain": [
              "   age     bmi  children      charges  sex_female  sex_male  smoker_no  \\\n",
              "0   19  27.900         0  16884.92400           1         0          0   \n",
              "1   18  33.770         1   1725.55230           0         1          1   \n",
              "2   28  33.000         3   4449.46200           0         1          1   \n",
              "3   33  22.705         0  21984.47061           0         1          1   \n",
              "4   32  28.880         0   3866.85520           0         1          1   \n",
              "\n",
              "   smoker_yes  region_northeast  region_northwest  region_southeast  \\\n",
              "0           1                 0                 0                 0   \n",
              "1           0                 0                 0                 1   \n",
              "2           0                 0                 0                 1   \n",
              "3           0                 0                 1                 0   \n",
              "4           0                 0                 1                 0   \n",
              "\n",
              "   region_southwest  \n",
              "0                 1  \n",
              "1                 0  \n",
              "2                 0  \n",
              "3                 0  \n",
              "4                 0  "
            ],
            "text/html": [
              "\n",
              "  <div id=\"df-9d11e43b-4024-4ef1-ad37-653fa893ced7\">\n",
              "    <div class=\"colab-df-container\">\n",
              "      <div>\n",
              "<style scoped>\n",
              "    .dataframe tbody tr th:only-of-type {\n",
              "        vertical-align: middle;\n",
              "    }\n",
              "\n",
              "    .dataframe tbody tr th {\n",
              "        vertical-align: top;\n",
              "    }\n",
              "\n",
              "    .dataframe thead th {\n",
              "        text-align: right;\n",
              "    }\n",
              "</style>\n",
              "<table border=\"1\" class=\"dataframe\">\n",
              "  <thead>\n",
              "    <tr style=\"text-align: right;\">\n",
              "      <th></th>\n",
              "      <th>age</th>\n",
              "      <th>bmi</th>\n",
              "      <th>children</th>\n",
              "      <th>charges</th>\n",
              "      <th>sex_female</th>\n",
              "      <th>sex_male</th>\n",
              "      <th>smoker_no</th>\n",
              "      <th>smoker_yes</th>\n",
              "      <th>region_northeast</th>\n",
              "      <th>region_northwest</th>\n",
              "      <th>region_southeast</th>\n",
              "      <th>region_southwest</th>\n",
              "    </tr>\n",
              "  </thead>\n",
              "  <tbody>\n",
              "    <tr>\n",
              "      <th>0</th>\n",
              "      <td>19</td>\n",
              "      <td>27.900</td>\n",
              "      <td>0</td>\n",
              "      <td>16884.92400</td>\n",
              "      <td>1</td>\n",
              "      <td>0</td>\n",
              "      <td>0</td>\n",
              "      <td>1</td>\n",
              "      <td>0</td>\n",
              "      <td>0</td>\n",
              "      <td>0</td>\n",
              "      <td>1</td>\n",
              "    </tr>\n",
              "    <tr>\n",
              "      <th>1</th>\n",
              "      <td>18</td>\n",
              "      <td>33.770</td>\n",
              "      <td>1</td>\n",
              "      <td>1725.55230</td>\n",
              "      <td>0</td>\n",
              "      <td>1</td>\n",
              "      <td>1</td>\n",
              "      <td>0</td>\n",
              "      <td>0</td>\n",
              "      <td>0</td>\n",
              "      <td>1</td>\n",
              "      <td>0</td>\n",
              "    </tr>\n",
              "    <tr>\n",
              "      <th>2</th>\n",
              "      <td>28</td>\n",
              "      <td>33.000</td>\n",
              "      <td>3</td>\n",
              "      <td>4449.46200</td>\n",
              "      <td>0</td>\n",
              "      <td>1</td>\n",
              "      <td>1</td>\n",
              "      <td>0</td>\n",
              "      <td>0</td>\n",
              "      <td>0</td>\n",
              "      <td>1</td>\n",
              "      <td>0</td>\n",
              "    </tr>\n",
              "    <tr>\n",
              "      <th>3</th>\n",
              "      <td>33</td>\n",
              "      <td>22.705</td>\n",
              "      <td>0</td>\n",
              "      <td>21984.47061</td>\n",
              "      <td>0</td>\n",
              "      <td>1</td>\n",
              "      <td>1</td>\n",
              "      <td>0</td>\n",
              "      <td>0</td>\n",
              "      <td>1</td>\n",
              "      <td>0</td>\n",
              "      <td>0</td>\n",
              "    </tr>\n",
              "    <tr>\n",
              "      <th>4</th>\n",
              "      <td>32</td>\n",
              "      <td>28.880</td>\n",
              "      <td>0</td>\n",
              "      <td>3866.85520</td>\n",
              "      <td>0</td>\n",
              "      <td>1</td>\n",
              "      <td>1</td>\n",
              "      <td>0</td>\n",
              "      <td>0</td>\n",
              "      <td>1</td>\n",
              "      <td>0</td>\n",
              "      <td>0</td>\n",
              "    </tr>\n",
              "  </tbody>\n",
              "</table>\n",
              "</div>\n",
              "      <button class=\"colab-df-convert\" onclick=\"convertToInteractive('df-9d11e43b-4024-4ef1-ad37-653fa893ced7')\"\n",
              "              title=\"Convert this dataframe to an interactive table.\"\n",
              "              style=\"display:none;\">\n",
              "        \n",
              "  <svg xmlns=\"http://www.w3.org/2000/svg\" height=\"24px\"viewBox=\"0 0 24 24\"\n",
              "       width=\"24px\">\n",
              "    <path d=\"M0 0h24v24H0V0z\" fill=\"none\"/>\n",
              "    <path d=\"M18.56 5.44l.94 2.06.94-2.06 2.06-.94-2.06-.94-.94-2.06-.94 2.06-2.06.94zm-11 1L8.5 8.5l.94-2.06 2.06-.94-2.06-.94L8.5 2.5l-.94 2.06-2.06.94zm10 10l.94 2.06.94-2.06 2.06-.94-2.06-.94-.94-2.06-.94 2.06-2.06.94z\"/><path d=\"M17.41 7.96l-1.37-1.37c-.4-.4-.92-.59-1.43-.59-.52 0-1.04.2-1.43.59L10.3 9.45l-7.72 7.72c-.78.78-.78 2.05 0 2.83L4 21.41c.39.39.9.59 1.41.59.51 0 1.02-.2 1.41-.59l7.78-7.78 2.81-2.81c.8-.78.8-2.07 0-2.86zM5.41 20L4 18.59l7.72-7.72 1.47 1.35L5.41 20z\"/>\n",
              "  </svg>\n",
              "      </button>\n",
              "      \n",
              "  <style>\n",
              "    .colab-df-container {\n",
              "      display:flex;\n",
              "      flex-wrap:wrap;\n",
              "      gap: 12px;\n",
              "    }\n",
              "\n",
              "    .colab-df-convert {\n",
              "      background-color: #E8F0FE;\n",
              "      border: none;\n",
              "      border-radius: 50%;\n",
              "      cursor: pointer;\n",
              "      display: none;\n",
              "      fill: #1967D2;\n",
              "      height: 32px;\n",
              "      padding: 0 0 0 0;\n",
              "      width: 32px;\n",
              "    }\n",
              "\n",
              "    .colab-df-convert:hover {\n",
              "      background-color: #E2EBFA;\n",
              "      box-shadow: 0px 1px 2px rgba(60, 64, 67, 0.3), 0px 1px 3px 1px rgba(60, 64, 67, 0.15);\n",
              "      fill: #174EA6;\n",
              "    }\n",
              "\n",
              "    [theme=dark] .colab-df-convert {\n",
              "      background-color: #3B4455;\n",
              "      fill: #D2E3FC;\n",
              "    }\n",
              "\n",
              "    [theme=dark] .colab-df-convert:hover {\n",
              "      background-color: #434B5C;\n",
              "      box-shadow: 0px 1px 3px 1px rgba(0, 0, 0, 0.15);\n",
              "      filter: drop-shadow(0px 1px 2px rgba(0, 0, 0, 0.3));\n",
              "      fill: #FFFFFF;\n",
              "    }\n",
              "  </style>\n",
              "\n",
              "      <script>\n",
              "        const buttonEl =\n",
              "          document.querySelector('#df-9d11e43b-4024-4ef1-ad37-653fa893ced7 button.colab-df-convert');\n",
              "        buttonEl.style.display =\n",
              "          google.colab.kernel.accessAllowed ? 'block' : 'none';\n",
              "\n",
              "        async function convertToInteractive(key) {\n",
              "          const element = document.querySelector('#df-9d11e43b-4024-4ef1-ad37-653fa893ced7');\n",
              "          const dataTable =\n",
              "            await google.colab.kernel.invokeFunction('convertToInteractive',\n",
              "                                                     [key], {});\n",
              "          if (!dataTable) return;\n",
              "\n",
              "          const docLinkHtml = 'Like what you see? Visit the ' +\n",
              "            '<a target=\"_blank\" href=https://colab.research.google.com/notebooks/data_table.ipynb>data table notebook</a>'\n",
              "            + ' to learn more about interactive tables.';\n",
              "          element.innerHTML = '';\n",
              "          dataTable['output_type'] = 'display_data';\n",
              "          await google.colab.output.renderOutput(dataTable, element);\n",
              "          const docLink = document.createElement('div');\n",
              "          docLink.innerHTML = docLinkHtml;\n",
              "          element.appendChild(docLink);\n",
              "        }\n",
              "      </script>\n",
              "    </div>\n",
              "  </div>\n",
              "  "
            ]
          },
          "metadata": {},
          "execution_count": 66
        }
      ]
    },
    {
      "cell_type": "markdown",
      "metadata": {
        "id": "zOHoPzgqgZPq"
      },
      "source": [
        "Sekarang kita akan membagi data menjadi features (`X`) dan labels (`y`)."
      ]
    },
    {
      "cell_type": "code",
      "metadata": {
        "id": "W_EGj3FxhkAb"
      },
      "source": [
        "# Membuat nilai X & y\n",
        "X = insurance_one_hot.drop(\"charges\", axis=1)\n",
        "y = insurance_one_hot[\"charges\"]"
      ],
      "execution_count": null,
      "outputs": []
    },
    {
      "cell_type": "code",
      "metadata": {
        "colab": {
          "base_uri": "https://localhost:8080/",
          "height": 270
        },
        "id": "-QQFJmDn5ATV",
        "outputId": "7a3c6e42-3e53-4637-e5c6-830c6167982a"
      },
      "source": [
        "# Melihat features\n",
        "X.head()"
      ],
      "execution_count": null,
      "outputs": [
        {
          "output_type": "execute_result",
          "data": {
            "text/plain": [
              "   age     bmi  children  sex_female  sex_male  smoker_no  smoker_yes  \\\n",
              "0   19  27.900         0           1         0          0           1   \n",
              "1   18  33.770         1           0         1          1           0   \n",
              "2   28  33.000         3           0         1          1           0   \n",
              "3   33  22.705         0           0         1          1           0   \n",
              "4   32  28.880         0           0         1          1           0   \n",
              "\n",
              "   region_northeast  region_northwest  region_southeast  region_southwest  \n",
              "0                 0                 0                 0                 1  \n",
              "1                 0                 0                 1                 0  \n",
              "2                 0                 0                 1                 0  \n",
              "3                 0                 1                 0                 0  \n",
              "4                 0                 1                 0                 0  "
            ],
            "text/html": [
              "\n",
              "  <div id=\"df-08174710-ceed-41dd-887e-805cc6ba8647\">\n",
              "    <div class=\"colab-df-container\">\n",
              "      <div>\n",
              "<style scoped>\n",
              "    .dataframe tbody tr th:only-of-type {\n",
              "        vertical-align: middle;\n",
              "    }\n",
              "\n",
              "    .dataframe tbody tr th {\n",
              "        vertical-align: top;\n",
              "    }\n",
              "\n",
              "    .dataframe thead th {\n",
              "        text-align: right;\n",
              "    }\n",
              "</style>\n",
              "<table border=\"1\" class=\"dataframe\">\n",
              "  <thead>\n",
              "    <tr style=\"text-align: right;\">\n",
              "      <th></th>\n",
              "      <th>age</th>\n",
              "      <th>bmi</th>\n",
              "      <th>children</th>\n",
              "      <th>sex_female</th>\n",
              "      <th>sex_male</th>\n",
              "      <th>smoker_no</th>\n",
              "      <th>smoker_yes</th>\n",
              "      <th>region_northeast</th>\n",
              "      <th>region_northwest</th>\n",
              "      <th>region_southeast</th>\n",
              "      <th>region_southwest</th>\n",
              "    </tr>\n",
              "  </thead>\n",
              "  <tbody>\n",
              "    <tr>\n",
              "      <th>0</th>\n",
              "      <td>19</td>\n",
              "      <td>27.900</td>\n",
              "      <td>0</td>\n",
              "      <td>1</td>\n",
              "      <td>0</td>\n",
              "      <td>0</td>\n",
              "      <td>1</td>\n",
              "      <td>0</td>\n",
              "      <td>0</td>\n",
              "      <td>0</td>\n",
              "      <td>1</td>\n",
              "    </tr>\n",
              "    <tr>\n",
              "      <th>1</th>\n",
              "      <td>18</td>\n",
              "      <td>33.770</td>\n",
              "      <td>1</td>\n",
              "      <td>0</td>\n",
              "      <td>1</td>\n",
              "      <td>1</td>\n",
              "      <td>0</td>\n",
              "      <td>0</td>\n",
              "      <td>0</td>\n",
              "      <td>1</td>\n",
              "      <td>0</td>\n",
              "    </tr>\n",
              "    <tr>\n",
              "      <th>2</th>\n",
              "      <td>28</td>\n",
              "      <td>33.000</td>\n",
              "      <td>3</td>\n",
              "      <td>0</td>\n",
              "      <td>1</td>\n",
              "      <td>1</td>\n",
              "      <td>0</td>\n",
              "      <td>0</td>\n",
              "      <td>0</td>\n",
              "      <td>1</td>\n",
              "      <td>0</td>\n",
              "    </tr>\n",
              "    <tr>\n",
              "      <th>3</th>\n",
              "      <td>33</td>\n",
              "      <td>22.705</td>\n",
              "      <td>0</td>\n",
              "      <td>0</td>\n",
              "      <td>1</td>\n",
              "      <td>1</td>\n",
              "      <td>0</td>\n",
              "      <td>0</td>\n",
              "      <td>1</td>\n",
              "      <td>0</td>\n",
              "      <td>0</td>\n",
              "    </tr>\n",
              "    <tr>\n",
              "      <th>4</th>\n",
              "      <td>32</td>\n",
              "      <td>28.880</td>\n",
              "      <td>0</td>\n",
              "      <td>0</td>\n",
              "      <td>1</td>\n",
              "      <td>1</td>\n",
              "      <td>0</td>\n",
              "      <td>0</td>\n",
              "      <td>1</td>\n",
              "      <td>0</td>\n",
              "      <td>0</td>\n",
              "    </tr>\n",
              "  </tbody>\n",
              "</table>\n",
              "</div>\n",
              "      <button class=\"colab-df-convert\" onclick=\"convertToInteractive('df-08174710-ceed-41dd-887e-805cc6ba8647')\"\n",
              "              title=\"Convert this dataframe to an interactive table.\"\n",
              "              style=\"display:none;\">\n",
              "        \n",
              "  <svg xmlns=\"http://www.w3.org/2000/svg\" height=\"24px\"viewBox=\"0 0 24 24\"\n",
              "       width=\"24px\">\n",
              "    <path d=\"M0 0h24v24H0V0z\" fill=\"none\"/>\n",
              "    <path d=\"M18.56 5.44l.94 2.06.94-2.06 2.06-.94-2.06-.94-.94-2.06-.94 2.06-2.06.94zm-11 1L8.5 8.5l.94-2.06 2.06-.94-2.06-.94L8.5 2.5l-.94 2.06-2.06.94zm10 10l.94 2.06.94-2.06 2.06-.94-2.06-.94-.94-2.06-.94 2.06-2.06.94z\"/><path d=\"M17.41 7.96l-1.37-1.37c-.4-.4-.92-.59-1.43-.59-.52 0-1.04.2-1.43.59L10.3 9.45l-7.72 7.72c-.78.78-.78 2.05 0 2.83L4 21.41c.39.39.9.59 1.41.59.51 0 1.02-.2 1.41-.59l7.78-7.78 2.81-2.81c.8-.78.8-2.07 0-2.86zM5.41 20L4 18.59l7.72-7.72 1.47 1.35L5.41 20z\"/>\n",
              "  </svg>\n",
              "      </button>\n",
              "      \n",
              "  <style>\n",
              "    .colab-df-container {\n",
              "      display:flex;\n",
              "      flex-wrap:wrap;\n",
              "      gap: 12px;\n",
              "    }\n",
              "\n",
              "    .colab-df-convert {\n",
              "      background-color: #E8F0FE;\n",
              "      border: none;\n",
              "      border-radius: 50%;\n",
              "      cursor: pointer;\n",
              "      display: none;\n",
              "      fill: #1967D2;\n",
              "      height: 32px;\n",
              "      padding: 0 0 0 0;\n",
              "      width: 32px;\n",
              "    }\n",
              "\n",
              "    .colab-df-convert:hover {\n",
              "      background-color: #E2EBFA;\n",
              "      box-shadow: 0px 1px 2px rgba(60, 64, 67, 0.3), 0px 1px 3px 1px rgba(60, 64, 67, 0.15);\n",
              "      fill: #174EA6;\n",
              "    }\n",
              "\n",
              "    [theme=dark] .colab-df-convert {\n",
              "      background-color: #3B4455;\n",
              "      fill: #D2E3FC;\n",
              "    }\n",
              "\n",
              "    [theme=dark] .colab-df-convert:hover {\n",
              "      background-color: #434B5C;\n",
              "      box-shadow: 0px 1px 3px 1px rgba(0, 0, 0, 0.15);\n",
              "      filter: drop-shadow(0px 1px 2px rgba(0, 0, 0, 0.3));\n",
              "      fill: #FFFFFF;\n",
              "    }\n",
              "  </style>\n",
              "\n",
              "      <script>\n",
              "        const buttonEl =\n",
              "          document.querySelector('#df-08174710-ceed-41dd-887e-805cc6ba8647 button.colab-df-convert');\n",
              "        buttonEl.style.display =\n",
              "          google.colab.kernel.accessAllowed ? 'block' : 'none';\n",
              "\n",
              "        async function convertToInteractive(key) {\n",
              "          const element = document.querySelector('#df-08174710-ceed-41dd-887e-805cc6ba8647');\n",
              "          const dataTable =\n",
              "            await google.colab.kernel.invokeFunction('convertToInteractive',\n",
              "                                                     [key], {});\n",
              "          if (!dataTable) return;\n",
              "\n",
              "          const docLinkHtml = 'Like what you see? Visit the ' +\n",
              "            '<a target=\"_blank\" href=https://colab.research.google.com/notebooks/data_table.ipynb>data table notebook</a>'\n",
              "            + ' to learn more about interactive tables.';\n",
              "          element.innerHTML = '';\n",
              "          dataTable['output_type'] = 'display_data';\n",
              "          await google.colab.output.renderOutput(dataTable, element);\n",
              "          const docLink = document.createElement('div');\n",
              "          docLink.innerHTML = docLinkHtml;\n",
              "          element.appendChild(docLink);\n",
              "        }\n",
              "      </script>\n",
              "    </div>\n",
              "  </div>\n",
              "  "
            ]
          },
          "metadata": {},
          "execution_count": 68
        }
      ]
    },
    {
      "cell_type": "markdown",
      "metadata": {
        "id": "kudhkM-0giS1"
      },
      "source": [
        "Untuk membuat training dan test set, kita bisa melakukannya secara manual, namun untuk membuatnya lebih mudah, kita akan memanfaatkan fungsi [`train_test_split`](https://scikit-learn.org/stable/modules/generated/sklearn.model_selection.train_test_split.html) fungsi yang sudah tersedia dari Scikit-Learn."
      ]
    },
    {
      "cell_type": "code",
      "metadata": {
        "id": "WPGZGk0jhxCZ"
      },
      "source": [
        "# Membuat training dan test set\n",
        "from sklearn.model_selection import train_test_split\n",
        "X_train, X_test, y_train, y_test = train_test_split(X,\n",
        "                                                    y,\n",
        "                                                    test_size=0.2,\n",
        "                                                    random_state=42) # set random state for reproducible splits"
      ],
      "execution_count": null,
      "outputs": []
    },
    {
      "cell_type": "markdown",
      "metadata": {
        "id": "W8wEC0FPglnN"
      },
      "source": [
        "Sekarang kita dapat membuat dan fit (mencoba) model (kita akan membuatnya sama dengan `model_2`)."
      ]
    },
    {
      "cell_type": "code",
      "metadata": {
        "id": "OCXTmz6oh_T6",
        "colab": {
          "base_uri": "https://localhost:8080/"
        },
        "outputId": "4bc3691d-195e-456c-b781-9914eec7d1fa"
      },
      "source": [
        "# Mendefinisikan random seed\n",
        "tf.random.set_seed(42)\n",
        "\n",
        "# Create a new model (sama seperti model_2)\n",
        "insurance_model = tf.keras.Sequential([\n",
        "  tf.keras.layers.Dense(1),\n",
        "  tf.keras.layers.Dense(1)\n",
        "])\n",
        "\n",
        "# Menyusun model\n",
        "insurance_model.compile(loss=tf.keras.losses.mae,\n",
        "                        optimizer=tf.keras.optimizers.SGD(),\n",
        "                        metrics=['mae'])\n",
        "\n",
        "# Mencoba model\n",
        "insurance_model.fit(X_train, y_train, epochs=100)"
      ],
      "execution_count": null,
      "outputs": [
        {
          "output_type": "stream",
          "name": "stdout",
          "text": [
            "Epoch 1/100\n",
            "34/34 [==============================] - 2s 7ms/step - loss: 9523.4434 - mae: 9523.4434\n",
            "Epoch 2/100\n",
            "34/34 [==============================] - 0s 6ms/step - loss: 7850.5962 - mae: 7850.5962\n",
            "Epoch 3/100\n",
            "34/34 [==============================] - 0s 6ms/step - loss: 7569.4038 - mae: 7569.4038\n",
            "Epoch 4/100\n",
            "34/34 [==============================] - 0s 6ms/step - loss: 7553.2910 - mae: 7553.2910\n",
            "Epoch 5/100\n",
            "34/34 [==============================] - 0s 5ms/step - loss: 7697.7773 - mae: 7697.7773\n",
            "Epoch 6/100\n",
            "34/34 [==============================] - 0s 7ms/step - loss: 7558.4438 - mae: 7558.4438\n",
            "Epoch 7/100\n",
            "34/34 [==============================] - 0s 7ms/step - loss: 7584.6377 - mae: 7584.6377\n",
            "Epoch 8/100\n",
            "34/34 [==============================] - 0s 6ms/step - loss: 7792.1919 - mae: 7792.1919\n",
            "Epoch 9/100\n",
            "34/34 [==============================] - 0s 5ms/step - loss: 7481.4326 - mae: 7481.4326\n",
            "Epoch 10/100\n",
            "34/34 [==============================] - 0s 5ms/step - loss: 7768.5630 - mae: 7768.5630\n",
            "Epoch 11/100\n",
            "34/34 [==============================] - 0s 4ms/step - loss: 7605.5073 - mae: 7605.5073\n",
            "Epoch 12/100\n",
            "34/34 [==============================] - 0s 5ms/step - loss: 7626.1006 - mae: 7626.1006\n",
            "Epoch 13/100\n",
            "34/34 [==============================] - 0s 5ms/step - loss: 7707.6626 - mae: 7707.6626\n",
            "Epoch 14/100\n",
            "34/34 [==============================] - 0s 5ms/step - loss: 7762.7646 - mae: 7762.7646\n",
            "Epoch 15/100\n",
            "34/34 [==============================] - 0s 5ms/step - loss: 7496.3652 - mae: 7496.3652\n",
            "Epoch 16/100\n",
            "34/34 [==============================] - 0s 6ms/step - loss: 7773.7397 - mae: 7773.7397\n",
            "Epoch 17/100\n",
            "34/34 [==============================] - 0s 7ms/step - loss: 7514.9756 - mae: 7514.9756\n",
            "Epoch 18/100\n",
            "34/34 [==============================] - 0s 5ms/step - loss: 7821.1655 - mae: 7821.1655\n",
            "Epoch 19/100\n",
            "34/34 [==============================] - 0s 4ms/step - loss: 7720.6802 - mae: 7720.6802\n",
            "Epoch 20/100\n",
            "34/34 [==============================] - 0s 6ms/step - loss: 7936.3823 - mae: 7936.3823\n",
            "Epoch 21/100\n",
            "34/34 [==============================] - 0s 5ms/step - loss: 7486.8594 - mae: 7486.8594\n",
            "Epoch 22/100\n",
            "34/34 [==============================] - 0s 6ms/step - loss: 7956.8110 - mae: 7956.8110\n",
            "Epoch 23/100\n",
            "34/34 [==============================] - 0s 3ms/step - loss: 7679.8843 - mae: 7679.8843\n",
            "Epoch 24/100\n",
            "34/34 [==============================] - 0s 3ms/step - loss: 7568.4990 - mae: 7568.4990\n",
            "Epoch 25/100\n",
            "34/34 [==============================] - 0s 3ms/step - loss: 7595.9878 - mae: 7595.9878\n",
            "Epoch 26/100\n",
            "34/34 [==============================] - 0s 3ms/step - loss: 7679.5049 - mae: 7679.5049\n",
            "Epoch 27/100\n",
            "34/34 [==============================] - 0s 3ms/step - loss: 7689.8262 - mae: 7689.8262\n",
            "Epoch 28/100\n",
            "34/34 [==============================] - 0s 3ms/step - loss: 7396.5059 - mae: 7396.5059\n",
            "Epoch 29/100\n",
            "34/34 [==============================] - 0s 3ms/step - loss: 7676.0859 - mae: 7676.0859\n",
            "Epoch 30/100\n",
            "34/34 [==============================] - 0s 3ms/step - loss: 7750.2886 - mae: 7750.2886\n",
            "Epoch 31/100\n",
            "34/34 [==============================] - 0s 3ms/step - loss: 7529.7109 - mae: 7529.7109\n",
            "Epoch 32/100\n",
            "34/34 [==============================] - 0s 3ms/step - loss: 7526.0923 - mae: 7526.0923\n",
            "Epoch 33/100\n",
            "34/34 [==============================] - 0s 3ms/step - loss: 7379.5630 - mae: 7379.5630\n",
            "Epoch 34/100\n",
            "34/34 [==============================] - 0s 3ms/step - loss: 7472.5679 - mae: 7472.5679\n",
            "Epoch 35/100\n",
            "34/34 [==============================] - 0s 3ms/step - loss: 7567.3623 - mae: 7567.3623\n",
            "Epoch 36/100\n",
            "34/34 [==============================] - 0s 3ms/step - loss: 7570.1855 - mae: 7570.1855\n",
            "Epoch 37/100\n",
            "34/34 [==============================] - 0s 3ms/step - loss: 7574.4512 - mae: 7574.4512\n",
            "Epoch 38/100\n",
            "34/34 [==============================] - 0s 3ms/step - loss: 7349.9790 - mae: 7349.9790\n",
            "Epoch 39/100\n",
            "34/34 [==============================] - 0s 3ms/step - loss: 7537.9824 - mae: 7537.9824\n",
            "Epoch 40/100\n",
            "34/34 [==============================] - 0s 3ms/step - loss: 7430.6064 - mae: 7430.6064\n",
            "Epoch 41/100\n",
            "34/34 [==============================] - 0s 3ms/step - loss: 7636.2446 - mae: 7636.2446\n",
            "Epoch 42/100\n",
            "34/34 [==============================] - 0s 3ms/step - loss: 7355.6865 - mae: 7355.6865\n",
            "Epoch 43/100\n",
            "34/34 [==============================] - 0s 3ms/step - loss: 7608.3599 - mae: 7608.3599\n",
            "Epoch 44/100\n",
            "34/34 [==============================] - 0s 3ms/step - loss: 7486.9844 - mae: 7486.9844\n",
            "Epoch 45/100\n",
            "34/34 [==============================] - 0s 3ms/step - loss: 7434.1113 - mae: 7434.1113\n",
            "Epoch 46/100\n",
            "34/34 [==============================] - 0s 3ms/step - loss: 7422.7041 - mae: 7422.7041\n",
            "Epoch 47/100\n",
            "34/34 [==============================] - 0s 3ms/step - loss: 7468.4292 - mae: 7468.4292\n",
            "Epoch 48/100\n",
            "34/34 [==============================] - 0s 3ms/step - loss: 7517.6831 - mae: 7517.6831\n",
            "Epoch 49/100\n",
            "34/34 [==============================] - 0s 3ms/step - loss: 7542.0679 - mae: 7542.0679\n",
            "Epoch 50/100\n",
            "34/34 [==============================] - 0s 3ms/step - loss: 7491.0518 - mae: 7491.0518\n",
            "Epoch 51/100\n",
            "34/34 [==============================] - 0s 3ms/step - loss: 7372.9814 - mae: 7372.9814\n",
            "Epoch 52/100\n",
            "34/34 [==============================] - 0s 3ms/step - loss: 7505.9839 - mae: 7505.9839\n",
            "Epoch 53/100\n",
            "34/34 [==============================] - 0s 3ms/step - loss: 7451.1362 - mae: 7451.1362\n",
            "Epoch 54/100\n",
            "34/34 [==============================] - 0s 3ms/step - loss: 7236.7412 - mae: 7236.7412\n",
            "Epoch 55/100\n",
            "34/34 [==============================] - 0s 3ms/step - loss: 7327.2812 - mae: 7327.2812\n",
            "Epoch 56/100\n",
            "34/34 [==============================] - 0s 3ms/step - loss: 7381.4429 - mae: 7381.4429\n",
            "Epoch 57/100\n",
            "34/34 [==============================] - 0s 3ms/step - loss: 7148.1133 - mae: 7148.1133\n",
            "Epoch 58/100\n",
            "34/34 [==============================] - 0s 5ms/step - loss: 7343.1968 - mae: 7343.1968\n",
            "Epoch 59/100\n",
            "34/34 [==============================] - 0s 4ms/step - loss: 7585.9414 - mae: 7585.9414\n",
            "Epoch 60/100\n",
            "34/34 [==============================] - 0s 4ms/step - loss: 7316.6016 - mae: 7316.6016\n",
            "Epoch 61/100\n",
            "34/34 [==============================] - 0s 4ms/step - loss: 7382.3442 - mae: 7382.3442\n",
            "Epoch 62/100\n",
            "34/34 [==============================] - 0s 4ms/step - loss: 7245.3052 - mae: 7245.3052\n",
            "Epoch 63/100\n",
            "34/34 [==============================] - 0s 4ms/step - loss: 7326.6021 - mae: 7326.6021\n",
            "Epoch 64/100\n",
            "34/34 [==============================] - 0s 4ms/step - loss: 7321.4058 - mae: 7321.4058\n",
            "Epoch 65/100\n",
            "34/34 [==============================] - 0s 5ms/step - loss: 7312.8438 - mae: 7312.8438\n",
            "Epoch 66/100\n",
            "34/34 [==============================] - 0s 5ms/step - loss: 7415.9561 - mae: 7415.9561\n",
            "Epoch 67/100\n",
            "34/34 [==============================] - 0s 4ms/step - loss: 7482.4951 - mae: 7482.4951\n",
            "Epoch 68/100\n",
            "34/34 [==============================] - 0s 4ms/step - loss: 7537.3535 - mae: 7537.3535\n",
            "Epoch 69/100\n",
            "34/34 [==============================] - 0s 4ms/step - loss: 7566.3003 - mae: 7566.3003\n",
            "Epoch 70/100\n",
            "34/34 [==============================] - 0s 4ms/step - loss: 7638.4639 - mae: 7638.4639\n",
            "Epoch 71/100\n",
            "34/34 [==============================] - 0s 4ms/step - loss: 7302.2568 - mae: 7302.2568\n",
            "Epoch 72/100\n",
            "34/34 [==============================] - 0s 5ms/step - loss: 7419.5269 - mae: 7419.5269\n",
            "Epoch 73/100\n",
            "34/34 [==============================] - 0s 5ms/step - loss: 7447.6797 - mae: 7447.6797\n",
            "Epoch 74/100\n",
            "34/34 [==============================] - 0s 5ms/step - loss: 7458.1421 - mae: 7458.1421\n",
            "Epoch 75/100\n",
            "34/34 [==============================] - 0s 5ms/step - loss: 7299.5059 - mae: 7299.5059\n",
            "Epoch 76/100\n",
            "34/34 [==============================] - 0s 3ms/step - loss: 7301.1494 - mae: 7301.1494\n",
            "Epoch 77/100\n",
            "34/34 [==============================] - 0s 3ms/step - loss: 7318.8896 - mae: 7318.8896\n",
            "Epoch 78/100\n",
            "34/34 [==============================] - 0s 3ms/step - loss: 7347.7788 - mae: 7347.7788\n",
            "Epoch 79/100\n",
            "34/34 [==============================] - 0s 3ms/step - loss: 7470.4888 - mae: 7470.4888\n",
            "Epoch 80/100\n",
            "34/34 [==============================] - 0s 3ms/step - loss: 7439.1680 - mae: 7439.1680\n",
            "Epoch 81/100\n",
            "34/34 [==============================] - 0s 3ms/step - loss: 7210.9302 - mae: 7210.9302\n",
            "Epoch 82/100\n",
            "34/34 [==============================] - 0s 3ms/step - loss: 7265.4404 - mae: 7265.4404\n",
            "Epoch 83/100\n",
            "34/34 [==============================] - 0s 3ms/step - loss: 7478.0488 - mae: 7478.0488\n",
            "Epoch 84/100\n",
            "34/34 [==============================] - 0s 3ms/step - loss: 7342.8203 - mae: 7342.8203\n",
            "Epoch 85/100\n",
            "34/34 [==============================] - 0s 3ms/step - loss: 7358.6880 - mae: 7358.6880\n",
            "Epoch 86/100\n",
            "34/34 [==============================] - 0s 3ms/step - loss: 7403.4546 - mae: 7403.4546\n",
            "Epoch 87/100\n",
            "34/34 [==============================] - 0s 3ms/step - loss: 7281.1094 - mae: 7281.1094\n",
            "Epoch 88/100\n",
            "34/34 [==============================] - 0s 3ms/step - loss: 7274.0986 - mae: 7274.0986\n",
            "Epoch 89/100\n",
            "34/34 [==============================] - 0s 3ms/step - loss: 7529.7046 - mae: 7529.7046\n",
            "Epoch 90/100\n",
            "34/34 [==============================] - 0s 3ms/step - loss: 7124.5269 - mae: 7124.5269\n",
            "Epoch 91/100\n",
            "34/34 [==============================] - 0s 3ms/step - loss: 7262.8833 - mae: 7262.8833\n",
            "Epoch 92/100\n",
            "34/34 [==============================] - 0s 3ms/step - loss: 7269.3857 - mae: 7269.3857\n",
            "Epoch 93/100\n",
            "34/34 [==============================] - 0s 3ms/step - loss: 7575.9727 - mae: 7575.9727\n",
            "Epoch 94/100\n",
            "34/34 [==============================] - 0s 3ms/step - loss: 7360.8843 - mae: 7360.8843\n",
            "Epoch 95/100\n",
            "34/34 [==============================] - 0s 3ms/step - loss: 7449.5669 - mae: 7449.5669\n",
            "Epoch 96/100\n",
            "34/34 [==============================] - 0s 3ms/step - loss: 7354.1548 - mae: 7354.1548\n",
            "Epoch 97/100\n",
            "34/34 [==============================] - 0s 3ms/step - loss: 7211.8208 - mae: 7211.8208\n",
            "Epoch 98/100\n",
            "34/34 [==============================] - 0s 3ms/step - loss: 7308.8091 - mae: 7308.8091\n",
            "Epoch 99/100\n",
            "34/34 [==============================] - 0s 3ms/step - loss: 7255.3525 - mae: 7255.3525\n",
            "Epoch 100/100\n",
            "34/34 [==============================] - 0s 3ms/step - loss: 7209.5649 - mae: 7209.5649\n"
          ]
        },
        {
          "output_type": "execute_result",
          "data": {
            "text/plain": [
              "<keras.callbacks.History at 0x7fa2805c5f00>"
            ]
          },
          "metadata": {},
          "execution_count": 70
        }
      ]
    },
    {
      "cell_type": "code",
      "metadata": {
        "id": "B1U7LqpKid0r",
        "colab": {
          "base_uri": "https://localhost:8080/"
        },
        "outputId": "af7873bf-669a-4b7a-b23d-8b6fff8366f9"
      },
      "source": [
        "# Mengecek hasil model insurance\n",
        "insurance_model.evaluate(X_test, y_test)"
      ],
      "execution_count": null,
      "outputs": [
        {
          "output_type": "stream",
          "name": "stdout",
          "text": [
            "9/9 [==============================] - 0s 3ms/step - loss: 7054.5928 - mae: 7054.5928\n"
          ]
        },
        {
          "output_type": "execute_result",
          "data": {
            "text/plain": [
              "[7054.5927734375, 7054.5927734375]"
            ]
          },
          "metadata": {},
          "execution_count": 71
        }
      ]
    },
    {
      "cell_type": "markdown",
      "metadata": {
        "id": "H9doNDToqDru"
      },
      "source": [
        "Model kita tidak bekerja dengan baik, mari kita coba model yang lebih besar.\n",
        "\n",
        "Kita akan mencoba 3 hal:\n",
        "- Menambah jumlah layers (2 -> 3).\n",
        "- Menambah number of units di setiap layer (kecuali untuk output layer).\n",
        "- Mengganti optimizer (dari SGD ke Adam).\n",
        "\n",
        "Seluruhnya akan tetap sama."
      ]
    },
    {
      "cell_type": "code",
      "metadata": {
        "id": "W59EqfqYimnR"
      },
      "source": [
        "# Mendefinisikan random seed\n",
        "tf.random.set_seed(42)\n",
        "\n",
        "# Menambah extra layer dan number of units\n",
        "insurance_model_2 = tf.keras.Sequential([\n",
        "  tf.keras.layers.Dense(100), # 100 units\n",
        "  tf.keras.layers.Dense(10), # 10 units\n",
        "  tf.keras.layers.Dense(1) # 1 unit (penting untuk output layer)\n",
        "])\n",
        "\n",
        "# Menyusun model\n",
        "insurance_model_2.compile(loss=tf.keras.losses.mae,\n",
        "                          optimizer=tf.keras.optimizers.Adam(), # Adam works but SGD doesn't\n",
        "                          metrics=['mae'])\n",
        "\n",
        "# Mencoba model dan menyimpannya ke variabel history (supaya kita dapat plot ini)\n",
        "history = insurance_model_2.fit(X_train, y_train, epochs=100, verbose=0)"
      ],
      "execution_count": null,
      "outputs": []
    },
    {
      "cell_type": "code",
      "metadata": {
        "id": "k9IbYWnOqmoT",
        "colab": {
          "base_uri": "https://localhost:8080/"
        },
        "outputId": "0adc9164-4b83-49ed-c2ef-b2ccbb31d907"
      },
      "source": [
        "# Mengevaluasi model kita yang sudah ditingkatkan\n",
        "insurance_model_2.evaluate(X_test, y_test)"
      ],
      "execution_count": null,
      "outputs": [
        {
          "output_type": "stream",
          "name": "stdout",
          "text": [
            "9/9 [==============================] - 0s 5ms/step - loss: 5083.7236 - mae: 5083.7236\n"
          ]
        },
        {
          "output_type": "execute_result",
          "data": {
            "text/plain": [
              "[5083.7236328125, 5083.7236328125]"
            ]
          },
          "metadata": {},
          "execution_count": 73
        }
      ]
    },
    {
      "cell_type": "markdown",
      "metadata": {
        "id": "o9Rf3NosqriS"
      },
      "source": [
        "Jauh lebih baik! Menggunakan model yang lebih besar dan Adam optimizer menghasilkan hampir setengah kesalahan model sebelumnya.\n",
        "\n",
        "> 🔑 **Catatan:** Untuk banyak masalah, [Adam optimizer](https://www.tensorflow.org/api_docs/python/tf/keras/optimizers/Adam) adalah pilihan awal yang bagus. lihat poin Andrei Karpathy's \"Adam is safe\" dari  [*A Recipe for Training Neural Networks*](http://karpathy.github.io/2019/04/25/recipe/) untuk lebih lanjut.\n",
        "\n",
        "Sekarang mari kita lihat kurva loss dari model kita, seharusnya kita akan melihat tren kurva menurun."
      ]
    },
    {
      "cell_type": "code",
      "metadata": {
        "id": "9SE55ANojcF_",
        "colab": {
          "base_uri": "https://localhost:8080/",
          "height": 449
        },
        "outputId": "66a8863e-c35b-4cf6-bfa4-64462ad5fb69"
      },
      "source": [
        "# Melakukan plot (memvisualisasikan) history (yang juga dikenal sebagai kurva kerugian)\n",
        "pd.DataFrame(history.history).plot()\n",
        "plt.ylabel(\"loss\")\n",
        "plt.xlabel(\"epochs\");"
      ],
      "execution_count": null,
      "outputs": [
        {
          "output_type": "display_data",
          "data": {
            "text/plain": [
              "<Figure size 640x480 with 1 Axes>"
            ],
            "image/png": "[encoded data removed]"
          },
          "metadata": {}
        }
      ]
    },
    {
      "cell_type": "markdown",
      "metadata": {
        "id": "ckHqtn0srQ5q"
      },
      "source": [
        "Dari sini, terlihat bahwa model loss (dan MAE) kita masih terus menurun (dalam kasus kita, MAE dan loss adalah sama, sehingga garis-garis pada plot saling tumpang tindih).\n",
        "\n",
        "Hal ini menunjukan bahwa loss mungkin akan berkurang jika kita mencoba melatihnya lebih lama.\n",
        "\n",
        "> 🤔 **Pertanyaan:** Berapa lama seharusnya model kalian berlatih?\n",
        "\n",
        "> Sekali lagi, itu tergantung pada masalah apa yang kalian kerjakan. Terkadang pelatihan tidak membutuhkan waktu yang lama, di lain waktu bisa lebih lama dari yang anda perkirakan. Metode umum yang digunakan adalah mengatur pelatihan model kita untuk waktu yang lama (misalnya. 1000 epochs) tetapi mengaturnya dengan [EarlyStopping callback](https://www.tensorflow.org/api_docs/python/tf/keras/callbacks/EarlyStopping) sehingga pelatihan akan berhenti secara otomatis ketika berhenti meningkat. Kita akan melihat hal ini di modul lain.\n",
        "\n",
        "Mari kita latih model yang sama seperti di atas sedikit lebih lama. Kita dapat melakukan ini tetapi dengan memanggilnya lagi."
      ]
    },
    {
      "cell_type": "code",
      "metadata": {
        "id": "Ucs62jV8jl6N"
      },
      "source": [
        "# Mencoba melatih model sedikit lebih lama (100 epochs lagi)\n",
        "history_2 = insurance_model_2.fit(X_train, y_train, epochs=100, verbose=0)"
      ],
      "execution_count": null,
      "outputs": []
    },
    {
      "cell_type": "markdown",
      "metadata": {
        "id": "L2FZA1z1sxxs"
      },
      "source": [
        "Bagaimana hasil dari extra training tersebut?"
      ]
    },
    {
      "cell_type": "code",
      "metadata": {
        "id": "cxtiYB3qs0PZ",
        "colab": {
          "base_uri": "https://localhost:8080/"
        },
        "outputId": "594a238b-51f8-43a1-a06f-511c0e57bc16"
      },
      "source": [
        "# Mengevaluasi model yang dilatih untuk total 200 epochs\n",
        "insurance_model_2_loss, insurance_model_2_mae = insurance_model_2.evaluate(X_test, y_test)\n",
        "insurance_model_2_loss, insurance_model_2_mae"
      ],
      "execution_count": null,
      "outputs": [
        {
          "output_type": "stream",
          "name": "stdout",
          "text": [
            "9/9 [==============================] - 0s 3ms/step - loss: 3508.1272 - mae: 3508.1272\n"
          ]
        },
        {
          "output_type": "execute_result",
          "data": {
            "text/plain": [
              "(3508.127197265625, 3508.127197265625)"
            ]
          },
          "metadata": {},
          "execution_count": 76
        }
      ]
    },
    {
      "cell_type": "markdown",
      "metadata": {
        "id": "MzUySYEOs-O_"
      },
      "source": [
        "Duarrr! Dengan melatih model untuk 100 epochs tambahan, kita melihat sekitar 10% penurunan error.\n",
        "\n",
        "Lalu bagaimana tampilan visualnya?"
      ]
    },
    {
      "cell_type": "code",
      "metadata": {
        "id": "BtYKSLeQjuzL",
        "colab": {
          "base_uri": "https://localhost:8080/",
          "height": 449
        },
        "outputId": "2b42de02-5128-4fb4-9817-4ee878463d95"
      },
      "source": [
        "# Melakukan plot model yang dilatih untuk total 200 epochs loss curves\n",
        "pd.DataFrame(history_2.history).plot()\n",
        "plt.ylabel(\"loss\")\n",
        "plt.xlabel(\"epochs\"); # note: epochs hanya akan menampilkan 100 mengesampingkan variabel history"
      ],
      "execution_count": null,
      "outputs": [
        {
          "output_type": "display_data",
          "data": {
            "text/plain": [
              "<Figure size 640x480 with 1 Axes>"
            ],
            "image/png": "[encoded data removed]"
          },
          "metadata": {}
        }
      ]
    },
    {
      "cell_type": "markdown",
      "metadata": {
        "id": "HS8xYkvIuVZZ"
      },
      "source": [
        "## Preprocessing data (normalization dan standardization)\n",
        "\n",
        "Hal umum saat bekerja dengan neural networks adalah memastikan semua data yang Anda berikan ke jaringan tersebut berada dalam rentang 0 hingga 1.\n",
        "\n",
        "Kegiatan ini biasanya disebut  **normalization** (menskalakan semua nilai dari rentang aslinya ke, misalnya. antara 0 dan 100,000 menjadi antara 0 dan 1).\n",
        "\n",
        "Terdapat pula proses lain yang disebut sebagai **standardization** yang mengubah semua data kalian menjadi unit variance  dan 0 mean.\n",
        "\n",
        "Kedua praktik ini sering kali menjadi bagian dari pipeline preprocessing (serangkaian fungsi untuk mempersiapkan data kalian untuk digunakan dengan neural network).\n",
        "\n",
        "Dengan mengetahui hal ini, beberapa langkah utama yang akan kalian lakukan untuk melakukan pra-pemrosesan data kalian untuk neural network meliputi:\n",
        "* Mengubah semua data kalian menjadi angka (neural network tidak dapat menangani data string).\n",
        "* Memastikan data kalian dalam shape yang benar (memverifikasi shape input dan output).\n",
        "* [**Feature scaling**](https://scikit-learn.org/stable/modules/preprocessing.html#preprocessing-scaler):\n",
        "    * Normalizing data (memastikan semua value berada di antara 0 dan 1). Hal ini dapat dilakukan dengan mengurangi nilai minimum kemudian membaginya dengan nilai maksimum kemudian dikurangi dengan nilai minimum. Ini juga biasa disebut sebagai min-max scaling.\n",
        "    * Standardization (memastikan semua nilai memiliki mean 0 dan variance 1). Hal ini bisa dilakukan dengan cara mengurangi nilai rata-rata dari fitur target dan kemudian membaginya dengan standar deviasi.\n",
        "    * Mana yang harus Anda gunakan?\n",
        "      * **Dengan neural networks kalian akan cenderung memilih normalisasi** karena mereka cenderung lebih memilih nilai antara 0 dan 1 (kalian akan melihat ini terutama dengan pemrosesan gambar), namun kalian akan sering menemukan bahwa jaringan saraf dapat bekerja dengan cukup baik dengan penskalaan fitur yang minimal.\n",
        "\n",
        "> 📖 **Resource:** Untuk informasi lebih lanjut mengenai preprocessing data, saya menyarankan kalian untuk membaca sumber-sumber berikut ini:\n",
        "* [Scikit-Learn's documentation on preprocessing data](https://scikit-learn.org/stable/modules/preprocessing.html#preprocessing-data).\n",
        "* [Scale, Standardize or Normalize with Scikit-Learn by Jeff Hale](https://towardsdatascience.com/scale-standardize-or-normalize-with-scikit-learn-6ccc7d176a02).\n",
        "\n",
        "Kita telah mengubah data kita menjadi angka dengan menggunakan `get_dummies()`, sekarang mari kita lihat bagaimana kita menormalkannya (normalization)."
      ]
    },
    {
      "cell_type": "code",
      "metadata": {
        "id": "9v7P20A2d7H6"
      },
      "source": [
        "import pandas as pd\n",
        "import matplotlib.pyplot as plt\n",
        "import tensorflow as tf\n",
        "\n",
        "# Melakukan read pada dataset insurance\n",
        "insurance = pd.read_csv(\"https://raw.githubusercontent.com/stedy/Machine-Learning-with-R-datasets/master/insurance.csv\")"
      ],
      "execution_count": null,
      "outputs": []
    },
    {
      "cell_type": "code",
      "metadata": {
        "id": "vir8UAIwlUOo",
        "colab": {
          "base_uri": "https://localhost:8080/",
          "height": 206
        },
        "outputId": "2275e6d3-1e70-4981-c174-317c49954049"
      },
      "source": [
        "# Melihat data\n",
        "insurance.head()"
      ],
      "execution_count": null,
      "outputs": [
        {
          "output_type": "execute_result",
          "data": {
            "text/plain": [
              "   age     sex     bmi  children smoker     region      charges\n",
              "0   19  female  27.900         0    yes  southwest  16884.92400\n",
              "1   18    male  33.770         1     no  southeast   1725.55230\n",
              "2   28    male  33.000         3     no  southeast   4449.46200\n",
              "3   33    male  22.705         0     no  northwest  21984.47061\n",
              "4   32    male  28.880         0     no  northwest   3866.85520"
            ],
            "text/html": [
              "\n",
              "  <div id=\"df-f3d23a8e-3e34-4845-a43b-4dbf9d2d3044\">\n",
              "    <div class=\"colab-df-container\">\n",
              "      <div>\n",
              "<style scoped>\n",
              "    .dataframe tbody tr th:only-of-type {\n",
              "        vertical-align: middle;\n",
              "    }\n",
              "\n",
              "    .dataframe tbody tr th {\n",
              "        vertical-align: top;\n",
              "    }\n",
              "\n",
              "    .dataframe thead th {\n",
              "        text-align: right;\n",
              "    }\n",
              "</style>\n",
              "<table border=\"1\" class=\"dataframe\">\n",
              "  <thead>\n",
              "    <tr style=\"text-align: right;\">\n",
              "      <th></th>\n",
              "      <th>age</th>\n",
              "      <th>sex</th>\n",
              "      <th>bmi</th>\n",
              "      <th>children</th>\n",
              "      <th>smoker</th>\n",
              "      <th>region</th>\n",
              "      <th>charges</th>\n",
              "    </tr>\n",
              "  </thead>\n",
              "  <tbody>\n",
              "    <tr>\n",
              "      <th>0</th>\n",
              "      <td>19</td>\n",
              "      <td>female</td>\n",
              "      <td>27.900</td>\n",
              "      <td>0</td>\n",
              "      <td>yes</td>\n",
              "      <td>southwest</td>\n",
              "      <td>16884.92400</td>\n",
              "    </tr>\n",
              "    <tr>\n",
              "      <th>1</th>\n",
              "      <td>18</td>\n",
              "      <td>male</td>\n",
              "      <td>33.770</td>\n",
              "      <td>1</td>\n",
              "      <td>no</td>\n",
              "      <td>southeast</td>\n",
              "      <td>1725.55230</td>\n",
              "    </tr>\n",
              "    <tr>\n",
              "      <th>2</th>\n",
              "      <td>28</td>\n",
              "      <td>male</td>\n",
              "      <td>33.000</td>\n",
              "      <td>3</td>\n",
              "      <td>no</td>\n",
              "      <td>southeast</td>\n",
              "      <td>4449.46200</td>\n",
              "    </tr>\n",
              "    <tr>\n",
              "      <th>3</th>\n",
              "      <td>33</td>\n",
              "      <td>male</td>\n",
              "      <td>22.705</td>\n",
              "      <td>0</td>\n",
              "      <td>no</td>\n",
              "      <td>northwest</td>\n",
              "      <td>21984.47061</td>\n",
              "    </tr>\n",
              "    <tr>\n",
              "      <th>4</th>\n",
              "      <td>32</td>\n",
              "      <td>male</td>\n",
              "      <td>28.880</td>\n",
              "      <td>0</td>\n",
              "      <td>no</td>\n",
              "      <td>northwest</td>\n",
              "      <td>3866.85520</td>\n",
              "    </tr>\n",
              "  </tbody>\n",
              "</table>\n",
              "</div>\n",
              "      <button class=\"colab-df-convert\" onclick=\"convertToInteractive('df-f3d23a8e-3e34-4845-a43b-4dbf9d2d3044')\"\n",
              "              title=\"Convert this dataframe to an interactive table.\"\n",
              "              style=\"display:none;\">\n",
              "        \n",
              "  <svg xmlns=\"http://www.w3.org/2000/svg\" height=\"24px\"viewBox=\"0 0 24 24\"\n",
              "       width=\"24px\">\n",
              "    <path d=\"M0 0h24v24H0V0z\" fill=\"none\"/>\n",
              "    <path d=\"M18.56 5.44l.94 2.06.94-2.06 2.06-.94-2.06-.94-.94-2.06-.94 2.06-2.06.94zm-11 1L8.5 8.5l.94-2.06 2.06-.94-2.06-.94L8.5 2.5l-.94 2.06-2.06.94zm10 10l.94 2.06.94-2.06 2.06-.94-2.06-.94-.94-2.06-.94 2.06-2.06.94z\"/><path d=\"M17.41 7.96l-1.37-1.37c-.4-.4-.92-.59-1.43-.59-.52 0-1.04.2-1.43.59L10.3 9.45l-7.72 7.72c-.78.78-.78 2.05 0 2.83L4 21.41c.39.39.9.59 1.41.59.51 0 1.02-.2 1.41-.59l7.78-7.78 2.81-2.81c.8-.78.8-2.07 0-2.86zM5.41 20L4 18.59l7.72-7.72 1.47 1.35L5.41 20z\"/>\n",
              "  </svg>\n",
              "      </button>\n",
              "      \n",
              "  <style>\n",
              "    .colab-df-container {\n",
              "      display:flex;\n",
              "      flex-wrap:wrap;\n",
              "      gap: 12px;\n",
              "    }\n",
              "\n",
              "    .colab-df-convert {\n",
              "      background-color: #E8F0FE;\n",
              "      border: none;\n",
              "      border-radius: 50%;\n",
              "      cursor: pointer;\n",
              "      display: none;\n",
              "      fill: #1967D2;\n",
              "      height: 32px;\n",
              "      padding: 0 0 0 0;\n",
              "      width: 32px;\n",
              "    }\n",
              "\n",
              "    .colab-df-convert:hover {\n",
              "      background-color: #E2EBFA;\n",
              "      box-shadow: 0px 1px 2px rgba(60, 64, 67, 0.3), 0px 1px 3px 1px rgba(60, 64, 67, 0.15);\n",
              "      fill: #174EA6;\n",
              "    }\n",
              "\n",
              "    [theme=dark] .colab-df-convert {\n",
              "      background-color: #3B4455;\n",
              "      fill: #D2E3FC;\n",
              "    }\n",
              "\n",
              "    [theme=dark] .colab-df-convert:hover {\n",
              "      background-color: #434B5C;\n",
              "      box-shadow: 0px 1px 3px 1px rgba(0, 0, 0, 0.15);\n",
              "      filter: drop-shadow(0px 1px 2px rgba(0, 0, 0, 0.3));\n",
              "      fill: #FFFFFF;\n",
              "    }\n",
              "  </style>\n",
              "\n",
              "      <script>\n",
              "        const buttonEl =\n",
              "          document.querySelector('#df-f3d23a8e-3e34-4845-a43b-4dbf9d2d3044 button.colab-df-convert');\n",
              "        buttonEl.style.display =\n",
              "          google.colab.kernel.accessAllowed ? 'block' : 'none';\n",
              "\n",
              "        async function convertToInteractive(key) {\n",
              "          const element = document.querySelector('#df-f3d23a8e-3e34-4845-a43b-4dbf9d2d3044');\n",
              "          const dataTable =\n",
              "            await google.colab.kernel.invokeFunction('convertToInteractive',\n",
              "                                                     [key], {});\n",
              "          if (!dataTable) return;\n",
              "\n",
              "          const docLinkHtml = 'Like what you see? Visit the ' +\n",
              "            '<a target=\"_blank\" href=https://colab.research.google.com/notebooks/data_table.ipynb>data table notebook</a>'\n",
              "            + ' to learn more about interactive tables.';\n",
              "          element.innerHTML = '';\n",
              "          dataTable['output_type'] = 'display_data';\n",
              "          await google.colab.output.renderOutput(dataTable, element);\n",
              "          const docLink = document.createElement('div');\n",
              "          docLink.innerHTML = docLinkHtml;\n",
              "          element.appendChild(docLink);\n",
              "        }\n",
              "      </script>\n",
              "    </div>\n",
              "  </div>\n",
              "  "
            ]
          },
          "metadata": {},
          "execution_count": 79
        }
      ]
    },
    {
      "cell_type": "markdown",
      "metadata": {
        "id": "SHMQiNosg3J3"
      },
      "source": [
        "Sekarang, sama seperti sebelumnya, kita perlu mengubah non-numerical columns menjadi angka dan kali ini kita juga akan normalizing numerical columns dengan range yang berbeda (untuk memastikan semuanya berada di antara 0 dan 1).\n",
        "\n",
        "Untuk melakukannya, kita akan menggunakan beberapa classes dari Scikit-Learn:\n",
        "* [`make_column_transformer`](https://scikit-learn.org/stable/modules/generated/sklearn.compose.make_column_transformer.html) - membuat fungsi data preprocessing multi-langkah untuk transformasi berikut:\n",
        "  * [`MinMaxScaler`](https://scikit-learn.org/stable/modules/generated/sklearn.preprocessing.MinMaxScaler.html) - memastikan semua kolom numerik dinormalisasi (antara 0 dan 1).\n",
        "  * [`OneHotEncoder`](https://scikit-learn.org/stable/modules/generated/sklearn.preprocessing.OneHotEncoder.html) - melakukan one hot encode untuk non-numerical columns.\n",
        "\n",
        "Ayo kita lihat bagaimana melakukannya."
      ]
    },
    {
      "cell_type": "code",
      "metadata": {
        "id": "-x9JwbV0hqWh"
      },
      "source": [
        "from sklearn.compose import make_column_transformer\n",
        "from sklearn.preprocessing import MinMaxScaler, OneHotEncoder\n",
        "\n",
        "# Membuat kolom transformer (ini akan membantu kita normalize/preprocess data kita)\n",
        "ct = make_column_transformer(\n",
        "    (MinMaxScaler(), [\"age\", \"bmi\", \"children\"]), # mendapatkan semua nilai antara 0 dan 1\n",
        "    (OneHotEncoder(handle_unknown=\"ignore\"), [\"sex\", \"smoker\", \"region\"])\n",
        ")\n",
        "\n",
        "# Membuat X & y\n",
        "X = insurance.drop(\"charges\", axis=1)\n",
        "y = insurance[\"charges\"]\n",
        "\n",
        "# Membuat train dan test sets (menggunakan random state untuk memastikan spilt yang sama seperti sebelumnya)\n",
        "X_train, X_test, y_train, y_test = train_test_split(X, y, test_size=0.2, random_state=42)\n",
        "\n",
        "# Melakukan fit column transformer pada training data saja (melakukannya pada data uji akan mengakibatkan data leakage)\n",
        "ct.fit(X_train)\n",
        "\n",
        "# Mentransformasikan training dan test data dengan normalization (MinMaxScalar) dan one hot encoding (OneHotEncoder)\n",
        "X_train_normal = ct.transform(X_train)\n",
        "X_test_normal = ct.transform(X_test)"
      ],
      "execution_count": null,
      "outputs": []
    },
    {
      "cell_type": "markdown",
      "metadata": {
        "id": "Tz58y3nPiBJ-"
      },
      "source": [
        "Sekarang kita telah melakukan normalized dan one-hot encoding, lalu seperti apa data kita sekarang?"
      ]
    },
    {
      "cell_type": "code",
      "metadata": {
        "id": "VODt2YiziK45",
        "colab": {
          "base_uri": "https://localhost:8080/"
        },
        "outputId": "cbc8dd80-955a-40ac-e3e7-e97f7ac2b1e3"
      },
      "source": [
        "# Contoh non-normalized dan non-one-hot encoded data\n",
        "X_train.loc[0]"
      ],
      "execution_count": null,
      "outputs": [
        {
          "output_type": "execute_result",
          "data": {
            "text/plain": [
              "age                19\n",
              "sex            female\n",
              "bmi              27.9\n",
              "children            0\n",
              "smoker            yes\n",
              "region      southwest\n",
              "Name: 0, dtype: object"
            ]
          },
          "metadata": {},
          "execution_count": 81
        }
      ]
    },
    {
      "cell_type": "code",
      "metadata": {
        "id": "mMYDXdwUnNVt",
        "colab": {
          "base_uri": "https://localhost:8080/"
        },
        "outputId": "8b99f84b-238d-4f0b-97ca-a444ae23f6f7"
      },
      "source": [
        "# Contoh normalized dan one-hot encoded\n",
        "X_train_normal[0]"
      ],
      "execution_count": null,
      "outputs": [
        {
          "output_type": "execute_result",
          "data": {
            "text/plain": [
              "array([0.60869565, 0.10734463, 0.4       , 1.        , 0.        ,\n",
              "       1.        , 0.        , 0.        , 1.        , 0.        ,\n",
              "       0.        ])"
            ]
          },
          "metadata": {},
          "execution_count": 82
        }
      ]
    },
    {
      "cell_type": "markdown",
      "metadata": {
        "id": "9iI4KtfWib44"
      },
      "source": [
        "How about the shapes?"
      ]
    },
    {
      "cell_type": "code",
      "metadata": {
        "id": "SFmxzqrWntj7",
        "colab": {
          "base_uri": "https://localhost:8080/"
        },
        "outputId": "19bdeae5-c558-4445-8f89-9b6ec30e4597"
      },
      "source": [
        "# perhatikan normalized/one-hot encoded shape lebih besar karena adanya kolom tambahan\n",
        "X_train_normal.shape, X_train.shape"
      ],
      "execution_count": null,
      "outputs": [
        {
          "output_type": "execute_result",
          "data": {
            "text/plain": [
              "((1070, 11), (1070, 6))"
            ]
          },
          "metadata": {},
          "execution_count": 83
        }
      ]
    },
    {
      "cell_type": "markdown",
      "metadata": {
        "id": "MST951aYijTS"
      },
      "source": [
        "Data kita sudah normalized dan numerical, mari kita buat modelnya.\n",
        "\n",
        "Kita akan menggunakan model yang sama dengan `insurance_model_2`."
      ]
    },
    {
      "cell_type": "code",
      "metadata": {
        "id": "TdHnIQqll83Y",
        "colab": {
          "base_uri": "https://localhost:8080/"
        },
        "outputId": "066fab67-dbf0-47bf-aa35-b89c3ba9110f"
      },
      "source": [
        "# Mendefinisikan random seed\n",
        "tf.random.set_seed(42)\n",
        "\n",
        "# Membuat model (3 layers, 100, 10, 1 units)\n",
        "insurance_model_3 = tf.keras.Sequential([\n",
        "  tf.keras.layers.Dense(100),\n",
        "  tf.keras.layers.Dense(10),\n",
        "  tf.keras.layers.Dense(1)\n",
        "])\n",
        "\n",
        "# Menyusun model\n",
        "insurance_model_3.compile(loss=tf.keras.losses.mae,\n",
        "                          optimizer=tf.keras.optimizers.Adam(),\n",
        "                          metrics=['mae'])\n",
        "\n",
        "# Mencoba model untuk 200 epochs (sama seperti insurance_model_2)\n",
        "insurance_model_3.fit(X_train_normal, y_train, epochs=200, verbose=0)"
      ],
      "execution_count": null,
      "outputs": [
        {
          "output_type": "execute_result",
          "data": {
            "text/plain": [
              "<keras.callbacks.History at 0x7fa2a7934e50>"
            ]
          },
          "metadata": {},
          "execution_count": 84
        }
      ]
    },
    {
      "cell_type": "markdown",
      "metadata": {
        "id": "-DjwktO6jW41"
      },
      "source": [
        "Mari kita evaluasi model pada test set yang normalized."
      ]
    },
    {
      "cell_type": "code",
      "metadata": {
        "id": "sBcXZu9AnZfP",
        "colab": {
          "base_uri": "https://localhost:8080/"
        },
        "outputId": "dd806f65-801f-498d-b66d-002642bdfd44"
      },
      "source": [
        "# Mengevaluasi model ke-3\n",
        "insurance_model_3_loss, insurance_model_3_mae = insurance_model_3.evaluate(X_test_normal, y_test)"
      ],
      "execution_count": null,
      "outputs": [
        {
          "output_type": "stream",
          "name": "stdout",
          "text": [
            "9/9 [==============================] - 0s 3ms/step - loss: 3166.7854 - mae: 3166.7854\n"
          ]
        }
      ]
    },
    {
      "cell_type": "markdown",
      "metadata": {
        "id": "ZlHro290jhtX"
      },
      "source": [
        "Dan terakhir, mari kita bandingkan hasil dari `insurance_model_2` (dilatih pada data yang tidak dinormalisasi / non-normalized data) dan `insurance_model_3` (dilatih pada data yang dinormalisasi / normalized data)."
      ]
    },
    {
      "cell_type": "code",
      "metadata": {
        "id": "ybZtnVlNjCJO",
        "colab": {
          "base_uri": "https://localhost:8080/"
        },
        "outputId": "d98ff1b7-90a3-49f6-c3de-5f5fc86ce4f0"
      },
      "source": [
        "# Compare modelling results from non-normalized data and normalized data\n",
        "insurance_model_2_mae, insurance_model_3_mae"
      ],
      "execution_count": null,
      "outputs": [
        {
          "output_type": "execute_result",
          "data": {
            "text/plain": [
              "(3508.127197265625, 3166.785400390625)"
            ]
          },
          "metadata": {},
          "execution_count": 86
        }
      ]
    },
    {
      "cell_type": "markdown",
      "metadata": {
        "id": "gUttViY4jzi8"
      },
      "source": [
        "Dari sini kita dapat melihat jika normalizing data menghasilkan 10% lebih sedikit error menggunakan model yang sama dibandingkan dengan tidak menormalkan data.\n",
        "\n",
        "Ini adalah **salah satu keuntungan utama dari normalization: waktu konvergensi yang lebih cepat** (cara yang lebih elegan dikatakan, model kalian akan mendapatkan hasil yang lebih baik dengan lebih cepat).\n",
        "\n",
        "`insurance_model_2` pada akhirnya dapat mencapai hasil yang sama dengan  `insurance_model_3` jika kita membiarkannya berlatih lebih lama.\n",
        "\n",
        "Selain itu, hasilnya dapat berubah jika kita mengubah arsitektur model, misalnya. menambahkan lebih banyak layer atau hidden units per layer.\n",
        "\n",
        "Tetapi tujuan utama kita sebagai perekayasa neural network adalah untuk mengurangi waktu antara percobaan, apapun yang membantu kita mendapatkan hasil yang lebih baik dan cepat adalah nilai tambahan."
      ]
    },
    {
      "cell_type": "markdown",
      "metadata": {
        "id": "NhIPO_KqocHP"
      },
      "source": [
        "## 🛠 Latihan\n",
        "\n",
        "Kita sudah membahas banyak hal dengan cukup cepat.\n",
        "\n",
        "Jadi sekarang saatnya untuk **bereksperimen secara mandiri** dengan beberapa hal dan mulai membangun intuisi kalian.\n",
        "\n",
        "Kami menekankan kata bereksperimen secara mandiri karena memang itu sangatlah penting. Cobalah beberapa hal, jalankan kodenya dan lihat apa yang terjadi.\n",
        "\n",
        "1. Buatlah regression dataset kalian sendiri (atau buatlah dataset yang telah kita buat di \"Membuat data untuk di lihat (view) dan disesuaikan (fit)\" menjadi lebih besar) dan buatlah model yang sesuai dengan dataset tersebut.\n",
        "2. Coba buat neural network dengan 4 Dense layers dan lakukan penyesuaian (fitting) dengan regression dataset, bagaimana kinerjanya?\n",
        "3. Coba tingkatkan hasil yang kita dapatkan pada insurance dataset, beberapa hal yang mungkin ingin Anda coba antara lain:\n",
        "  * Membangun model yang lebih besar (bagaimana hasil dari model dengan 4 dense layers?).\n",
        "  * Menambah number of units disetiap layer.\n",
        "  * Lihat dokumentasi dari [Adam](https://www.tensorflow.org/api_docs/python/tf/keras/optimizers/Adam) dan mencari tahu apa parameter pertamanya, apa yang terjadi jika kalian meningkatkannya sebanyak 10x?\n",
        "  * Apa yang terjadi jika Anda berlatih lebih lama (mungkin 300 epochs, bukan 200)?\n",
        "4. Import the [Boston pricing dataset](https://www.tensorflow.org/api_docs/python/tf/keras/datasets/boston_housing/load_data) dari TensorFlow [`tf.keras.datasets`](https://www.tensorflow.org/api_docs/python/tf/keras/datasets) dan buat modelnya.\n"
      ]
    },
    {
      "cell_type": "markdown",
      "metadata": {
        "id": "AyiHG2nubmu7"
      },
      "source": [
        "## 📖 Extra curriculum (Pembelajaran Tambahan)\n",
        "\n",
        "Jika Anda mencari materi tambahan yang berkaitan dengan hands-on ini, saya sarankan untuk melihat yang berikut ini:\n",
        "\n",
        "* [MIT introduction deep learning lecture 1](https://youtu.be/njKP3FqW3Sk) - gmemberikan gambaran umum yang bagus tentang apa yang terjadi di balik semua kode yang kita jalankan.\n",
        "* Membaca: 1 jam dari [Bab 1 of Neural Networks dan Deep Learning](http://neuralnetworksanddeeplearning.com/chap1.html) oleh Michael Nielson - contoh yang sangat mendalam dan praktis tentang intuisi di balik neural networks.\n",
        "\n",
        "Untuk melatih regression modelling kalian dengan TensorFlow, saya juga menyarankan kalian untuk melihat [Lion Bridge's collection of datasets](https://lionbridge.ai/datasets/) atau [Kaggle's datasets](https://www.kaggle.com/data), lalu carilah regression dataset yang menarik bagi Anda dan cobalah membuat model."
      ]
    }
  ]
}